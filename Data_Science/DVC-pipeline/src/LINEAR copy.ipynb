{
  "cells": [
    {
      "cell_type": "markdown",
      "metadata": {
        "colab_type": "text",
        "id": "view-in-github"
      },
      "source": [
        "<a href=\"https://colab.research.google.com/github/MinahilSadiq1/Artificial_Neural_Network_for_Iris_Dataset/blob/main/Neural_Network_Architecture_MINAHIL_CI_A1.ipynb\" target=\"_parent\"><img src=\"https://colab.research.google.com/assets/colab-badge.svg\" alt=\"Open In Colab\"/></a>"
      ]
    },
    {
      "cell_type": "markdown",
      "metadata": {
        "id": "WTwGs5Wkwr9W"
      },
      "source": [
        "# **Importing Libraries and Dataset**"
      ]
    },
    {
      "cell_type": "code",
      "execution_count": 1,
      "metadata": {
        "id": "RhcB7LKRX4fw"
      },
      "outputs": [
        {
          "name": "stderr",
          "output_type": "stream",
          "text": [
            "2023-12-23 15:57:35.504955: I external/local_tsl/tsl/cuda/cudart_stub.cc:31] Could not find cuda drivers on your machine, GPU will not be used.\n",
            "2023-12-23 15:57:38.642122: E external/local_xla/xla/stream_executor/cuda/cuda_dnn.cc:9261] Unable to register cuDNN factory: Attempting to register factory for plugin cuDNN when one has already been registered\n",
            "2023-12-23 15:57:38.642387: E external/local_xla/xla/stream_executor/cuda/cuda_fft.cc:607] Unable to register cuFFT factory: Attempting to register factory for plugin cuFFT when one has already been registered\n",
            "2023-12-23 15:57:39.203428: E external/local_xla/xla/stream_executor/cuda/cuda_blas.cc:1515] Unable to register cuBLAS factory: Attempting to register factory for plugin cuBLAS when one has already been registered\n",
            "2023-12-23 15:57:41.425163: I external/local_tsl/tsl/cuda/cudart_stub.cc:31] Could not find cuda drivers on your machine, GPU will not be used.\n",
            "2023-12-23 15:57:41.428610: I tensorflow/core/platform/cpu_feature_guard.cc:182] This TensorFlow binary is optimized to use available CPU instructions in performance-critical operations.\n",
            "To enable the following instructions: AVX2 FMA, in other operations, rebuild TensorFlow with the appropriate compiler flags.\n",
            "2023-12-23 15:57:52.656113: W tensorflow/compiler/tf2tensorrt/utils/py_utils.cc:38] TF-TRT Warning: Could not find TensorRT\n"
          ]
        }
      ],
      "source": [
        "import numpy as np\n",
        "from keras.models import Sequential\n",
        "from keras.layers import Dense\n",
        "from keras.utils import to_categorical\n",
        "from sklearn.datasets import load_iris\n",
        "from sklearn.model_selection import train_test_split"
      ]
    },
    {
      "cell_type": "code",
      "execution_count": 2,
      "metadata": {
        "id": "4Py1VGlHYVuX"
      },
      "outputs": [
        {
          "ename": "NameError",
          "evalue": "name 'pd' is not defined",
          "output_type": "error",
          "traceback": [
            "\u001b[0;31m---------------------------------------------------------------------------\u001b[0m",
            "\u001b[0;31mNameError\u001b[0m                                 Traceback (most recent call last)",
            "Cell \u001b[0;32mIn[2], line 2\u001b[0m\n\u001b[1;32m      1\u001b[0m \u001b[38;5;66;03m#loading dataset\u001b[39;00m\n\u001b[0;32m----> 2\u001b[0m iris  \u001b[38;5;241m=\u001b[39m \u001b[43mpd\u001b[49m\u001b[38;5;241m.\u001b[39mread_excel(\u001b[38;5;124m'\u001b[39m\u001b[38;5;124mUSD.xlsx\u001b[39m\u001b[38;5;124m'\u001b[39m)\n",
            "\u001b[0;31mNameError\u001b[0m: name 'pd' is not defined"
          ]
        }
      ],
      "source": [
        "#loading dataset\n",
        "iris  = pd.read_excel('USD.xlsx')"
      ]
    },
    {
      "cell_type": "code",
      "execution_count": null,
      "metadata": {
        "id": "rjRoJrmuYZ64"
      },
      "outputs": [],
      "source": [
        "#splitting data into input and output\n",
        "X = iris.data\n",
        "y = iris.target"
      ]
    },
    {
      "cell_type": "markdown",
      "metadata": {
        "id": "a6t9Q0qGw5iH"
      },
      "source": [
        "# **Training and Testing Split**"
      ]
    },
    {
      "cell_type": "code",
      "execution_count": null,
      "metadata": {
        "id": "eHAHGMSqYeWm"
      },
      "outputs": [],
      "source": [
        "# split the dataset into training and testing sets with the ratio of 70/30\n",
        "X_train, X_test, y_train, y_test = train_test_split(X, y, test_size=0.3)"
      ]
    },
    {
      "cell_type": "code",
      "execution_count": null,
      "metadata": {
        "id": "EKMBMIxZYjB5"
      },
      "outputs": [],
      "source": [
        "# convert the target variable to categorical format\n",
        "y_train = to_categorical(y_train)\n",
        "y_test = to_categorical(y_test)"
      ]
    },
    {
      "cell_type": "markdown",
      "metadata": {
        "id": "t0stjPwjxf4Q"
      },
      "source": [
        "# **NEURAL NETWORK ARCHITECTURE with LINEAR**"
      ]
    },
    {
      "cell_type": "code",
      "execution_count": null,
      "metadata": {
        "id": "m9SooqGKwKEa"
      },
      "outputs": [],
      "source": [
        "#using Relu,linear Activation function defining neural network architecture\n",
        "model = Sequential()\n",
        "model.add(Dense(10, input_dim=4, activation='relu'))\n",
        "model.add(Dense(8, activation='linear'))\n",
        "model.add(Dense(3, activation='softmax'))"
      ]
    },
    {
      "cell_type": "code",
      "execution_count": null,
      "metadata": {
        "id": "aO8-D3wCwTM2"
      },
      "outputs": [
        {
          "name": "stdout",
          "output_type": "stream",
          "text": [
            "Epoch 1/50\n",
            "11/11 [==============================] - 1s 2ms/step - loss: 0.0772 - accuracy: 0.9810\n",
            "Epoch 2/50\n",
            "11/11 [==============================] - 0s 3ms/step - loss: 0.0706 - accuracy: 0.9810\n",
            "Epoch 3/50\n",
            "11/11 [==============================] - 0s 2ms/step - loss: 0.0632 - accuracy: 0.9810\n",
            "Epoch 4/50\n",
            "11/11 [==============================] - 0s 2ms/step - loss: 0.0655 - accuracy: 0.9810\n",
            "Epoch 5/50\n",
            "11/11 [==============================] - 0s 2ms/step - loss: 0.0673 - accuracy: 0.9810\n",
            "Epoch 6/50\n",
            "11/11 [==============================] - 0s 2ms/step - loss: 0.0639 - accuracy: 0.9810\n",
            "Epoch 7/50\n",
            "11/11 [==============================] - 0s 3ms/step - loss: 0.0622 - accuracy: 0.9810\n",
            "Epoch 8/50\n",
            "11/11 [==============================] - 0s 2ms/step - loss: 0.0630 - accuracy: 0.9810\n",
            "Epoch 9/50\n",
            "11/11 [==============================] - 0s 2ms/step - loss: 0.0614 - accuracy: 0.9810\n",
            "Epoch 10/50\n",
            "11/11 [==============================] - 0s 2ms/step - loss: 0.0629 - accuracy: 0.9810\n",
            "Epoch 11/50\n",
            "11/11 [==============================] - 0s 3ms/step - loss: 0.0610 - accuracy: 0.9810\n",
            "Epoch 12/50\n",
            "11/11 [==============================] - 0s 2ms/step - loss: 0.0655 - accuracy: 0.9810\n",
            "Epoch 13/50\n",
            "11/11 [==============================] - 0s 2ms/step - loss: 0.0615 - accuracy: 0.9810\n",
            "Epoch 14/50\n",
            "11/11 [==============================] - 0s 2ms/step - loss: 0.0615 - accuracy: 0.9810\n",
            "Epoch 15/50\n",
            "11/11 [==============================] - 0s 2ms/step - loss: 0.0602 - accuracy: 0.9810\n",
            "Epoch 16/50\n",
            "11/11 [==============================] - 0s 2ms/step - loss: 0.0632 - accuracy: 0.9810\n",
            "Epoch 17/50\n",
            "11/11 [==============================] - 0s 2ms/step - loss: 0.0638 - accuracy: 0.9810\n",
            "Epoch 18/50\n",
            "11/11 [==============================] - 0s 2ms/step - loss: 0.0602 - accuracy: 0.9810\n",
            "Epoch 19/50\n",
            "11/11 [==============================] - 0s 2ms/step - loss: 0.0610 - accuracy: 0.9810\n",
            "Epoch 20/50\n",
            "11/11 [==============================] - 0s 2ms/step - loss: 0.0611 - accuracy: 0.9810\n",
            "Epoch 21/50\n",
            "11/11 [==============================] - 0s 3ms/step - loss: 0.0603 - accuracy: 0.9810\n",
            "Epoch 22/50\n",
            "11/11 [==============================] - 0s 3ms/step - loss: 0.0639 - accuracy: 0.9810\n",
            "Epoch 23/50\n",
            "11/11 [==============================] - 0s 3ms/step - loss: 0.0619 - accuracy: 0.9810\n",
            "Epoch 24/50\n",
            "11/11 [==============================] - 0s 7ms/step - loss: 0.0591 - accuracy: 0.9810\n",
            "Epoch 25/50\n",
            "11/11 [==============================] - 0s 6ms/step - loss: 0.0605 - accuracy: 0.9810\n",
            "Epoch 26/50\n",
            "11/11 [==============================] - 0s 4ms/step - loss: 0.0605 - accuracy: 0.9810\n",
            "Epoch 27/50\n",
            "11/11 [==============================] - 0s 3ms/step - loss: 0.0608 - accuracy: 0.9810\n",
            "Epoch 28/50\n",
            "11/11 [==============================] - 0s 3ms/step - loss: 0.0601 - accuracy: 0.9810\n",
            "Epoch 29/50\n",
            "11/11 [==============================] - 0s 4ms/step - loss: 0.0645 - accuracy: 0.9810\n",
            "Epoch 30/50\n",
            "11/11 [==============================] - 0s 4ms/step - loss: 0.0599 - accuracy: 0.9810\n",
            "Epoch 31/50\n",
            "11/11 [==============================] - 0s 3ms/step - loss: 0.0618 - accuracy: 0.9810\n",
            "Epoch 32/50\n",
            "11/11 [==============================] - 0s 3ms/step - loss: 0.0617 - accuracy: 0.9810\n",
            "Epoch 33/50\n",
            "11/11 [==============================] - 0s 3ms/step - loss: 0.0600 - accuracy: 0.9810\n",
            "Epoch 34/50\n",
            "11/11 [==============================] - 0s 3ms/step - loss: 0.0593 - accuracy: 0.9810\n",
            "Epoch 35/50\n",
            "11/11 [==============================] - 0s 4ms/step - loss: 0.0589 - accuracy: 0.9810\n",
            "Epoch 36/50\n",
            "11/11 [==============================] - 0s 4ms/step - loss: 0.0637 - accuracy: 0.9810\n",
            "Epoch 37/50\n",
            "11/11 [==============================] - 0s 3ms/step - loss: 0.0570 - accuracy: 0.9810\n",
            "Epoch 38/50\n",
            "11/11 [==============================] - 0s 3ms/step - loss: 0.0605 - accuracy: 0.9810\n",
            "Epoch 39/50\n",
            "11/11 [==============================] - 0s 3ms/step - loss: 0.0596 - accuracy: 0.9810\n",
            "Epoch 40/50\n",
            "11/11 [==============================] - 0s 3ms/step - loss: 0.0619 - accuracy: 0.9810\n",
            "Epoch 41/50\n",
            "11/11 [==============================] - 0s 3ms/step - loss: 0.0628 - accuracy: 0.9810\n",
            "Epoch 42/50\n",
            "11/11 [==============================] - 0s 3ms/step - loss: 0.0591 - accuracy: 0.9810\n",
            "Epoch 43/50\n",
            "11/11 [==============================] - 0s 3ms/step - loss: 0.0600 - accuracy: 0.9810\n",
            "Epoch 44/50\n",
            "11/11 [==============================] - 0s 3ms/step - loss: 0.0596 - accuracy: 0.9810\n",
            "Epoch 45/50\n",
            "11/11 [==============================] - 0s 3ms/step - loss: 0.0576 - accuracy: 0.9810\n",
            "Epoch 46/50\n",
            "11/11 [==============================] - 0s 3ms/step - loss: 0.0660 - accuracy: 0.9810\n",
            "Epoch 47/50\n",
            "11/11 [==============================] - 0s 3ms/step - loss: 0.0563 - accuracy: 0.9810\n",
            "Epoch 48/50\n",
            "11/11 [==============================] - 0s 3ms/step - loss: 0.0558 - accuracy: 0.9810\n",
            "Epoch 49/50\n",
            "11/11 [==============================] - 0s 3ms/step - loss: 0.0602 - accuracy: 0.9810\n",
            "Epoch 50/50\n",
            "11/11 [==============================] - 0s 3ms/step - loss: 0.0593 - accuracy: 0.9810\n"
          ]
        }
      ],
      "source": [
        "from matplotlib import pyplot as plt\n",
        "from dvclive import Live\n",
        "from PIL import Image\n",
        "\n",
        "with Live(cache_images=True) as live:\n",
        "    # compiling the model\n",
        "    model.compile(loss='categorical_crossentropy', optimizer='adam', metrics=['accuracy'])\n",
        "\n",
        "    #live.next_step()\n",
        "    \n",
        "    # training the model\n",
        "    history = model.fit(X_train, y_train, epochs=50, batch_size=10)\n",
        "    plt.plot(history.history['accuracy'])\n",
        "    plt.title('model accuracy')\n",
        "    plt.ylabel('accuracy')\n",
        "    plt.xlabel('epoch')\n",
        "    plt.legend(['train', 'val'], loc='upper left')\n",
        "    plt.show()\n",
        "\n",
        "    #live.log_image(\"plt_lin.png\", plt)\n",
        "\n",
        "    # evaluating the model on the testing set\n",
        "    loss, accuracy2 = model.evaluate(X_test, y_test)\n",
        "\n",
        "    live.log_metric(\"acc_lin\", accuracy2)\n",
        "    #live.next_step()\n",
        "    #live.make_summary()\n"
      ]
    },
    {
      "cell_type": "code",
      "execution_count": null,
      "metadata": {
        "colab": {
          "base_uri": "https://localhost:8080/"
        },
        "id": "xtR5Is-ZwfQD",
        "outputId": "1d5f024c-1744-468f-94ca-5fd6fc2bb9b3"
      },
      "outputs": [
        {
          "name": "stdout",
          "output_type": "stream",
          "text": [
            "Accuracy:  0.9555555582046509\n"
          ]
        }
      ],
      "source": [
        "# print the accuracy\n",
        "print('Accuracy: ', accuracy2)"
      ]
    }
  ],
  "metadata": {
    "colab": {
      "include_colab_link": true,
      "provenance": []
    },
    "kernelspec": {
      "display_name": "Python 3",
      "name": "python3"
    },
    "language_info": {
      "codemirror_mode": {
        "name": "ipython",
        "version": 3
      },
      "file_extension": ".py",
      "mimetype": "text/x-python",
      "name": "python",
      "nbconvert_exporter": "python",
      "pygments_lexer": "ipython3",
      "version": "3.11.4"
    }
  },
  "nbformat": 4,
  "nbformat_minor": 0
}
