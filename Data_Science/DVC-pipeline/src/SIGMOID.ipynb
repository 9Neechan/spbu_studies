{
  "cells": [
    {
      "cell_type": "markdown",
      "metadata": {
        "colab_type": "text",
        "id": "view-in-github"
      },
      "source": [
        "<a href=\"https://colab.research.google.com/github/MinahilSadiq1/Artificial_Neural_Network_for_Iris_Dataset/blob/main/Neural_Network_Architecture_MINAHIL_CI_A1.ipynb\" target=\"_parent\"><img src=\"https://colab.research.google.com/assets/colab-badge.svg\" alt=\"Open In Colab\"/></a>"
      ]
    },
    {
      "cell_type": "markdown",
      "metadata": {
        "id": "WTwGs5Wkwr9W"
      },
      "source": [
        "# **Importing Libraries and Dataset**"
      ]
    },
    {
      "cell_type": "code",
      "execution_count": 1,
      "metadata": {
        "id": "RhcB7LKRX4fw"
      },
      "outputs": [
        {
          "name": "stderr",
          "output_type": "stream",
          "text": [
            "2023-12-22 01:29:58.650811: I external/local_tsl/tsl/cuda/cudart_stub.cc:31] Could not find cuda drivers on your machine, GPU will not be used.\n",
            "2023-12-22 01:29:58.797919: E external/local_xla/xla/stream_executor/cuda/cuda_dnn.cc:9261] Unable to register cuDNN factory: Attempting to register factory for plugin cuDNN when one has already been registered\n",
            "2023-12-22 01:29:58.797985: E external/local_xla/xla/stream_executor/cuda/cuda_fft.cc:607] Unable to register cuFFT factory: Attempting to register factory for plugin cuFFT when one has already been registered\n",
            "2023-12-22 01:29:58.818760: E external/local_xla/xla/stream_executor/cuda/cuda_blas.cc:1515] Unable to register cuBLAS factory: Attempting to register factory for plugin cuBLAS when one has already been registered\n",
            "2023-12-22 01:29:58.864473: I external/local_tsl/tsl/cuda/cudart_stub.cc:31] Could not find cuda drivers on your machine, GPU will not be used.\n",
            "2023-12-22 01:29:58.865684: I tensorflow/core/platform/cpu_feature_guard.cc:182] This TensorFlow binary is optimized to use available CPU instructions in performance-critical operations.\n",
            "To enable the following instructions: AVX2 FMA, in other operations, rebuild TensorFlow with the appropriate compiler flags.\n",
            "2023-12-22 01:30:01.344330: W tensorflow/compiler/tf2tensorrt/utils/py_utils.cc:38] TF-TRT Warning: Could not find TensorRT\n"
          ]
        }
      ],
      "source": [
        "import numpy as np\n",
        "from keras.models import Sequential\n",
        "from keras.layers import Dense\n",
        "from keras.utils import to_categorical\n",
        "from sklearn.datasets import load_iris\n",
        "from sklearn.model_selection import train_test_split"
      ]
    },
    {
      "cell_type": "code",
      "execution_count": 2,
      "metadata": {
        "id": "4Py1VGlHYVuX"
      },
      "outputs": [],
      "source": [
        "#loading dataset\n",
        "iris = load_iris()"
      ]
    },
    {
      "cell_type": "code",
      "execution_count": 3,
      "metadata": {
        "id": "cJf9_fRUYqfP"
      },
      "outputs": [
        {
          "data": {
            "text/plain": [
              "{'data': array([[5.1, 3.5, 1.4, 0.2],\n",
              "        [4.9, 3. , 1.4, 0.2],\n",
              "        [4.7, 3.2, 1.3, 0.2],\n",
              "        [4.6, 3.1, 1.5, 0.2],\n",
              "        [5. , 3.6, 1.4, 0.2],\n",
              "        [5.4, 3.9, 1.7, 0.4],\n",
              "        [4.6, 3.4, 1.4, 0.3],\n",
              "        [5. , 3.4, 1.5, 0.2],\n",
              "        [4.4, 2.9, 1.4, 0.2],\n",
              "        [4.9, 3.1, 1.5, 0.1],\n",
              "        [5.4, 3.7, 1.5, 0.2],\n",
              "        [4.8, 3.4, 1.6, 0.2],\n",
              "        [4.8, 3. , 1.4, 0.1],\n",
              "        [4.3, 3. , 1.1, 0.1],\n",
              "        [5.8, 4. , 1.2, 0.2],\n",
              "        [5.7, 4.4, 1.5, 0.4],\n",
              "        [5.4, 3.9, 1.3, 0.4],\n",
              "        [5.1, 3.5, 1.4, 0.3],\n",
              "        [5.7, 3.8, 1.7, 0.3],\n",
              "        [5.1, 3.8, 1.5, 0.3],\n",
              "        [5.4, 3.4, 1.7, 0.2],\n",
              "        [5.1, 3.7, 1.5, 0.4],\n",
              "        [4.6, 3.6, 1. , 0.2],\n",
              "        [5.1, 3.3, 1.7, 0.5],\n",
              "        [4.8, 3.4, 1.9, 0.2],\n",
              "        [5. , 3. , 1.6, 0.2],\n",
              "        [5. , 3.4, 1.6, 0.4],\n",
              "        [5.2, 3.5, 1.5, 0.2],\n",
              "        [5.2, 3.4, 1.4, 0.2],\n",
              "        [4.7, 3.2, 1.6, 0.2],\n",
              "        [4.8, 3.1, 1.6, 0.2],\n",
              "        [5.4, 3.4, 1.5, 0.4],\n",
              "        [5.2, 4.1, 1.5, 0.1],\n",
              "        [5.5, 4.2, 1.4, 0.2],\n",
              "        [4.9, 3.1, 1.5, 0.2],\n",
              "        [5. , 3.2, 1.2, 0.2],\n",
              "        [5.5, 3.5, 1.3, 0.2],\n",
              "        [4.9, 3.6, 1.4, 0.1],\n",
              "        [4.4, 3. , 1.3, 0.2],\n",
              "        [5.1, 3.4, 1.5, 0.2],\n",
              "        [5. , 3.5, 1.3, 0.3],\n",
              "        [4.5, 2.3, 1.3, 0.3],\n",
              "        [4.4, 3.2, 1.3, 0.2],\n",
              "        [5. , 3.5, 1.6, 0.6],\n",
              "        [5.1, 3.8, 1.9, 0.4],\n",
              "        [4.8, 3. , 1.4, 0.3],\n",
              "        [5.1, 3.8, 1.6, 0.2],\n",
              "        [4.6, 3.2, 1.4, 0.2],\n",
              "        [5.3, 3.7, 1.5, 0.2],\n",
              "        [5. , 3.3, 1.4, 0.2],\n",
              "        [7. , 3.2, 4.7, 1.4],\n",
              "        [6.4, 3.2, 4.5, 1.5],\n",
              "        [6.9, 3.1, 4.9, 1.5],\n",
              "        [5.5, 2.3, 4. , 1.3],\n",
              "        [6.5, 2.8, 4.6, 1.5],\n",
              "        [5.7, 2.8, 4.5, 1.3],\n",
              "        [6.3, 3.3, 4.7, 1.6],\n",
              "        [4.9, 2.4, 3.3, 1. ],\n",
              "        [6.6, 2.9, 4.6, 1.3],\n",
              "        [5.2, 2.7, 3.9, 1.4],\n",
              "        [5. , 2. , 3.5, 1. ],\n",
              "        [5.9, 3. , 4.2, 1.5],\n",
              "        [6. , 2.2, 4. , 1. ],\n",
              "        [6.1, 2.9, 4.7, 1.4],\n",
              "        [5.6, 2.9, 3.6, 1.3],\n",
              "        [6.7, 3.1, 4.4, 1.4],\n",
              "        [5.6, 3. , 4.5, 1.5],\n",
              "        [5.8, 2.7, 4.1, 1. ],\n",
              "        [6.2, 2.2, 4.5, 1.5],\n",
              "        [5.6, 2.5, 3.9, 1.1],\n",
              "        [5.9, 3.2, 4.8, 1.8],\n",
              "        [6.1, 2.8, 4. , 1.3],\n",
              "        [6.3, 2.5, 4.9, 1.5],\n",
              "        [6.1, 2.8, 4.7, 1.2],\n",
              "        [6.4, 2.9, 4.3, 1.3],\n",
              "        [6.6, 3. , 4.4, 1.4],\n",
              "        [6.8, 2.8, 4.8, 1.4],\n",
              "        [6.7, 3. , 5. , 1.7],\n",
              "        [6. , 2.9, 4.5, 1.5],\n",
              "        [5.7, 2.6, 3.5, 1. ],\n",
              "        [5.5, 2.4, 3.8, 1.1],\n",
              "        [5.5, 2.4, 3.7, 1. ],\n",
              "        [5.8, 2.7, 3.9, 1.2],\n",
              "        [6. , 2.7, 5.1, 1.6],\n",
              "        [5.4, 3. , 4.5, 1.5],\n",
              "        [6. , 3.4, 4.5, 1.6],\n",
              "        [6.7, 3.1, 4.7, 1.5],\n",
              "        [6.3, 2.3, 4.4, 1.3],\n",
              "        [5.6, 3. , 4.1, 1.3],\n",
              "        [5.5, 2.5, 4. , 1.3],\n",
              "        [5.5, 2.6, 4.4, 1.2],\n",
              "        [6.1, 3. , 4.6, 1.4],\n",
              "        [5.8, 2.6, 4. , 1.2],\n",
              "        [5. , 2.3, 3.3, 1. ],\n",
              "        [5.6, 2.7, 4.2, 1.3],\n",
              "        [5.7, 3. , 4.2, 1.2],\n",
              "        [5.7, 2.9, 4.2, 1.3],\n",
              "        [6.2, 2.9, 4.3, 1.3],\n",
              "        [5.1, 2.5, 3. , 1.1],\n",
              "        [5.7, 2.8, 4.1, 1.3],\n",
              "        [6.3, 3.3, 6. , 2.5],\n",
              "        [5.8, 2.7, 5.1, 1.9],\n",
              "        [7.1, 3. , 5.9, 2.1],\n",
              "        [6.3, 2.9, 5.6, 1.8],\n",
              "        [6.5, 3. , 5.8, 2.2],\n",
              "        [7.6, 3. , 6.6, 2.1],\n",
              "        [4.9, 2.5, 4.5, 1.7],\n",
              "        [7.3, 2.9, 6.3, 1.8],\n",
              "        [6.7, 2.5, 5.8, 1.8],\n",
              "        [7.2, 3.6, 6.1, 2.5],\n",
              "        [6.5, 3.2, 5.1, 2. ],\n",
              "        [6.4, 2.7, 5.3, 1.9],\n",
              "        [6.8, 3. , 5.5, 2.1],\n",
              "        [5.7, 2.5, 5. , 2. ],\n",
              "        [5.8, 2.8, 5.1, 2.4],\n",
              "        [6.4, 3.2, 5.3, 2.3],\n",
              "        [6.5, 3. , 5.5, 1.8],\n",
              "        [7.7, 3.8, 6.7, 2.2],\n",
              "        [7.7, 2.6, 6.9, 2.3],\n",
              "        [6. , 2.2, 5. , 1.5],\n",
              "        [6.9, 3.2, 5.7, 2.3],\n",
              "        [5.6, 2.8, 4.9, 2. ],\n",
              "        [7.7, 2.8, 6.7, 2. ],\n",
              "        [6.3, 2.7, 4.9, 1.8],\n",
              "        [6.7, 3.3, 5.7, 2.1],\n",
              "        [7.2, 3.2, 6. , 1.8],\n",
              "        [6.2, 2.8, 4.8, 1.8],\n",
              "        [6.1, 3. , 4.9, 1.8],\n",
              "        [6.4, 2.8, 5.6, 2.1],\n",
              "        [7.2, 3. , 5.8, 1.6],\n",
              "        [7.4, 2.8, 6.1, 1.9],\n",
              "        [7.9, 3.8, 6.4, 2. ],\n",
              "        [6.4, 2.8, 5.6, 2.2],\n",
              "        [6.3, 2.8, 5.1, 1.5],\n",
              "        [6.1, 2.6, 5.6, 1.4],\n",
              "        [7.7, 3. , 6.1, 2.3],\n",
              "        [6.3, 3.4, 5.6, 2.4],\n",
              "        [6.4, 3.1, 5.5, 1.8],\n",
              "        [6. , 3. , 4.8, 1.8],\n",
              "        [6.9, 3.1, 5.4, 2.1],\n",
              "        [6.7, 3.1, 5.6, 2.4],\n",
              "        [6.9, 3.1, 5.1, 2.3],\n",
              "        [5.8, 2.7, 5.1, 1.9],\n",
              "        [6.8, 3.2, 5.9, 2.3],\n",
              "        [6.7, 3.3, 5.7, 2.5],\n",
              "        [6.7, 3. , 5.2, 2.3],\n",
              "        [6.3, 2.5, 5. , 1.9],\n",
              "        [6.5, 3. , 5.2, 2. ],\n",
              "        [6.2, 3.4, 5.4, 2.3],\n",
              "        [5.9, 3. , 5.1, 1.8]]),\n",
              " 'target': array([0, 0, 0, 0, 0, 0, 0, 0, 0, 0, 0, 0, 0, 0, 0, 0, 0, 0, 0, 0, 0, 0,\n",
              "        0, 0, 0, 0, 0, 0, 0, 0, 0, 0, 0, 0, 0, 0, 0, 0, 0, 0, 0, 0, 0, 0,\n",
              "        0, 0, 0, 0, 0, 0, 1, 1, 1, 1, 1, 1, 1, 1, 1, 1, 1, 1, 1, 1, 1, 1,\n",
              "        1, 1, 1, 1, 1, 1, 1, 1, 1, 1, 1, 1, 1, 1, 1, 1, 1, 1, 1, 1, 1, 1,\n",
              "        1, 1, 1, 1, 1, 1, 1, 1, 1, 1, 1, 1, 2, 2, 2, 2, 2, 2, 2, 2, 2, 2,\n",
              "        2, 2, 2, 2, 2, 2, 2, 2, 2, 2, 2, 2, 2, 2, 2, 2, 2, 2, 2, 2, 2, 2,\n",
              "        2, 2, 2, 2, 2, 2, 2, 2, 2, 2, 2, 2, 2, 2, 2, 2, 2, 2]),\n",
              " 'frame': None,\n",
              " 'target_names': array(['setosa', 'versicolor', 'virginica'], dtype='<U10'),\n",
              " 'DESCR': '.. _iris_dataset:\\n\\nIris plants dataset\\n--------------------\\n\\n**Data Set Characteristics:**\\n\\n    :Number of Instances: 150 (50 in each of three classes)\\n    :Number of Attributes: 4 numeric, predictive attributes and the class\\n    :Attribute Information:\\n        - sepal length in cm\\n        - sepal width in cm\\n        - petal length in cm\\n        - petal width in cm\\n        - class:\\n                - Iris-Setosa\\n                - Iris-Versicolour\\n                - Iris-Virginica\\n                \\n    :Summary Statistics:\\n\\n    ============== ==== ==== ======= ===== ====================\\n                    Min  Max   Mean    SD   Class Correlation\\n    ============== ==== ==== ======= ===== ====================\\n    sepal length:   4.3  7.9   5.84   0.83    0.7826\\n    sepal width:    2.0  4.4   3.05   0.43   -0.4194\\n    petal length:   1.0  6.9   3.76   1.76    0.9490  (high!)\\n    petal width:    0.1  2.5   1.20   0.76    0.9565  (high!)\\n    ============== ==== ==== ======= ===== ====================\\n\\n    :Missing Attribute Values: None\\n    :Class Distribution: 33.3% for each of 3 classes.\\n    :Creator: R.A. Fisher\\n    :Donor: Michael Marshall (MARSHALL%PLU@io.arc.nasa.gov)\\n    :Date: July, 1988\\n\\nThe famous Iris database, first used by Sir R.A. Fisher. The dataset is taken\\nfrom Fisher\\'s paper. Note that it\\'s the same as in R, but not as in the UCI\\nMachine Learning Repository, which has two wrong data points.\\n\\nThis is perhaps the best known database to be found in the\\npattern recognition literature.  Fisher\\'s paper is a classic in the field and\\nis referenced frequently to this day.  (See Duda & Hart, for example.)  The\\ndata set contains 3 classes of 50 instances each, where each class refers to a\\ntype of iris plant.  One class is linearly separable from the other 2; the\\nlatter are NOT linearly separable from each other.\\n\\n.. topic:: References\\n\\n   - Fisher, R.A. \"The use of multiple measurements in taxonomic problems\"\\n     Annual Eugenics, 7, Part II, 179-188 (1936); also in \"Contributions to\\n     Mathematical Statistics\" (John Wiley, NY, 1950).\\n   - Duda, R.O., & Hart, P.E. (1973) Pattern Classification and Scene Analysis.\\n     (Q327.D83) John Wiley & Sons.  ISBN 0-471-22361-1.  See page 218.\\n   - Dasarathy, B.V. (1980) \"Nosing Around the Neighborhood: A New System\\n     Structure and Classification Rule for Recognition in Partially Exposed\\n     Environments\".  IEEE Transactions on Pattern Analysis and Machine\\n     Intelligence, Vol. PAMI-2, No. 1, 67-71.\\n   - Gates, G.W. (1972) \"The Reduced Nearest Neighbor Rule\".  IEEE Transactions\\n     on Information Theory, May 1972, 431-433.\\n   - See also: 1988 MLC Proceedings, 54-64.  Cheeseman et al\"s AUTOCLASS II\\n     conceptual clustering system finds 3 classes in the data.\\n   - Many, many more ...',\n",
              " 'feature_names': ['sepal length (cm)',\n",
              "  'sepal width (cm)',\n",
              "  'petal length (cm)',\n",
              "  'petal width (cm)'],\n",
              " 'filename': 'iris.csv',\n",
              " 'data_module': 'sklearn.datasets.data'}"
            ]
          },
          "metadata": {},
          "output_type": "display_data"
        }
      ],
      "source": [
        "#showing records\n",
        "from IPython.display import HTML, display\n",
        "display(iris)"
      ]
    },
    {
      "cell_type": "code",
      "execution_count": 4,
      "metadata": {
        "id": "rjRoJrmuYZ64"
      },
      "outputs": [],
      "source": [
        "#splitting data into input and output\n",
        "X = iris.data\n",
        "y = iris.target"
      ]
    },
    {
      "cell_type": "markdown",
      "metadata": {
        "id": "a6t9Q0qGw5iH"
      },
      "source": [
        "# **Training and Testing Split**"
      ]
    },
    {
      "cell_type": "code",
      "execution_count": 5,
      "metadata": {
        "id": "eHAHGMSqYeWm"
      },
      "outputs": [],
      "source": [
        "# split the dataset into training and testing sets with the ratio of 70/30\n",
        "X_train, X_test, y_train, y_test = train_test_split(X, y, test_size=0.3)"
      ]
    },
    {
      "cell_type": "code",
      "execution_count": 6,
      "metadata": {
        "id": "EKMBMIxZYjB5"
      },
      "outputs": [],
      "source": [
        "# convert the target variable to categorical format\n",
        "y_train = to_categorical(y_train)\n",
        "y_test = to_categorical(y_test)"
      ]
    },
    {
      "cell_type": "markdown",
      "metadata": {
        "id": "vd2GoHhFxBqa"
      },
      "source": [
        "# **NEURAL NETWORK ARCHITECTURE with SIGMOID**"
      ]
    },
    {
      "cell_type": "code",
      "execution_count": 7,
      "metadata": {
        "id": "Mzu0rZj4YmsN"
      },
      "outputs": [],
      "source": [
        "#using Relu,sigmoid Activation function defining neural network architecture\n",
        "model = Sequential()\n",
        "model.add(Dense(10, input_dim=4, activation='relu'))\n",
        "model.add(Dense(8, activation='sigmoid'))\n",
        "model.add(Dense(3, activation='softmax'))"
      ]
    },
    {
      "cell_type": "code",
      "execution_count": 8,
      "metadata": {
        "id": "BunVXscUaLZs"
      },
      "outputs": [
        {
          "name": "stdout",
          "output_type": "stream",
          "text": [
            "Epoch 1/50\n",
            "11/11 [==============================] - 3s 5ms/step - loss: 1.2408 - accuracy: 0.3238\n",
            "Epoch 2/50\n",
            "11/11 [==============================] - 0s 4ms/step - loss: 1.1675 - accuracy: 0.3238\n",
            "Epoch 3/50\n",
            "11/11 [==============================] - 0s 5ms/step - loss: 1.1086 - accuracy: 0.3238\n",
            "Epoch 4/50\n",
            "11/11 [==============================] - 0s 4ms/step - loss: 1.0684 - accuracy: 0.3619\n",
            "Epoch 5/50\n",
            "11/11 [==============================] - 0s 4ms/step - loss: 1.0357 - accuracy: 0.4952\n",
            "Epoch 6/50\n",
            "11/11 [==============================] - 0s 5ms/step - loss: 1.0126 - accuracy: 0.6286\n",
            "Epoch 7/50\n",
            "11/11 [==============================] - 0s 5ms/step - loss: 0.9889 - accuracy: 0.6381\n",
            "Epoch 8/50\n",
            "11/11 [==============================] - 0s 4ms/step - loss: 0.9723 - accuracy: 0.6476\n",
            "Epoch 9/50\n",
            "11/11 [==============================] - 0s 3ms/step - loss: 0.9549 - accuracy: 0.6857\n",
            "Epoch 10/50\n",
            "11/11 [==============================] - 0s 6ms/step - loss: 0.9400 - accuracy: 0.7238\n",
            "Epoch 11/50\n",
            "11/11 [==============================] - 0s 3ms/step - loss: 0.9250 - accuracy: 0.8762\n",
            "Epoch 12/50\n",
            "11/11 [==============================] - 0s 4ms/step - loss: 0.9097 - accuracy: 0.9714\n",
            "Epoch 13/50\n",
            "11/11 [==============================] - 0s 2ms/step - loss: 0.8958 - accuracy: 0.8762\n",
            "Epoch 14/50\n",
            "11/11 [==============================] - 0s 2ms/step - loss: 0.8815 - accuracy: 0.8476\n",
            "Epoch 15/50\n",
            "11/11 [==============================] - 0s 2ms/step - loss: 0.8681 - accuracy: 0.7524\n",
            "Epoch 16/50\n",
            "11/11 [==============================] - 0s 2ms/step - loss: 0.8537 - accuracy: 0.7238\n",
            "Epoch 17/50\n",
            "11/11 [==============================] - 0s 2ms/step - loss: 0.8399 - accuracy: 0.7619\n",
            "Epoch 18/50\n",
            "11/11 [==============================] - 0s 2ms/step - loss: 0.8254 - accuracy: 0.8381\n",
            "Epoch 19/50\n",
            "11/11 [==============================] - 0s 2ms/step - loss: 0.8113 - accuracy: 0.8571\n",
            "Epoch 20/50\n",
            "11/11 [==============================] - 0s 2ms/step - loss: 0.7971 - accuracy: 0.8381\n",
            "Epoch 21/50\n",
            "11/11 [==============================] - 0s 2ms/step - loss: 0.7838 - accuracy: 0.7905\n",
            "Epoch 22/50\n",
            "11/11 [==============================] - 0s 3ms/step - loss: 0.7702 - accuracy: 0.7714\n",
            "Epoch 23/50\n",
            "11/11 [==============================] - 0s 3ms/step - loss: 0.7580 - accuracy: 0.8286\n",
            "Epoch 24/50\n",
            "11/11 [==============================] - 0s 3ms/step - loss: 0.7440 - accuracy: 0.8667\n",
            "Epoch 25/50\n",
            "11/11 [==============================] - 0s 4ms/step - loss: 0.7322 - accuracy: 0.9048\n",
            "Epoch 26/50\n",
            "11/11 [==============================] - 0s 3ms/step - loss: 0.7197 - accuracy: 0.8857\n",
            "Epoch 27/50\n",
            "11/11 [==============================] - 0s 3ms/step - loss: 0.7072 - accuracy: 0.8667\n",
            "Epoch 28/50\n",
            "11/11 [==============================] - 0s 3ms/step - loss: 0.6960 - accuracy: 0.8667\n",
            "Epoch 29/50\n",
            "11/11 [==============================] - 0s 3ms/step - loss: 0.6847 - accuracy: 0.9524\n",
            "Epoch 30/50\n",
            "11/11 [==============================] - 0s 3ms/step - loss: 0.6738 - accuracy: 0.9810\n",
            "Epoch 31/50\n",
            "11/11 [==============================] - 0s 4ms/step - loss: 0.6631 - accuracy: 0.9619\n",
            "Epoch 32/50\n",
            "11/11 [==============================] - 0s 3ms/step - loss: 0.6534 - accuracy: 0.9619\n",
            "Epoch 33/50\n",
            "11/11 [==============================] - 0s 4ms/step - loss: 0.6433 - accuracy: 0.9619\n",
            "Epoch 34/50\n",
            "11/11 [==============================] - 0s 4ms/step - loss: 0.6339 - accuracy: 0.9619\n",
            "Epoch 35/50\n",
            "11/11 [==============================] - 0s 4ms/step - loss: 0.6249 - accuracy: 0.9714\n",
            "Epoch 36/50\n",
            "11/11 [==============================] - 0s 4ms/step - loss: 0.6157 - accuracy: 0.9810\n",
            "Epoch 37/50\n",
            "11/11 [==============================] - 0s 4ms/step - loss: 0.6069 - accuracy: 0.9810\n",
            "Epoch 38/50\n",
            "11/11 [==============================] - 0s 3ms/step - loss: 0.5984 - accuracy: 0.9714\n",
            "Epoch 39/50\n",
            "11/11 [==============================] - 0s 4ms/step - loss: 0.5905 - accuracy: 0.9619\n",
            "Epoch 40/50\n",
            "11/11 [==============================] - 0s 4ms/step - loss: 0.5824 - accuracy: 0.9905\n",
            "Epoch 41/50\n",
            "11/11 [==============================] - 0s 4ms/step - loss: 0.5747 - accuracy: 0.9905\n",
            "Epoch 42/50\n",
            "11/11 [==============================] - 0s 4ms/step - loss: 0.5673 - accuracy: 0.9619\n",
            "Epoch 43/50\n",
            "11/11 [==============================] - 0s 4ms/step - loss: 0.5598 - accuracy: 0.9714\n",
            "Epoch 44/50\n",
            "11/11 [==============================] - 0s 4ms/step - loss: 0.5527 - accuracy: 0.9810\n",
            "Epoch 45/50\n",
            "11/11 [==============================] - 0s 4ms/step - loss: 0.5461 - accuracy: 0.9714\n",
            "Epoch 46/50\n",
            "11/11 [==============================] - 0s 4ms/step - loss: 0.5391 - accuracy: 0.9905\n",
            "Epoch 47/50\n",
            "11/11 [==============================] - 0s 4ms/step - loss: 0.5339 - accuracy: 0.9619\n",
            "Epoch 48/50\n",
            "11/11 [==============================] - 0s 4ms/step - loss: 0.5261 - accuracy: 0.9619\n",
            "Epoch 49/50\n",
            "11/11 [==============================] - 0s 4ms/step - loss: 0.5233 - accuracy: 0.9810\n",
            "Epoch 50/50\n",
            "11/11 [==============================] - 0s 4ms/step - loss: 0.5146 - accuracy: 0.9905\n",
            "2/2 [==============================] - 0s 6ms/step - loss: 0.4799 - accuracy: 0.9333\n"
          ]
        }
      ],
      "source": [
        "from matplotlib import pyplot as plt\n",
        "from dvclive import Live\n",
        "from PIL import Image\n",
        "\n",
        "with Live(cache_images=True) as live:\n",
        "    # compiling the model\n",
        "    model.compile(loss='categorical_crossentropy', optimizer='adam', metrics=['accuracy'])\n",
        "\n",
        "    #live.next_step()\n",
        "\n",
        "    # training the model\n",
        "    history = model.fit(X_train, y_train, epochs=50, batch_size=10)\n",
        "    plt.plot(history.history['accuracy'])\n",
        "    plt.title('model accuracy')\n",
        "    plt.ylabel('accuracy')\n",
        "    plt.xlabel('epoch')\n",
        "    plt.legend(['train', 'val'], loc='upper left')\n",
        "    plt.show()\n",
        "\n",
        "    #live.log_image(\"plt_lin.png\", plt)\n",
        "\n",
        "    # evaluating the model on the testing set\n",
        "    loss, accuracy2 = model.evaluate(X_test, y_test)\n",
        "\n",
        "    live.log_metric(\"acc_sigm\", accuracy2)\n",
        "    #live.next_step()\n",
        "    #live.make_summary()"
      ]
    },
    {
      "cell_type": "code",
      "execution_count": 9,
      "metadata": {
        "colab": {
          "base_uri": "https://localhost:8080/"
        },
        "id": "Dp9B_oCRvSHi",
        "outputId": "045500fd-e602-424a-b248-1d5b9adb25b7"
      },
      "outputs": [
        {
          "name": "stdout",
          "output_type": "stream",
          "text": [
            "Accuracy: 0.9333333373069763\n"
          ]
        }
      ],
      "source": [
        "# print the accuracy\n",
        "print('Accuracy:', accuracy2)"
      ]
    }
  ],
  "metadata": {
    "colab": {
      "include_colab_link": true,
      "provenance": []
    },
    "kernelspec": {
      "display_name": "Python 3",
      "name": "python3"
    },
    "language_info": {
      "codemirror_mode": {
        "name": "ipython",
        "version": 3
      },
      "file_extension": ".py",
      "mimetype": "text/x-python",
      "name": "python",
      "nbconvert_exporter": "python",
      "pygments_lexer": "ipython3",
      "version": "3.11.4"
    }
  },
  "nbformat": 4,
  "nbformat_minor": 0
}
