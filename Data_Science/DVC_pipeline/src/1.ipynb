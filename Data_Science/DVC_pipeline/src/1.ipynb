{
 "cells": [
  {
   "cell_type": "markdown",
   "metadata": {
    "collapsed": false
   },
   "source": [
    "# Solving Iris classification with Neural Networks\n",
    "\n",
    "In this practice you will apply different Neural Networks models to solve classification problem based on IRIS dataset.\n",
    "\n",
    "<div>\n",
    "    <img src=\"images/svm_irises.png\" width=\"800\"/>\n",
    "</div>\n"
   ]
  },
  {
   "cell_type": "code",
   "execution_count": 1,
   "metadata": {
    "collapsed": false,
    "pycharm": {
     "name": "#%%\n"
    }
   },
   "outputs": [],
   "source": [
    "import pandas as pd\n",
    "import numpy as np\n",
    "import matplotlib.pyplot as plt\n",
    "from sklearn import datasets\n",
    "from sklearn.preprocessing import StandardScaler\n",
    "%matplotlib inline"
   ]
  },
  {
   "cell_type": "markdown",
   "metadata": {
    "collapsed": false
   },
   "source": [
    "To load Iris dataset there is no need to go directly to kaggle, etc. Now, almost every well-known dataset is presented in the frameworks out of the box. The same SKLearn does.\n",
    "\n",
    "To get dataset simply use ```dataset``` package & do ```.load_``` of corresponding data."
   ]
  },
  {
   "cell_type": "code",
   "execution_count": 2,
   "metadata": {
    "collapsed": false,
    "pycharm": {
     "name": "#%%\n"
    }
   },
   "outputs": [],
   "source": [
    "iris = datasets.load_iris()"
   ]
  },
  {
   "cell_type": "markdown",
   "metadata": {
    "collapsed": false
   },
   "source": [
    "Lets investigate the given data"
   ]
  },
  {
   "cell_type": "code",
   "execution_count": 3,
   "metadata": {
    "collapsed": false,
    "pycharm": {
     "name": "#%%\n"
    }
   },
   "outputs": [
    {
     "name": "stdout",
     "output_type": "stream",
     "text": [
      "<class 'sklearn.utils._bunch.Bunch'>\n",
      "dict_keys(['data', 'target', 'frame', 'target_names', 'DESCR', 'feature_names', 'filename', 'data_module'])\n"
     ]
    }
   ],
   "source": [
    "# first understand the type of the object:\n",
    "print(type(iris))\n",
    "\n",
    "# searching for \"sklearn.utils.Bunch\" navgates to https://scikit-learn.org/stable/modules/generated/sklearn.utils.Bunch.html object description => hence this is just a key-value object\n",
    "print(iris.keys())\n",
    "\n",
    "# > dict_keys(['data', 'target', 'frame', 'target_names', 'DESCR', 'feature_names', 'filename'])"
   ]
  },
  {
   "cell_type": "markdown",
   "metadata": {
    "collapsed": false
   },
   "source": [
    "In Python accessing values could be done in different way, e.g.:\n",
    "```\n",
    "> print(iris.data)\n",
    "```\n",
    "or by addressing property by name:\n",
    "```\n",
    "> print(iris[\"data\"])\n",
    "```\n",
    "\n",
    "Note! property names are case-sensitive"
   ]
  },
  {
   "cell_type": "code",
   "execution_count": 4,
   "metadata": {
    "collapsed": false,
    "pycharm": {
     "name": "#%%\n"
    }
   },
   "outputs": [
    {
     "name": "stdout",
     "output_type": "stream",
     "text": [
      ".. _iris_dataset:\n",
      "\n",
      "Iris plants dataset\n",
      "--------------------\n",
      "\n",
      "**Data Set Characteristics:**\n",
      "\n",
      "    :Number of Instances: 150 (50 in each of three classes)\n",
      "    :Number of Attributes: 4 numeric, predictive attributes and the class\n",
      "    :Attribute Information:\n",
      "        - sepal length in cm\n",
      "        - sepal width in cm\n",
      "        - petal length in cm\n",
      "        - petal width in cm\n",
      "        - class:\n",
      "                - Iris-Setosa\n",
      "                - Iris-Versicolour\n",
      "                - Iris-Virginica\n",
      "                \n",
      "    :Summary Statistics:\n",
      "\n",
      "    ============== ==== ==== ======= ===== ====================\n",
      "                    Min  Max   Mean    SD   Class Correlation\n",
      "    ============== ==== ==== ======= ===== ====================\n",
      "    sepal length:   4.3  7.9   5.84   0.83    0.7826\n",
      "    sepal width:    2.0  4.4   3.05   0.43   -0.4194\n",
      "    petal length:   1.0  6.9   3.76   1.76    0.9490  (high!)\n",
      "    petal width:    0.1  2.5   1.20   0.76    0.9565  (high!)\n",
      "    ============== ==== ==== ======= ===== ====================\n",
      "\n",
      "    :Missing Attribute Values: None\n",
      "    :Class Distribution: 33.3% for each of 3 classes.\n",
      "    :Creator: R.A. Fisher\n",
      "    :Donor: Michael Marshall (MARSHALL%PLU@io.arc.nasa.gov)\n",
      "    :Date: July, 1988\n",
      "\n",
      "The famous Iris database, first used by Sir R.A. Fisher. The dataset is taken\n",
      "from Fisher's paper. Note that it's the same as in R, but not as in the UCI\n",
      "Machine Learning Repository, which has two wrong data points.\n",
      "\n",
      "This is perhaps the best known database to be found in the\n",
      "pattern recognition literature.  Fisher's paper is a classic in the field and\n",
      "is referenced frequently to this day.  (See Duda & Hart, for example.)  The\n",
      "data set contains 3 classes of 50 instances each, where each class refers to a\n",
      "type of iris plant.  One class is linearly separable from the other 2; the\n",
      "latter are NOT linearly separable from each other.\n",
      "\n",
      "|details-start|\n",
      "**References**\n",
      "|details-split|\n",
      "\n",
      "- Fisher, R.A. \"The use of multiple measurements in taxonomic problems\"\n",
      "  Annual Eugenics, 7, Part II, 179-188 (1936); also in \"Contributions to\n",
      "  Mathematical Statistics\" (John Wiley, NY, 1950).\n",
      "- Duda, R.O., & Hart, P.E. (1973) Pattern Classification and Scene Analysis.\n",
      "  (Q327.D83) John Wiley & Sons.  ISBN 0-471-22361-1.  See page 218.\n",
      "- Dasarathy, B.V. (1980) \"Nosing Around the Neighborhood: A New System\n",
      "  Structure and Classification Rule for Recognition in Partially Exposed\n",
      "  Environments\".  IEEE Transactions on Pattern Analysis and Machine\n",
      "  Intelligence, Vol. PAMI-2, No. 1, 67-71.\n",
      "- Gates, G.W. (1972) \"The Reduced Nearest Neighbor Rule\".  IEEE Transactions\n",
      "  on Information Theory, May 1972, 431-433.\n",
      "- See also: 1988 MLC Proceedings, 54-64.  Cheeseman et al\"s AUTOCLASS II\n",
      "  conceptual clustering system finds 3 classes in the data.\n",
      "- Many, many more ...\n",
      "\n",
      "|details-end|\n"
     ]
    }
   ],
   "source": [
    "print(iris.DESCR)"
   ]
  },
  {
   "cell_type": "code",
   "execution_count": 5,
   "metadata": {
    "collapsed": false,
    "pycharm": {
     "name": "#%%\n"
    }
   },
   "outputs": [],
   "source": [
    "# create a pandas dataframe based on the iris' data,\n",
    "# note: we're adding target column separately, cause it is not in the data object\n",
    "\n",
    "df = pd.DataFrame(iris.data, columns = iris.feature_names)\n",
    "#df['target'] = iris.target\n",
    "df['target'] = iris.target_names[iris.target]"
   ]
  },
  {
   "cell_type": "code",
   "execution_count": 6,
   "metadata": {
    "collapsed": false,
    "pycharm": {
     "name": "#%%\n"
    }
   },
   "outputs": [
    {
     "data": {
      "text/html": [
       "<div>\n",
       "<style scoped>\n",
       "    .dataframe tbody tr th:only-of-type {\n",
       "        vertical-align: middle;\n",
       "    }\n",
       "\n",
       "    .dataframe tbody tr th {\n",
       "        vertical-align: top;\n",
       "    }\n",
       "\n",
       "    .dataframe thead th {\n",
       "        text-align: right;\n",
       "    }\n",
       "</style>\n",
       "<table border=\"1\" class=\"dataframe\">\n",
       "  <thead>\n",
       "    <tr style=\"text-align: right;\">\n",
       "      <th></th>\n",
       "      <th>sepal length (cm)</th>\n",
       "      <th>sepal width (cm)</th>\n",
       "      <th>petal length (cm)</th>\n",
       "      <th>petal width (cm)</th>\n",
       "      <th>target</th>\n",
       "    </tr>\n",
       "  </thead>\n",
       "  <tbody>\n",
       "    <tr>\n",
       "      <th>0</th>\n",
       "      <td>5.1</td>\n",
       "      <td>3.5</td>\n",
       "      <td>1.4</td>\n",
       "      <td>0.2</td>\n",
       "      <td>setosa</td>\n",
       "    </tr>\n",
       "    <tr>\n",
       "      <th>1</th>\n",
       "      <td>4.9</td>\n",
       "      <td>3.0</td>\n",
       "      <td>1.4</td>\n",
       "      <td>0.2</td>\n",
       "      <td>setosa</td>\n",
       "    </tr>\n",
       "    <tr>\n",
       "      <th>2</th>\n",
       "      <td>4.7</td>\n",
       "      <td>3.2</td>\n",
       "      <td>1.3</td>\n",
       "      <td>0.2</td>\n",
       "      <td>setosa</td>\n",
       "    </tr>\n",
       "    <tr>\n",
       "      <th>3</th>\n",
       "      <td>4.6</td>\n",
       "      <td>3.1</td>\n",
       "      <td>1.5</td>\n",
       "      <td>0.2</td>\n",
       "      <td>setosa</td>\n",
       "    </tr>\n",
       "    <tr>\n",
       "      <th>4</th>\n",
       "      <td>5.0</td>\n",
       "      <td>3.6</td>\n",
       "      <td>1.4</td>\n",
       "      <td>0.2</td>\n",
       "      <td>setosa</td>\n",
       "    </tr>\n",
       "  </tbody>\n",
       "</table>\n",
       "</div>"
      ],
      "text/plain": [
       "   sepal length (cm)  sepal width (cm)  petal length (cm)  petal width (cm)  \\\n",
       "0                5.1               3.5                1.4               0.2   \n",
       "1                4.9               3.0                1.4               0.2   \n",
       "2                4.7               3.2                1.3               0.2   \n",
       "3                4.6               3.1                1.5               0.2   \n",
       "4                5.0               3.6                1.4               0.2   \n",
       "\n",
       "   target  \n",
       "0  setosa  \n",
       "1  setosa  \n",
       "2  setosa  \n",
       "3  setosa  \n",
       "4  setosa  "
      ]
     },
     "execution_count": 6,
     "metadata": {},
     "output_type": "execute_result"
    }
   ],
   "source": [
    "df.head()"
   ]
  },
  {
   "cell_type": "code",
   "execution_count": 7,
   "metadata": {
    "collapsed": false,
    "pycharm": {
     "name": "#%%\n"
    }
   },
   "outputs": [],
   "source": [
    "import mxnet as mx\n",
    "from mxnet.gluon.data.vision import transforms\n",
    "\n",
    "from mxnet import nd, gluon, autograd\n",
    "from mxnet.gluon import nn\n",
    "\n",
    "import pickle\n",
    "\n",
    "import numpy as np\n",
    "import matplotlib.pyplot as plt\n",
    "\n",
    "from sklearn.model_selection import train_test_split\n",
    "\n",
    "# Select a fixed random seed for reproducibility\n",
    "mx.random.seed(42)"
   ]
  },
  {
   "cell_type": "code",
   "execution_count": 8,
   "metadata": {
    "collapsed": false,
    "pycharm": {
     "name": "#%%\n"
    }
   },
   "outputs": [],
   "source": [
    "ctx = mx.gpu(0) if mx.context.num_gpus() > 0 else mx.cpu(0)"
   ]
  },
  {
   "cell_type": "markdown",
   "metadata": {
    "collapsed": false
   },
   "source": [
    "### Load data"
   ]
  },
  {
   "cell_type": "code",
   "execution_count": 9,
   "metadata": {
    "collapsed": false,
    "pycharm": {
     "name": "#%%\n"
    }
   },
   "outputs": [],
   "source": [
    "X = iris.data\n",
    "y = iris.target\n",
    "class_names = iris.target_names\n",
    "\n",
    "X_train, X_test, y_train, y_test = train_test_split(X, y, train_size = 0.25)"
   ]
  },
  {
   "cell_type": "code",
   "execution_count": 10,
   "metadata": {
    "collapsed": false,
    "pycharm": {
     "name": "#%%\n"
    }
   },
   "outputs": [],
   "source": [
    "train_data = mx.gluon.data.dataset.ArrayDataset(mx.nd.array(X_train), mx.nd.array(y_train))\n",
    "test_data = mx.gluon.data.dataset.ArrayDataset(mx.nd.array(X_test), mx.nd.array(y_test))"
   ]
  },
  {
   "cell_type": "code",
   "execution_count": 11,
   "metadata": {
    "collapsed": false,
    "pycharm": {
     "name": "#%%\n"
    }
   },
   "outputs": [
    {
     "name": "stdout",
     "output_type": "stream",
     "text": [
      "\n",
      "[6.4 2.7 5.3 1.9]\n",
      "<NDArray 4 @cpu(0)>\n",
      "2.0\n"
     ]
    }
   ],
   "source": [
    "sample_no = 23\n",
    "inputs, label = train_data[sample_no]\n",
    "print(inputs)\n",
    "print(label)\n"
   ]
  },
  {
   "cell_type": "markdown",
   "metadata": {
    "collapsed": false
   },
   "source": [
    "### Train"
   ]
  },
  {
   "cell_type": "code",
   "execution_count": 12,
   "metadata": {
    "collapsed": false,
    "pycharm": {
     "name": "#%%\n"
    }
   },
   "outputs": [],
   "source": [
    "net = nn.Sequential(prefix='MLP_')\n",
    "with net.name_scope():\n",
    "    net.add(\n",
    "        nn.Dense(128, activation='relu'),\n",
    "        nn.Dense(64, activation='relu'),\n",
    "        nn.Dense(3, activation=None)\n",
    "    )"
   ]
  },
  {
   "cell_type": "code",
   "execution_count": 13,
   "metadata": {
    "collapsed": false,
    "pycharm": {
     "name": "#%%\n"
    }
   },
   "outputs": [],
   "source": [
    "batch_size = 32\n",
    "train_loader = mx.gluon.data.DataLoader(train_data, shuffle=True, batch_size=batch_size)"
   ]
  },
  {
   "cell_type": "code",
   "execution_count": 14,
   "metadata": {
    "collapsed": false,
    "pycharm": {
     "name": "#%%\n"
    }
   },
   "outputs": [],
   "source": [
    "net.initialize(mx.init.Xavier(), ctx=ctx)"
   ]
  },
  {
   "cell_type": "code",
   "execution_count": 15,
   "metadata": {
    "collapsed": false,
    "pycharm": {
     "name": "#%%\n"
    }
   },
   "outputs": [],
   "source": [
    "trainer = gluon.Trainer(\n",
    "    params=net.collect_params(),\n",
    "    optimizer='sgd',\n",
    "    optimizer_params={'learning_rate': 0.01},\n",
    ")"
   ]
  },
  {
   "cell_type": "code",
   "execution_count": 16,
   "metadata": {
    "collapsed": false,
    "pycharm": {
     "name": "#%%\n"
    }
   },
   "outputs": [],
   "source": [
    "metric = mx.metric.Accuracy()\n",
    "loss_function = gluon.loss.SoftmaxCrossEntropyLoss()"
   ]
  },
  {
   "cell_type": "code",
   "execution_count": 17,
   "metadata": {
    "collapsed": false,
    "pycharm": {
     "name": "#%%\n"
    }
   },
   "outputs": [
    {
     "name": "stdout",
     "output_type": "stream",
     "text": [
      "..........[Done]\n"
     ]
    }
   ],
   "source": [
    "num_epochs = 10\n",
    "history = []\n",
    "\n",
    "for epoch in range(num_epochs):\n",
    "    for inputs, labels in train_loader:\n",
    "        # Possibly copy inputs and labels to the GPU\n",
    "        inputs = inputs.as_in_context(ctx)\n",
    "        labels = labels.as_in_context(ctx)\n",
    "\n",
    "        # Forward pass\n",
    "        with autograd.record():\n",
    "            outputs = net(inputs)\n",
    "            loss = loss_function(outputs, labels)\n",
    "\n",
    "        # Backpropagation\n",
    "        loss.backward()\n",
    "        metric.update(labels, outputs)\n",
    "\n",
    "        # Update\n",
    "        trainer.step(batch_size=inputs.shape[0])\n",
    "\n",
    "    # Print the evaluation metric and reset it for the next epoch\n",
    "    name, acc = metric.get()\n",
    "    history.insert(epoch,acc)\n",
    "    print('.', end='')\n",
    "    metric.reset()\n",
    "\n",
    "print('[Done]')"
   ]
  },
  {
   "cell_type": "code",
   "execution_count": 18,
   "metadata": {
    "collapsed": false,
    "pycharm": {
     "name": "#%%\n"
    }
   },
   "outputs": [
    {
     "data": {
      "text/plain": [
       "Text(0.5, 0, 'Epoch')"
      ]
     },
     "execution_count": 18,
     "metadata": {},
     "output_type": "execute_result"
    },
    {
     "data": {
      "image/png": "[encoded data removed]",
      "text/plain": [
       "<Figure size 700x400 with 1 Axes>"
      ]
     },
     "metadata": {},
     "output_type": "display_data"
    }
   ],
   "source": [
    "plt.figure(figsize=(7, 4))\n",
    "plt.plot(history)\n",
    "plt.title('Model accuracy')\n",
    "plt.ylabel('Accuracy')\n",
    "plt.xlabel('Epoch')"
   ]
  },
  {
   "cell_type": "markdown",
   "metadata": {
    "collapsed": false
   },
   "source": [
    "### Evaluate"
   ]
  },
  {
   "cell_type": "code",
   "execution_count": 19,
   "metadata": {
    "collapsed": false,
    "pycharm": {
     "name": "#%%\n"
    }
   },
   "outputs": [],
   "source": [
    "test_loader = mx.gluon.data.DataLoader(test_data, shuffle=False, batch_size=batch_size)\n",
    "#train_loader = mx.gluon.data.DataLoader(train_data, shuffle=True, batch_size=batch_size)"
   ]
  },
  {
   "cell_type": "code",
   "execution_count": 20,
   "metadata": {
    "collapsed": false,
    "pycharm": {
     "name": "#%%\n"
    }
   },
   "outputs": [
    {
     "name": "stdout",
     "output_type": "stream",
     "text": [
      "Validaton: accuracy = 0.5752212389380531\n"
     ]
    }
   ],
   "source": [
    "metric = mx.metric.Accuracy()\n",
    "for inputs, labels in test_loader:\n",
    "    # Possibly copy inputs and labels to the GPU\n",
    "    inputs = inputs.as_in_context(ctx)\n",
    "    #print(inputs)\n",
    "    labels = labels.as_in_context(ctx)\n",
    "    metric.update(labels, net(inputs))\n",
    "    \n",
    "print('Validaton: {} = {}'.format(*metric.get()))"
   ]
  },
  {
   "cell_type": "markdown",
   "metadata": {
    "collapsed": false
   },
   "source": [
    "### Task: create confusion matrix"
   ]
  },
  {
   "cell_type": "markdown",
   "metadata": {
    "collapsed": false
   },
   "source": [
    "### Sample prediction"
   ]
  },
  {
   "cell_type": "code",
   "execution_count": 21,
   "metadata": {
    "collapsed": false,
    "pycharm": {
     "name": "#%%\n"
    }
   },
   "outputs": [
    {
     "ename": "ValueError",
     "evalue": "In HybridBlock, there must be one NDArray or one Symbol in the input. Please check the type of the args.\n",
     "output_type": "error",
     "traceback": [
      "\u001b[0;31m---------------------------------------------------------------------------\u001b[0m",
      "\u001b[0;31mValueError\u001b[0m                                Traceback (most recent call last)",
      "\u001b[1;32m/home/neechan/spbu_studies/Data_Science/DVC_pipeline/1.ipynb Cell 30\u001b[0m line \u001b[0;36m4\n\u001b[1;32m      <a href='vscode-notebook-cell:/home/neechan/spbu_studies/Data_Science/DVC_pipeline/1.ipynb#X41sZmlsZQ%3D%3D?line=0'>1</a>\u001b[0m sample_no \u001b[39m=\u001b[39m \u001b[39m1\u001b[39m\n\u001b[1;32m      <a href='vscode-notebook-cell:/home/neechan/spbu_studies/Data_Science/DVC_pipeline/1.ipynb#X41sZmlsZQ%3D%3D?line=2'>3</a>\u001b[0m sample, label \u001b[39m=\u001b[39m test_data[sample_no]\n\u001b[0;32m----> <a href='vscode-notebook-cell:/home/neechan/spbu_studies/Data_Science/DVC_pipeline/1.ipynb#X41sZmlsZQ%3D%3D?line=3'>4</a>\u001b[0m p \u001b[39m=\u001b[39m net(test_data)\n\u001b[1;32m      <a href='vscode-notebook-cell:/home/neechan/spbu_studies/Data_Science/DVC_pipeline/1.ipynb#X41sZmlsZQ%3D%3D?line=4'>5</a>\u001b[0m \u001b[39m#p = net(sample)\u001b[39;00m\n",
      "File \u001b[0;32m~/miniconda3/envs/conda-env/lib/python3.8/site-packages/mxnet/gluon/block.py:693\u001b[0m, in \u001b[0;36mBlock.__call__\u001b[0;34m(self, *args)\u001b[0m\n\u001b[1;32m    690\u001b[0m \u001b[39mfor\u001b[39;00m hook \u001b[39min\u001b[39;00m \u001b[39mself\u001b[39m\u001b[39m.\u001b[39m_forward_pre_hooks\u001b[39m.\u001b[39mvalues():\n\u001b[1;32m    691\u001b[0m     hook(\u001b[39mself\u001b[39m, args)\n\u001b[0;32m--> 693\u001b[0m out \u001b[39m=\u001b[39m \u001b[39mself\u001b[39;49m\u001b[39m.\u001b[39;49mforward(\u001b[39m*\u001b[39;49margs)\n\u001b[1;32m    695\u001b[0m \u001b[39mfor\u001b[39;00m hook \u001b[39min\u001b[39;00m \u001b[39mself\u001b[39m\u001b[39m.\u001b[39m_forward_hooks\u001b[39m.\u001b[39mvalues():\n\u001b[1;32m    696\u001b[0m     hook(\u001b[39mself\u001b[39m, args, out)\n",
      "File \u001b[0;32m~/miniconda3/envs/conda-env/lib/python3.8/site-packages/mxnet/gluon/nn/basic_layers.py:55\u001b[0m, in \u001b[0;36mSequential.forward\u001b[0;34m(self, x)\u001b[0m\n\u001b[1;32m     53\u001b[0m \u001b[39mdef\u001b[39;00m \u001b[39mforward\u001b[39m(\u001b[39mself\u001b[39m, x):\n\u001b[1;32m     54\u001b[0m     \u001b[39mfor\u001b[39;00m block \u001b[39min\u001b[39;00m \u001b[39mself\u001b[39m\u001b[39m.\u001b[39m_children\u001b[39m.\u001b[39mvalues():\n\u001b[0;32m---> 55\u001b[0m         x \u001b[39m=\u001b[39m block(x)\n\u001b[1;32m     56\u001b[0m     \u001b[39mreturn\u001b[39;00m x\n",
      "File \u001b[0;32m~/miniconda3/envs/conda-env/lib/python3.8/site-packages/mxnet/gluon/block.py:693\u001b[0m, in \u001b[0;36mBlock.__call__\u001b[0;34m(self, *args)\u001b[0m\n\u001b[1;32m    690\u001b[0m \u001b[39mfor\u001b[39;00m hook \u001b[39min\u001b[39;00m \u001b[39mself\u001b[39m\u001b[39m.\u001b[39m_forward_pre_hooks\u001b[39m.\u001b[39mvalues():\n\u001b[1;32m    691\u001b[0m     hook(\u001b[39mself\u001b[39m, args)\n\u001b[0;32m--> 693\u001b[0m out \u001b[39m=\u001b[39m \u001b[39mself\u001b[39;49m\u001b[39m.\u001b[39;49mforward(\u001b[39m*\u001b[39;49margs)\n\u001b[1;32m    695\u001b[0m \u001b[39mfor\u001b[39;00m hook \u001b[39min\u001b[39;00m \u001b[39mself\u001b[39m\u001b[39m.\u001b[39m_forward_hooks\u001b[39m.\u001b[39mvalues():\n\u001b[1;32m    696\u001b[0m     hook(\u001b[39mself\u001b[39m, args, out)\n",
      "File \u001b[0;32m~/miniconda3/envs/conda-env/lib/python3.8/site-packages/mxnet/gluon/block.py:1136\u001b[0m, in \u001b[0;36mHybridBlock.forward\u001b[0;34m(self, x, *args)\u001b[0m\n\u001b[1;32m   1133\u001b[0m     \u001b[39mraise\u001b[39;00m \u001b[39mValueError\u001b[39;00m(\u001b[39m'\u001b[39m\u001b[39mIn HybridBlock, we do not support mixed NDArrays and Symbols\u001b[39m\u001b[39m'\u001b[39m\n\u001b[1;32m   1134\u001b[0m                      \u001b[39m'\u001b[39m\u001b[39m types for the input. Please check the type of the args.\u001b[39m\u001b[39m\\n\u001b[39;00m\u001b[39m'\u001b[39m)\n\u001b[1;32m   1135\u001b[0m \u001b[39mif\u001b[39;00m \u001b[39mnot\u001b[39;00m has_symbol \u001b[39mand\u001b[39;00m \u001b[39mnot\u001b[39;00m has_ndarray:\n\u001b[0;32m-> 1136\u001b[0m     \u001b[39mraise\u001b[39;00m \u001b[39mValueError\u001b[39;00m(\u001b[39m'\u001b[39m\u001b[39mIn HybridBlock, there must be one NDArray or one Symbol in the input.\u001b[39m\u001b[39m'\u001b[39m\n\u001b[1;32m   1137\u001b[0m                      \u001b[39m'\u001b[39m\u001b[39m Please check the type of the args.\u001b[39m\u001b[39m\\n\u001b[39;00m\u001b[39m'\u001b[39m)\n\u001b[1;32m   1138\u001b[0m \u001b[39mif\u001b[39;00m has_ndarray:\n\u001b[1;32m   1139\u001b[0m     ctx \u001b[39m=\u001b[39m first_ctx\n",
      "\u001b[0;31mValueError\u001b[0m: In HybridBlock, there must be one NDArray or one Symbol in the input. Please check the type of the args.\n"
     ]
    }
   ],
   "source": [
    "'''\n",
    "sample_no = 1\n",
    "\n",
    "sample, label = test_data[sample_no]\n",
    "p = net(test_data)\n",
    "#p = net(sample)\n",
    "'''"
   ]
  },
  {
   "cell_type": "code",
   "execution_count": null,
   "metadata": {
    "collapsed": false,
    "pycharm": {
     "name": "#%%\n"
    }
   },
   "outputs": [
    {
     "ename": "MXNetError",
     "evalue": "Shape inconsistent, Provided = [128,4], inferred shape=(128,1)",
     "output_type": "error",
     "traceback": [
      "\u001b[0;31m---------------------------------------------------------------------------\u001b[0m",
      "\u001b[0;31mMXNetError\u001b[0m                                Traceback (most recent call last)",
      "\u001b[1;32m/home/neechan/spbu_studies/Data_Science/DVC_pipeline/lab06-nn-irises.ipynb Cell 31\u001b[0m line \u001b[0;36m6\n\u001b[1;32m      <a href='vscode-notebook-cell:/home/neechan/spbu_studies/Data_Science/DVC_pipeline/lab06-nn-irises.ipynb#X43sZmlsZQ%3D%3D?line=3'>4</a>\u001b[0m \u001b[39mfor\u001b[39;00m i \u001b[39min\u001b[39;00m test_data:\n\u001b[1;32m      <a href='vscode-notebook-cell:/home/neechan/spbu_studies/Data_Science/DVC_pipeline/lab06-nn-irises.ipynb#X43sZmlsZQ%3D%3D?line=4'>5</a>\u001b[0m     pred_sample, pred_label \u001b[39m=\u001b[39m i\n\u001b[0;32m----> <a href='vscode-notebook-cell:/home/neechan/spbu_studies/Data_Science/DVC_pipeline/lab06-nn-irises.ipynb#X43sZmlsZQ%3D%3D?line=5'>6</a>\u001b[0m     p \u001b[39m=\u001b[39m net(pred_sample)\n\u001b[1;32m      <a href='vscode-notebook-cell:/home/neechan/spbu_studies/Data_Science/DVC_pipeline/lab06-nn-irises.ipynb#X43sZmlsZQ%3D%3D?line=6'>7</a>\u001b[0m     predictions\u001b[39m.\u001b[39mappend(p)\n\u001b[1;32m      <a href='vscode-notebook-cell:/home/neechan/spbu_studies/Data_Science/DVC_pipeline/lab06-nn-irises.ipynb#X43sZmlsZQ%3D%3D?line=7'>8</a>\u001b[0m     test_labels\u001b[39m.\u001b[39mappend(pred_label)\n",
      "File \u001b[0;32m~/miniconda3/envs/conda-env/lib/python3.8/site-packages/mxnet/gluon/block.py:693\u001b[0m, in \u001b[0;36mBlock.__call__\u001b[0;34m(self, *args)\u001b[0m\n\u001b[1;32m    690\u001b[0m \u001b[39mfor\u001b[39;00m hook \u001b[39min\u001b[39;00m \u001b[39mself\u001b[39m\u001b[39m.\u001b[39m_forward_pre_hooks\u001b[39m.\u001b[39mvalues():\n\u001b[1;32m    691\u001b[0m     hook(\u001b[39mself\u001b[39m, args)\n\u001b[0;32m--> 693\u001b[0m out \u001b[39m=\u001b[39m \u001b[39mself\u001b[39;49m\u001b[39m.\u001b[39;49mforward(\u001b[39m*\u001b[39;49margs)\n\u001b[1;32m    695\u001b[0m \u001b[39mfor\u001b[39;00m hook \u001b[39min\u001b[39;00m \u001b[39mself\u001b[39m\u001b[39m.\u001b[39m_forward_hooks\u001b[39m.\u001b[39mvalues():\n\u001b[1;32m    696\u001b[0m     hook(\u001b[39mself\u001b[39m, args, out)\n",
      "File \u001b[0;32m~/miniconda3/envs/conda-env/lib/python3.8/site-packages/mxnet/gluon/nn/basic_layers.py:55\u001b[0m, in \u001b[0;36mSequential.forward\u001b[0;34m(self, x)\u001b[0m\n\u001b[1;32m     53\u001b[0m \u001b[39mdef\u001b[39;00m \u001b[39mforward\u001b[39m(\u001b[39mself\u001b[39m, x):\n\u001b[1;32m     54\u001b[0m     \u001b[39mfor\u001b[39;00m block \u001b[39min\u001b[39;00m \u001b[39mself\u001b[39m\u001b[39m.\u001b[39m_children\u001b[39m.\u001b[39mvalues():\n\u001b[0;32m---> 55\u001b[0m         x \u001b[39m=\u001b[39m block(x)\n\u001b[1;32m     56\u001b[0m     \u001b[39mreturn\u001b[39;00m x\n",
      "File \u001b[0;32m~/miniconda3/envs/conda-env/lib/python3.8/site-packages/mxnet/gluon/block.py:693\u001b[0m, in \u001b[0;36mBlock.__call__\u001b[0;34m(self, *args)\u001b[0m\n\u001b[1;32m    690\u001b[0m \u001b[39mfor\u001b[39;00m hook \u001b[39min\u001b[39;00m \u001b[39mself\u001b[39m\u001b[39m.\u001b[39m_forward_pre_hooks\u001b[39m.\u001b[39mvalues():\n\u001b[1;32m    691\u001b[0m     hook(\u001b[39mself\u001b[39m, args)\n\u001b[0;32m--> 693\u001b[0m out \u001b[39m=\u001b[39m \u001b[39mself\u001b[39;49m\u001b[39m.\u001b[39;49mforward(\u001b[39m*\u001b[39;49margs)\n\u001b[1;32m    695\u001b[0m \u001b[39mfor\u001b[39;00m hook \u001b[39min\u001b[39;00m \u001b[39mself\u001b[39m\u001b[39m.\u001b[39m_forward_hooks\u001b[39m.\u001b[39mvalues():\n\u001b[1;32m    696\u001b[0m     hook(\u001b[39mself\u001b[39m, args, out)\n",
      "File \u001b[0;32m~/miniconda3/envs/conda-env/lib/python3.8/site-packages/mxnet/gluon/block.py:1158\u001b[0m, in \u001b[0;36mHybridBlock.forward\u001b[0;34m(self, x, *args)\u001b[0m\n\u001b[1;32m   1155\u001b[0m                 v\u001b[39m.\u001b[39m_finish_deferred_init()\n\u001b[1;32m   1156\u001b[0m             params \u001b[39m=\u001b[39m {k: v\u001b[39m.\u001b[39mdata(ctx) \u001b[39mfor\u001b[39;00m k, v \u001b[39min\u001b[39;00m \u001b[39mself\u001b[39m\u001b[39m.\u001b[39m_reg_params\u001b[39m.\u001b[39mitems()}\n\u001b[0;32m-> 1158\u001b[0m         \u001b[39mreturn\u001b[39;00m \u001b[39mself\u001b[39;49m\u001b[39m.\u001b[39;49mhybrid_forward(ndarray, x, \u001b[39m*\u001b[39;49margs, \u001b[39m*\u001b[39;49m\u001b[39m*\u001b[39;49mparams)\n\u001b[1;32m   1160\u001b[0m params \u001b[39m=\u001b[39m {i: j\u001b[39m.\u001b[39mvar() \u001b[39mfor\u001b[39;00m i, j \u001b[39min\u001b[39;00m \u001b[39mself\u001b[39m\u001b[39m.\u001b[39m_reg_params\u001b[39m.\u001b[39mitems()}\n\u001b[1;32m   1161\u001b[0m \u001b[39mwith\u001b[39;00m \u001b[39mself\u001b[39m\u001b[39m.\u001b[39mname_scope():\n",
      "File \u001b[0;32m~/miniconda3/envs/conda-env/lib/python3.8/site-packages/mxnet/gluon/nn/basic_layers.py:224\u001b[0m, in \u001b[0;36mDense.hybrid_forward\u001b[0;34m(self, F, x, weight, bias)\u001b[0m\n\u001b[1;32m    222\u001b[0m \u001b[39mdef\u001b[39;00m \u001b[39mhybrid_forward\u001b[39m(\u001b[39mself\u001b[39m, F, x, weight, bias\u001b[39m=\u001b[39m\u001b[39mNone\u001b[39;00m):\n\u001b[1;32m    223\u001b[0m     fc \u001b[39m=\u001b[39m F\u001b[39m.\u001b[39mnpx\u001b[39m.\u001b[39mfully_connected \u001b[39mif\u001b[39;00m is_np_array() \u001b[39melse\u001b[39;00m F\u001b[39m.\u001b[39mFullyConnected\n\u001b[0;32m--> 224\u001b[0m     act \u001b[39m=\u001b[39m fc(x, weight, bias, no_bias\u001b[39m=\u001b[39;49mbias \u001b[39mis\u001b[39;49;00m \u001b[39mNone\u001b[39;49;00m, num_hidden\u001b[39m=\u001b[39;49m\u001b[39mself\u001b[39;49m\u001b[39m.\u001b[39;49m_units,\n\u001b[1;32m    225\u001b[0m              flatten\u001b[39m=\u001b[39;49m\u001b[39mself\u001b[39;49m\u001b[39m.\u001b[39;49m_flatten, name\u001b[39m=\u001b[39;49m\u001b[39m'\u001b[39;49m\u001b[39mfwd\u001b[39;49m\u001b[39m'\u001b[39;49m)\n\u001b[1;32m    226\u001b[0m     \u001b[39mif\u001b[39;00m \u001b[39mself\u001b[39m\u001b[39m.\u001b[39mact \u001b[39mis\u001b[39;00m \u001b[39mnot\u001b[39;00m \u001b[39mNone\u001b[39;00m:\n\u001b[1;32m    227\u001b[0m         act \u001b[39m=\u001b[39m \u001b[39mself\u001b[39m\u001b[39m.\u001b[39mact(act)\n",
      "File \u001b[0;32m<string>:86\u001b[0m, in \u001b[0;36mFullyConnected\u001b[0;34m(data, weight, bias, num_hidden, no_bias, flatten, out, name, **kwargs)\u001b[0m\n",
      "File \u001b[0;32m~/miniconda3/envs/conda-env/lib/python3.8/site-packages/mxnet/_ctypes/ndarray.py:98\u001b[0m, in \u001b[0;36m_imperative_invoke\u001b[0;34m(handle, ndargs, keys, vals, out, is_np_op)\u001b[0m\n\u001b[1;32m     94\u001b[0m \u001b[39m# return output stypes to avoid the c_api call for checking\u001b[39;00m\n\u001b[1;32m     95\u001b[0m \u001b[39m# a handle's stype in _ndarray_cls\u001b[39;00m\n\u001b[1;32m     96\u001b[0m out_stypes \u001b[39m=\u001b[39m ctypes\u001b[39m.\u001b[39mPOINTER(ctypes\u001b[39m.\u001b[39mc_int)()\n\u001b[0;32m---> 98\u001b[0m check_call(_LIB\u001b[39m.\u001b[39;49mMXImperativeInvokeEx(\n\u001b[1;32m     99\u001b[0m     ctypes\u001b[39m.\u001b[39;49mc_void_p(handle),\n\u001b[1;32m    100\u001b[0m     ctypes\u001b[39m.\u001b[39;49mc_int(\u001b[39mlen\u001b[39;49m(ndargs)),\n\u001b[1;32m    101\u001b[0m     c_handle_array(ndargs),\n\u001b[1;32m    102\u001b[0m     ctypes\u001b[39m.\u001b[39;49mbyref(num_output),\n\u001b[1;32m    103\u001b[0m     ctypes\u001b[39m.\u001b[39;49mbyref(output_vars),\n\u001b[1;32m    104\u001b[0m     ctypes\u001b[39m.\u001b[39;49mc_int(\u001b[39mlen\u001b[39;49m(keys)),\n\u001b[1;32m    105\u001b[0m     c_str_array(keys),\n\u001b[1;32m    106\u001b[0m     c_str_array([\u001b[39mstr\u001b[39;49m(s) \u001b[39mfor\u001b[39;49;00m s \u001b[39min\u001b[39;49;00m vals]),\n\u001b[1;32m    107\u001b[0m     ctypes\u001b[39m.\u001b[39;49mbyref(out_stypes)))\n\u001b[1;32m    109\u001b[0m create_ndarray_fn \u001b[39m=\u001b[39m _np_ndarray_cls \u001b[39mif\u001b[39;00m is_np_op \u001b[39melse\u001b[39;00m _ndarray_cls\n\u001b[1;32m    110\u001b[0m \u001b[39mif\u001b[39;00m original_output \u001b[39mis\u001b[39;00m \u001b[39mnot\u001b[39;00m \u001b[39mNone\u001b[39;00m:\n",
      "File \u001b[0;32m~/miniconda3/envs/conda-env/lib/python3.8/site-packages/mxnet/base.py:255\u001b[0m, in \u001b[0;36mcheck_call\u001b[0;34m(ret)\u001b[0m\n\u001b[1;32m    244\u001b[0m \u001b[39m\u001b[39m\u001b[39m\"\"\"Check the return value of C API call.\u001b[39;00m\n\u001b[1;32m    245\u001b[0m \n\u001b[1;32m    246\u001b[0m \u001b[39mThis function will raise an exception when an error occurs.\u001b[39;00m\n\u001b[0;32m   (...)\u001b[0m\n\u001b[1;32m    252\u001b[0m \u001b[39m    return value from API calls.\u001b[39;00m\n\u001b[1;32m    253\u001b[0m \u001b[39m\"\"\"\u001b[39;00m\n\u001b[1;32m    254\u001b[0m \u001b[39mif\u001b[39;00m ret \u001b[39m!=\u001b[39m \u001b[39m0\u001b[39m:\n\u001b[0;32m--> 255\u001b[0m     \u001b[39mraise\u001b[39;00m MXNetError(py_str(_LIB\u001b[39m.\u001b[39mMXGetLastError()))\n",
      "\u001b[0;31mMXNetError\u001b[0m: Shape inconsistent, Provided = [128,4], inferred shape=(128,1)"
     ]
    }
   ],
   "source": [
    "'''\n",
    "predictions = []\n",
    "test_labels = []\n",
    "\n",
    "for i in test_data:\n",
    "    pred_sample, pred_label = i\n",
    "    p = net(pred_sample)\n",
    "    predictions.append(p)\n",
    "    test_labels.append(pred_label)\n",
    "'''"
   ]
  }
 ],
 "metadata": {
  "colab": {
   "collapsed_sections": [
    "AmWJX555y7vL"
   ],
   "name": "Lab 3-1.ipynb",
   "provenance": []
  },
  "kernelspec": {
   "display_name": "Python 3",
   "name": "python3"
  },
  "language_info": {
   "codemirror_mode": {
    "name": "ipython",
    "version": 3
   },
   "file_extension": ".py",
   "mimetype": "text/x-python",
   "name": "python",
   "nbconvert_exporter": "python",
   "pygments_lexer": "ipython3",
   "version": "3.8.18"
  }
 },
 "nbformat": 4,
 "nbformat_minor": 0
}
