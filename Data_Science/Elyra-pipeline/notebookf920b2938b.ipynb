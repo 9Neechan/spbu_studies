{
 "cells": [
  {
   "cell_type": "code",
   "execution_count": 1,
   "id": "47147fbc",
   "metadata": {
    "_cell_guid": "b1076dfc-b9ad-4769-8c92-a6c4dae69d19",
    "_uuid": "8f2839f25d086af736a60e9eeb907d3b93b6e0e5",
    "execution": {
     "iopub.execute_input": "2023-10-28T09:01:13.928758Z",
     "iopub.status.busy": "2023-10-28T09:01:13.928446Z",
     "iopub.status.idle": "2023-10-28T09:01:16.682715Z",
     "shell.execute_reply": "2023-10-28T09:01:16.681628Z"
    },
    "papermill": {
     "duration": 2.773364,
     "end_time": "2023-10-28T09:01:16.684694",
     "exception": false,
     "start_time": "2023-10-28T09:01:13.911330",
     "status": "completed"
    },
    "tags": []
   },
   "outputs": [
    {
     "name": "stdout",
     "output_type": "stream",
     "text": [
      "/kaggle/input/spaceship-titanic/sample_submission.csv\n",
      "/kaggle/input/spaceship-titanic/train.csv\n",
      "/kaggle/input/spaceship-titanic/test.csv\n"
     ]
    }
   ],
   "source": [
    "import pandas as pd\n",
    "import numpy as np\n",
    "import matplotlib.pyplot as plt\n",
    "import category_encoders as ce\n",
    "%matplotlib inline\n",
    "import seaborn as sns\n",
    "sns.set() \n",
    "\n",
    "from sklearn.linear_model import LogisticRegression\n",
    "from sklearn.ensemble import RandomForestClassifier\n",
    "from sklearn.model_selection import train_test_split\n",
    "from sklearn.preprocessing import StandardScaler, LabelEncoder, MaxAbsScaler\n",
    "from sklearn.metrics import accuracy_score\n",
    "from sklearn.utils.extmath import softmax\n",
    "from catboost import CatBoostClassifier\n",
    "\n",
    "import os\n",
    "for dirname, _, filenames in os.walk('/kaggle/input'):\n",
    "    for filename in filenames:\n",
    "        print(os.path.join(dirname, filename))\n",
    "\n",
    "train = pd.read_csv('/kaggle/input/spaceship-titanic/train.csv')"
   ]
  },
  {
   "cell_type": "markdown",
   "id": "ee0b7cce",
   "metadata": {
    "papermill": {
     "duration": 0.014917,
     "end_time": "2023-10-28T09:01:16.714932",
     "exception": false,
     "start_time": "2023-10-28T09:01:16.700015",
     "status": "completed"
    },
    "tags": []
   },
   "source": [
    "# Разведочный (исследовательский) анализ <a class=\"anchor\" id=\"section-two-eda\"></a>\n",
    "\n",
    "## Исследуем обучающий набор (train) <a id=\"section-two-train-df-analysis\"></a>"
   ]
  },
  {
   "cell_type": "code",
   "execution_count": 2,
   "id": "7d6378c8",
   "metadata": {
    "execution": {
     "iopub.execute_input": "2023-10-28T09:01:16.746611Z",
     "iopub.status.busy": "2023-10-28T09:01:16.746275Z",
     "iopub.status.idle": "2023-10-28T09:01:16.773448Z",
     "shell.execute_reply": "2023-10-28T09:01:16.772626Z"
    },
    "papermill": {
     "duration": 0.044716,
     "end_time": "2023-10-28T09:01:16.775230",
     "exception": false,
     "start_time": "2023-10-28T09:01:16.730514",
     "status": "completed"
    },
    "tags": []
   },
   "outputs": [
    {
     "name": "stdout",
     "output_type": "stream",
     "text": [
      "<class 'pandas.core.frame.DataFrame'>\n",
      "RangeIndex: 8693 entries, 0 to 8692\n",
      "Data columns (total 14 columns):\n",
      " #   Column        Non-Null Count  Dtype  \n",
      "---  ------        --------------  -----  \n",
      " 0   PassengerId   8693 non-null   object \n",
      " 1   HomePlanet    8492 non-null   object \n",
      " 2   CryoSleep     8476 non-null   object \n",
      " 3   Cabin         8494 non-null   object \n",
      " 4   Destination   8511 non-null   object \n",
      " 5   Age           8514 non-null   float64\n",
      " 6   VIP           8490 non-null   object \n",
      " 7   RoomService   8512 non-null   float64\n",
      " 8   FoodCourt     8510 non-null   float64\n",
      " 9   ShoppingMall  8485 non-null   float64\n",
      " 10  Spa           8510 non-null   float64\n",
      " 11  VRDeck        8505 non-null   float64\n",
      " 12  Name          8493 non-null   object \n",
      " 13  Transported   8693 non-null   bool   \n",
      "dtypes: bool(1), float64(6), object(7)\n",
      "memory usage: 891.5+ KB\n"
     ]
    }
   ],
   "source": [
    "train.info()"
   ]
  },
  {
   "cell_type": "code",
   "execution_count": 3,
   "id": "5e2f56ec",
   "metadata": {
    "execution": {
     "iopub.execute_input": "2023-10-28T09:01:16.806312Z",
     "iopub.status.busy": "2023-10-28T09:01:16.806031Z",
     "iopub.status.idle": "2023-10-28T09:01:16.828755Z",
     "shell.execute_reply": "2023-10-28T09:01:16.827848Z"
    },
    "papermill": {
     "duration": 0.040785,
     "end_time": "2023-10-28T09:01:16.830753",
     "exception": false,
     "start_time": "2023-10-28T09:01:16.789968",
     "status": "completed"
    },
    "tags": []
   },
   "outputs": [
    {
     "data": {
      "text/html": [
       "<div>\n",
       "<style scoped>\n",
       "    .dataframe tbody tr th:only-of-type {\n",
       "        vertical-align: middle;\n",
       "    }\n",
       "\n",
       "    .dataframe tbody tr th {\n",
       "        vertical-align: top;\n",
       "    }\n",
       "\n",
       "    .dataframe thead th {\n",
       "        text-align: right;\n",
       "    }\n",
       "</style>\n",
       "<table border=\"1\" class=\"dataframe\">\n",
       "  <thead>\n",
       "    <tr style=\"text-align: right;\">\n",
       "      <th></th>\n",
       "      <th>PassengerId</th>\n",
       "      <th>HomePlanet</th>\n",
       "      <th>CryoSleep</th>\n",
       "      <th>Cabin</th>\n",
       "      <th>Destination</th>\n",
       "      <th>Age</th>\n",
       "      <th>VIP</th>\n",
       "      <th>RoomService</th>\n",
       "      <th>FoodCourt</th>\n",
       "      <th>ShoppingMall</th>\n",
       "      <th>Spa</th>\n",
       "      <th>VRDeck</th>\n",
       "      <th>Name</th>\n",
       "      <th>Transported</th>\n",
       "    </tr>\n",
       "  </thead>\n",
       "  <tbody>\n",
       "    <tr>\n",
       "      <th>0</th>\n",
       "      <td>0001_01</td>\n",
       "      <td>Europa</td>\n",
       "      <td>False</td>\n",
       "      <td>B/0/P</td>\n",
       "      <td>TRAPPIST-1e</td>\n",
       "      <td>39.0</td>\n",
       "      <td>False</td>\n",
       "      <td>0.0</td>\n",
       "      <td>0.0</td>\n",
       "      <td>0.0</td>\n",
       "      <td>0.0</td>\n",
       "      <td>0.0</td>\n",
       "      <td>Maham Ofracculy</td>\n",
       "      <td>False</td>\n",
       "    </tr>\n",
       "    <tr>\n",
       "      <th>1</th>\n",
       "      <td>0002_01</td>\n",
       "      <td>Earth</td>\n",
       "      <td>False</td>\n",
       "      <td>F/0/S</td>\n",
       "      <td>TRAPPIST-1e</td>\n",
       "      <td>24.0</td>\n",
       "      <td>False</td>\n",
       "      <td>109.0</td>\n",
       "      <td>9.0</td>\n",
       "      <td>25.0</td>\n",
       "      <td>549.0</td>\n",
       "      <td>44.0</td>\n",
       "      <td>Juanna Vines</td>\n",
       "      <td>True</td>\n",
       "    </tr>\n",
       "    <tr>\n",
       "      <th>2</th>\n",
       "      <td>0003_01</td>\n",
       "      <td>Europa</td>\n",
       "      <td>False</td>\n",
       "      <td>A/0/S</td>\n",
       "      <td>TRAPPIST-1e</td>\n",
       "      <td>58.0</td>\n",
       "      <td>True</td>\n",
       "      <td>43.0</td>\n",
       "      <td>3576.0</td>\n",
       "      <td>0.0</td>\n",
       "      <td>6715.0</td>\n",
       "      <td>49.0</td>\n",
       "      <td>Altark Susent</td>\n",
       "      <td>False</td>\n",
       "    </tr>\n",
       "    <tr>\n",
       "      <th>3</th>\n",
       "      <td>0003_02</td>\n",
       "      <td>Europa</td>\n",
       "      <td>False</td>\n",
       "      <td>A/0/S</td>\n",
       "      <td>TRAPPIST-1e</td>\n",
       "      <td>33.0</td>\n",
       "      <td>False</td>\n",
       "      <td>0.0</td>\n",
       "      <td>1283.0</td>\n",
       "      <td>371.0</td>\n",
       "      <td>3329.0</td>\n",
       "      <td>193.0</td>\n",
       "      <td>Solam Susent</td>\n",
       "      <td>False</td>\n",
       "    </tr>\n",
       "    <tr>\n",
       "      <th>4</th>\n",
       "      <td>0004_01</td>\n",
       "      <td>Earth</td>\n",
       "      <td>False</td>\n",
       "      <td>F/1/S</td>\n",
       "      <td>TRAPPIST-1e</td>\n",
       "      <td>16.0</td>\n",
       "      <td>False</td>\n",
       "      <td>303.0</td>\n",
       "      <td>70.0</td>\n",
       "      <td>151.0</td>\n",
       "      <td>565.0</td>\n",
       "      <td>2.0</td>\n",
       "      <td>Willy Santantines</td>\n",
       "      <td>True</td>\n",
       "    </tr>\n",
       "    <tr>\n",
       "      <th>5</th>\n",
       "      <td>0005_01</td>\n",
       "      <td>Earth</td>\n",
       "      <td>False</td>\n",
       "      <td>F/0/P</td>\n",
       "      <td>PSO J318.5-22</td>\n",
       "      <td>44.0</td>\n",
       "      <td>False</td>\n",
       "      <td>0.0</td>\n",
       "      <td>483.0</td>\n",
       "      <td>0.0</td>\n",
       "      <td>291.0</td>\n",
       "      <td>0.0</td>\n",
       "      <td>Sandie Hinetthews</td>\n",
       "      <td>True</td>\n",
       "    </tr>\n",
       "    <tr>\n",
       "      <th>6</th>\n",
       "      <td>0006_01</td>\n",
       "      <td>Earth</td>\n",
       "      <td>False</td>\n",
       "      <td>F/2/S</td>\n",
       "      <td>TRAPPIST-1e</td>\n",
       "      <td>26.0</td>\n",
       "      <td>False</td>\n",
       "      <td>42.0</td>\n",
       "      <td>1539.0</td>\n",
       "      <td>3.0</td>\n",
       "      <td>0.0</td>\n",
       "      <td>0.0</td>\n",
       "      <td>Billex Jacostaffey</td>\n",
       "      <td>True</td>\n",
       "    </tr>\n",
       "    <tr>\n",
       "      <th>7</th>\n",
       "      <td>0006_02</td>\n",
       "      <td>Earth</td>\n",
       "      <td>True</td>\n",
       "      <td>G/0/S</td>\n",
       "      <td>TRAPPIST-1e</td>\n",
       "      <td>28.0</td>\n",
       "      <td>False</td>\n",
       "      <td>0.0</td>\n",
       "      <td>0.0</td>\n",
       "      <td>0.0</td>\n",
       "      <td>0.0</td>\n",
       "      <td>NaN</td>\n",
       "      <td>Candra Jacostaffey</td>\n",
       "      <td>True</td>\n",
       "    </tr>\n",
       "    <tr>\n",
       "      <th>8</th>\n",
       "      <td>0007_01</td>\n",
       "      <td>Earth</td>\n",
       "      <td>False</td>\n",
       "      <td>F/3/S</td>\n",
       "      <td>TRAPPIST-1e</td>\n",
       "      <td>35.0</td>\n",
       "      <td>False</td>\n",
       "      <td>0.0</td>\n",
       "      <td>785.0</td>\n",
       "      <td>17.0</td>\n",
       "      <td>216.0</td>\n",
       "      <td>0.0</td>\n",
       "      <td>Andona Beston</td>\n",
       "      <td>True</td>\n",
       "    </tr>\n",
       "    <tr>\n",
       "      <th>9</th>\n",
       "      <td>0008_01</td>\n",
       "      <td>Europa</td>\n",
       "      <td>True</td>\n",
       "      <td>B/1/P</td>\n",
       "      <td>55 Cancri e</td>\n",
       "      <td>14.0</td>\n",
       "      <td>False</td>\n",
       "      <td>0.0</td>\n",
       "      <td>0.0</td>\n",
       "      <td>0.0</td>\n",
       "      <td>0.0</td>\n",
       "      <td>0.0</td>\n",
       "      <td>Erraiam Flatic</td>\n",
       "      <td>True</td>\n",
       "    </tr>\n",
       "  </tbody>\n",
       "</table>\n",
       "</div>"
      ],
      "text/plain": [
       "  PassengerId HomePlanet CryoSleep  Cabin    Destination   Age    VIP  \\\n",
       "0     0001_01     Europa     False  B/0/P    TRAPPIST-1e  39.0  False   \n",
       "1     0002_01      Earth     False  F/0/S    TRAPPIST-1e  24.0  False   \n",
       "2     0003_01     Europa     False  A/0/S    TRAPPIST-1e  58.0   True   \n",
       "3     0003_02     Europa     False  A/0/S    TRAPPIST-1e  33.0  False   \n",
       "4     0004_01      Earth     False  F/1/S    TRAPPIST-1e  16.0  False   \n",
       "5     0005_01      Earth     False  F/0/P  PSO J318.5-22  44.0  False   \n",
       "6     0006_01      Earth     False  F/2/S    TRAPPIST-1e  26.0  False   \n",
       "7     0006_02      Earth      True  G/0/S    TRAPPIST-1e  28.0  False   \n",
       "8     0007_01      Earth     False  F/3/S    TRAPPIST-1e  35.0  False   \n",
       "9     0008_01     Europa      True  B/1/P    55 Cancri e  14.0  False   \n",
       "\n",
       "   RoomService  FoodCourt  ShoppingMall     Spa  VRDeck                Name  \\\n",
       "0          0.0        0.0           0.0     0.0     0.0     Maham Ofracculy   \n",
       "1        109.0        9.0          25.0   549.0    44.0        Juanna Vines   \n",
       "2         43.0     3576.0           0.0  6715.0    49.0       Altark Susent   \n",
       "3          0.0     1283.0         371.0  3329.0   193.0        Solam Susent   \n",
       "4        303.0       70.0         151.0   565.0     2.0   Willy Santantines   \n",
       "5          0.0      483.0           0.0   291.0     0.0   Sandie Hinetthews   \n",
       "6         42.0     1539.0           3.0     0.0     0.0  Billex Jacostaffey   \n",
       "7          0.0        0.0           0.0     0.0     NaN  Candra Jacostaffey   \n",
       "8          0.0      785.0          17.0   216.0     0.0       Andona Beston   \n",
       "9          0.0        0.0           0.0     0.0     0.0      Erraiam Flatic   \n",
       "\n",
       "   Transported  \n",
       "0        False  \n",
       "1         True  \n",
       "2        False  \n",
       "3        False  \n",
       "4         True  \n",
       "5         True  \n",
       "6         True  \n",
       "7         True  \n",
       "8         True  \n",
       "9         True  "
      ]
     },
     "execution_count": 3,
     "metadata": {},
     "output_type": "execute_result"
    }
   ],
   "source": [
    "train.head(10)"
   ]
  },
  {
   "cell_type": "code",
   "execution_count": 4,
   "id": "f9b5b4e6",
   "metadata": {
    "execution": {
     "iopub.execute_input": "2023-10-28T09:01:16.863610Z",
     "iopub.status.busy": "2023-10-28T09:01:16.863108Z",
     "iopub.status.idle": "2023-10-28T09:01:16.886457Z",
     "shell.execute_reply": "2023-10-28T09:01:16.885349Z"
    },
    "papermill": {
     "duration": 0.041372,
     "end_time": "2023-10-28T09:01:16.888120",
     "exception": false,
     "start_time": "2023-10-28T09:01:16.846748",
     "status": "completed"
    },
    "tags": []
   },
   "outputs": [
    {
     "data": {
      "text/html": [
       "<div>\n",
       "<style scoped>\n",
       "    .dataframe tbody tr th:only-of-type {\n",
       "        vertical-align: middle;\n",
       "    }\n",
       "\n",
       "    .dataframe tbody tr th {\n",
       "        vertical-align: top;\n",
       "    }\n",
       "\n",
       "    .dataframe thead th {\n",
       "        text-align: right;\n",
       "    }\n",
       "</style>\n",
       "<table border=\"1\" class=\"dataframe\">\n",
       "  <thead>\n",
       "    <tr style=\"text-align: right;\">\n",
       "      <th></th>\n",
       "      <th>Age</th>\n",
       "      <th>RoomService</th>\n",
       "      <th>FoodCourt</th>\n",
       "      <th>ShoppingMall</th>\n",
       "      <th>Spa</th>\n",
       "      <th>VRDeck</th>\n",
       "    </tr>\n",
       "  </thead>\n",
       "  <tbody>\n",
       "    <tr>\n",
       "      <th>count</th>\n",
       "      <td>8514.000000</td>\n",
       "      <td>8512.000000</td>\n",
       "      <td>8510.000000</td>\n",
       "      <td>8485.000000</td>\n",
       "      <td>8510.000000</td>\n",
       "      <td>8505.000000</td>\n",
       "    </tr>\n",
       "    <tr>\n",
       "      <th>mean</th>\n",
       "      <td>28.827930</td>\n",
       "      <td>224.687617</td>\n",
       "      <td>458.077203</td>\n",
       "      <td>173.729169</td>\n",
       "      <td>311.138778</td>\n",
       "      <td>304.854791</td>\n",
       "    </tr>\n",
       "    <tr>\n",
       "      <th>std</th>\n",
       "      <td>14.489021</td>\n",
       "      <td>666.717663</td>\n",
       "      <td>1611.489240</td>\n",
       "      <td>604.696458</td>\n",
       "      <td>1136.705535</td>\n",
       "      <td>1145.717189</td>\n",
       "    </tr>\n",
       "    <tr>\n",
       "      <th>min</th>\n",
       "      <td>0.000000</td>\n",
       "      <td>0.000000</td>\n",
       "      <td>0.000000</td>\n",
       "      <td>0.000000</td>\n",
       "      <td>0.000000</td>\n",
       "      <td>0.000000</td>\n",
       "    </tr>\n",
       "    <tr>\n",
       "      <th>25%</th>\n",
       "      <td>19.000000</td>\n",
       "      <td>0.000000</td>\n",
       "      <td>0.000000</td>\n",
       "      <td>0.000000</td>\n",
       "      <td>0.000000</td>\n",
       "      <td>0.000000</td>\n",
       "    </tr>\n",
       "    <tr>\n",
       "      <th>50%</th>\n",
       "      <td>27.000000</td>\n",
       "      <td>0.000000</td>\n",
       "      <td>0.000000</td>\n",
       "      <td>0.000000</td>\n",
       "      <td>0.000000</td>\n",
       "      <td>0.000000</td>\n",
       "    </tr>\n",
       "    <tr>\n",
       "      <th>75%</th>\n",
       "      <td>38.000000</td>\n",
       "      <td>47.000000</td>\n",
       "      <td>76.000000</td>\n",
       "      <td>27.000000</td>\n",
       "      <td>59.000000</td>\n",
       "      <td>46.000000</td>\n",
       "    </tr>\n",
       "    <tr>\n",
       "      <th>max</th>\n",
       "      <td>79.000000</td>\n",
       "      <td>14327.000000</td>\n",
       "      <td>29813.000000</td>\n",
       "      <td>23492.000000</td>\n",
       "      <td>22408.000000</td>\n",
       "      <td>24133.000000</td>\n",
       "    </tr>\n",
       "  </tbody>\n",
       "</table>\n",
       "</div>"
      ],
      "text/plain": [
       "               Age   RoomService     FoodCourt  ShoppingMall           Spa  \\\n",
       "count  8514.000000   8512.000000   8510.000000   8485.000000   8510.000000   \n",
       "mean     28.827930    224.687617    458.077203    173.729169    311.138778   \n",
       "std      14.489021    666.717663   1611.489240    604.696458   1136.705535   \n",
       "min       0.000000      0.000000      0.000000      0.000000      0.000000   \n",
       "25%      19.000000      0.000000      0.000000      0.000000      0.000000   \n",
       "50%      27.000000      0.000000      0.000000      0.000000      0.000000   \n",
       "75%      38.000000     47.000000     76.000000     27.000000     59.000000   \n",
       "max      79.000000  14327.000000  29813.000000  23492.000000  22408.000000   \n",
       "\n",
       "             VRDeck  \n",
       "count   8505.000000  \n",
       "mean     304.854791  \n",
       "std     1145.717189  \n",
       "min        0.000000  \n",
       "25%        0.000000  \n",
       "50%        0.000000  \n",
       "75%       46.000000  \n",
       "max    24133.000000  "
      ]
     },
     "execution_count": 4,
     "metadata": {},
     "output_type": "execute_result"
    }
   ],
   "source": [
    "train.describe()"
   ]
  },
  {
   "cell_type": "code",
   "execution_count": 5,
   "id": "7076b0cf",
   "metadata": {
    "execution": {
     "iopub.execute_input": "2023-10-28T09:01:16.965420Z",
     "iopub.status.busy": "2023-10-28T09:01:16.965093Z",
     "iopub.status.idle": "2023-10-28T09:01:16.995630Z",
     "shell.execute_reply": "2023-10-28T09:01:16.994968Z"
    },
    "papermill": {
     "duration": 0.092242,
     "end_time": "2023-10-28T09:01:16.997309",
     "exception": false,
     "start_time": "2023-10-28T09:01:16.905067",
     "status": "completed"
    },
    "tags": []
   },
   "outputs": [
    {
     "data": {
      "text/html": [
       "<div>\n",
       "<style scoped>\n",
       "    .dataframe tbody tr th:only-of-type {\n",
       "        vertical-align: middle;\n",
       "    }\n",
       "\n",
       "    .dataframe tbody tr th {\n",
       "        vertical-align: top;\n",
       "    }\n",
       "\n",
       "    .dataframe thead th {\n",
       "        text-align: right;\n",
       "    }\n",
       "</style>\n",
       "<table border=\"1\" class=\"dataframe\">\n",
       "  <thead>\n",
       "    <tr style=\"text-align: right;\">\n",
       "      <th></th>\n",
       "      <th>PassengerId</th>\n",
       "      <th>HomePlanet</th>\n",
       "      <th>CryoSleep</th>\n",
       "      <th>Cabin</th>\n",
       "      <th>Destination</th>\n",
       "      <th>VIP</th>\n",
       "      <th>Name</th>\n",
       "    </tr>\n",
       "  </thead>\n",
       "  <tbody>\n",
       "    <tr>\n",
       "      <th>count</th>\n",
       "      <td>8693</td>\n",
       "      <td>8492</td>\n",
       "      <td>8476</td>\n",
       "      <td>8494</td>\n",
       "      <td>8511</td>\n",
       "      <td>8490</td>\n",
       "      <td>8493</td>\n",
       "    </tr>\n",
       "    <tr>\n",
       "      <th>unique</th>\n",
       "      <td>8693</td>\n",
       "      <td>3</td>\n",
       "      <td>2</td>\n",
       "      <td>6560</td>\n",
       "      <td>3</td>\n",
       "      <td>2</td>\n",
       "      <td>8473</td>\n",
       "    </tr>\n",
       "    <tr>\n",
       "      <th>top</th>\n",
       "      <td>0001_01</td>\n",
       "      <td>Earth</td>\n",
       "      <td>False</td>\n",
       "      <td>G/734/S</td>\n",
       "      <td>TRAPPIST-1e</td>\n",
       "      <td>False</td>\n",
       "      <td>Gollux Reedall</td>\n",
       "    </tr>\n",
       "    <tr>\n",
       "      <th>freq</th>\n",
       "      <td>1</td>\n",
       "      <td>4602</td>\n",
       "      <td>5439</td>\n",
       "      <td>8</td>\n",
       "      <td>5915</td>\n",
       "      <td>8291</td>\n",
       "      <td>2</td>\n",
       "    </tr>\n",
       "  </tbody>\n",
       "</table>\n",
       "</div>"
      ],
      "text/plain": [
       "       PassengerId HomePlanet CryoSleep    Cabin  Destination    VIP  \\\n",
       "count         8693       8492      8476     8494         8511   8490   \n",
       "unique        8693          3         2     6560            3      2   \n",
       "top        0001_01      Earth     False  G/734/S  TRAPPIST-1e  False   \n",
       "freq             1       4602      5439        8         5915   8291   \n",
       "\n",
       "                  Name  \n",
       "count             8493  \n",
       "unique            8473  \n",
       "top     Gollux Reedall  \n",
       "freq                 2  "
      ]
     },
     "execution_count": 5,
     "metadata": {},
     "output_type": "execute_result"
    }
   ],
   "source": [
    "train.describe(include=['O'])"
   ]
  },
  {
   "cell_type": "markdown",
   "id": "d7c2eb95",
   "metadata": {
    "papermill": {
     "duration": 0.01521,
     "end_time": "2023-10-28T09:01:17.028445",
     "exception": false,
     "start_time": "2023-10-28T09:01:17.013235",
     "status": "completed"
    },
    "tags": []
   },
   "source": [
    "* Видно, что повторяются каюты. Самый большой порядок дубликата - 8. Значит в одной каюте живут до 8 человек.\n",
    "* Самым популярным пунктом назначения является TRAPPIST-1e. (5915 чел)\n",
    "* Больше всего человек летит с планеты Земля. (4602 чел)"
   ]
  },
  {
   "cell_type": "markdown",
   "id": "72ca6755",
   "metadata": {
    "papermill": {
     "duration": 0.015176,
     "end_time": "2023-10-28T09:01:17.058892",
     "exception": false,
     "start_time": "2023-10-28T09:01:17.043716",
     "status": "completed"
    },
    "tags": []
   },
   "source": [
    "## Проведем отчистку данных <a id=\"section-two-test-df-analysis\"></a>\n",
    "Дропнем колонку с **именем** и **id** пассажиров, это не будет влиять на их выживаемость"
   ]
  },
  {
   "cell_type": "code",
   "execution_count": 6,
   "id": "545a9520",
   "metadata": {
    "execution": {
     "iopub.execute_input": "2023-10-28T09:01:17.092169Z",
     "iopub.status.busy": "2023-10-28T09:01:17.091429Z",
     "iopub.status.idle": "2023-10-28T09:01:17.099802Z",
     "shell.execute_reply": "2023-10-28T09:01:17.099144Z"
    },
    "papermill": {
     "duration": 0.026681,
     "end_time": "2023-10-28T09:01:17.101434",
     "exception": false,
     "start_time": "2023-10-28T09:01:17.074753",
     "status": "completed"
    },
    "tags": []
   },
   "outputs": [],
   "source": [
    "train = train.drop(['Name', 'PassengerId'], axis=1)"
   ]
  },
  {
   "cell_type": "markdown",
   "id": "e4770ccf",
   "metadata": {
    "papermill": {
     "duration": 0.015185,
     "end_time": "2023-10-28T09:01:17.131948",
     "exception": false,
     "start_time": "2023-10-28T09:01:17.116763",
     "status": "completed"
    },
    "tags": []
   },
   "source": [
    "## Заполним пропуски <a id=\"section-two-test-df-analysis\"></a>"
   ]
  },
  {
   "cell_type": "code",
   "execution_count": 7,
   "id": "0e5cf984",
   "metadata": {
    "execution": {
     "iopub.execute_input": "2023-10-28T09:01:17.164974Z",
     "iopub.status.busy": "2023-10-28T09:01:17.164438Z",
     "iopub.status.idle": "2023-10-28T09:01:17.172580Z",
     "shell.execute_reply": "2023-10-28T09:01:17.171754Z"
    },
    "papermill": {
     "duration": 0.026496,
     "end_time": "2023-10-28T09:01:17.174234",
     "exception": false,
     "start_time": "2023-10-28T09:01:17.147738",
     "status": "completed"
    },
    "tags": []
   },
   "outputs": [
    {
     "data": {
      "text/plain": [
       "HomePlanet      201\n",
       "CryoSleep       217\n",
       "Cabin           199\n",
       "Destination     182\n",
       "Age             179\n",
       "VIP             203\n",
       "RoomService     181\n",
       "FoodCourt       183\n",
       "ShoppingMall    208\n",
       "Spa             183\n",
       "VRDeck          188\n",
       "Transported       0\n",
       "dtype: int64"
      ]
     },
     "execution_count": 7,
     "metadata": {},
     "output_type": "execute_result"
    }
   ],
   "source": [
    "train.isnull().sum()"
   ]
  },
  {
   "cell_type": "markdown",
   "id": "46a42417",
   "metadata": {
    "papermill": {
     "duration": 0.015148,
     "end_time": "2023-10-28T09:01:17.204863",
     "exception": false,
     "start_time": "2023-10-28T09:01:17.189715",
     "status": "completed"
    },
    "tags": []
   },
   "source": [
    "Видим, что есть пропуски данных по 11 переменным"
   ]
  },
  {
   "cell_type": "markdown",
   "id": "041a606c",
   "metadata": {
    "papermill": {
     "duration": 0.015105,
     "end_time": "2023-10-28T09:01:17.235500",
     "exception": false,
     "start_time": "2023-10-28T09:01:17.220395",
     "status": "completed"
    },
    "tags": []
   },
   "source": [
    "### Начнем с HomePLanet. Заполним пропуски самым частоным значением."
   ]
  },
  {
   "cell_type": "code",
   "execution_count": 8,
   "id": "182f8778",
   "metadata": {
    "execution": {
     "iopub.execute_input": "2023-10-28T09:01:17.269586Z",
     "iopub.status.busy": "2023-10-28T09:01:17.269259Z",
     "iopub.status.idle": "2023-10-28T09:01:17.276362Z",
     "shell.execute_reply": "2023-10-28T09:01:17.275449Z"
    },
    "papermill": {
     "duration": 0.027313,
     "end_time": "2023-10-28T09:01:17.278074",
     "exception": false,
     "start_time": "2023-10-28T09:01:17.250761",
     "status": "completed"
    },
    "tags": []
   },
   "outputs": [
    {
     "data": {
      "text/plain": [
       "HomePlanet\n",
       "Earth     4602\n",
       "Europa    2131\n",
       "Mars      1759\n",
       "Name: count, dtype: int64"
      ]
     },
     "execution_count": 8,
     "metadata": {},
     "output_type": "execute_result"
    }
   ],
   "source": [
    "train.HomePlanet.value_counts()"
   ]
  },
  {
   "cell_type": "code",
   "execution_count": 9,
   "id": "a836ae4d",
   "metadata": {
    "execution": {
     "iopub.execute_input": "2023-10-28T09:01:17.312526Z",
     "iopub.status.busy": "2023-10-28T09:01:17.312068Z",
     "iopub.status.idle": "2023-10-28T09:01:17.526007Z",
     "shell.execute_reply": "2023-10-28T09:01:17.525142Z"
    },
    "papermill": {
     "duration": 0.232832,
     "end_time": "2023-10-28T09:01:17.527697",
     "exception": false,
     "start_time": "2023-10-28T09:01:17.294865",
     "status": "completed"
    },
    "tags": []
   },
   "outputs": [
    {
     "data": {
      "image/png": "[encoded data removed]",
      "text/plain": [
       "<Figure size 640x480 with 1 Axes>"
      ]
     },
     "metadata": {},
     "output_type": "display_data"
    }
   ],
   "source": [
    "col = 'HomePlanet'\n",
    "train[col].hist()\n",
    "train[col].fillna('Earth', inplace=True)"
   ]
  },
  {
   "cell_type": "markdown",
   "id": "f271d823",
   "metadata": {
    "papermill": {
     "duration": 0.015963,
     "end_time": "2023-10-28T09:01:17.560202",
     "exception": false,
     "start_time": "2023-10-28T09:01:17.544239",
     "status": "completed"
    },
    "tags": []
   },
   "source": [
    "Конвертируем категориальное значение в численное представление."
   ]
  },
  {
   "cell_type": "code",
   "execution_count": 10,
   "id": "641a2097",
   "metadata": {
    "execution": {
     "iopub.execute_input": "2023-10-28T09:01:17.594566Z",
     "iopub.status.busy": "2023-10-28T09:01:17.594089Z",
     "iopub.status.idle": "2023-10-28T09:01:17.611984Z",
     "shell.execute_reply": "2023-10-28T09:01:17.610371Z"
    },
    "papermill": {
     "duration": 0.038051,
     "end_time": "2023-10-28T09:01:17.614979",
     "exception": false,
     "start_time": "2023-10-28T09:01:17.576928",
     "status": "completed"
    },
    "tags": []
   },
   "outputs": [
    {
     "data": {
      "text/html": [
       "<div>\n",
       "<style scoped>\n",
       "    .dataframe tbody tr th:only-of-type {\n",
       "        vertical-align: middle;\n",
       "    }\n",
       "\n",
       "    .dataframe tbody tr th {\n",
       "        vertical-align: top;\n",
       "    }\n",
       "\n",
       "    .dataframe thead th {\n",
       "        text-align: right;\n",
       "    }\n",
       "</style>\n",
       "<table border=\"1\" class=\"dataframe\">\n",
       "  <thead>\n",
       "    <tr style=\"text-align: right;\">\n",
       "      <th></th>\n",
       "      <th>HomePlanet</th>\n",
       "      <th>CryoSleep</th>\n",
       "      <th>Cabin</th>\n",
       "      <th>Destination</th>\n",
       "      <th>Age</th>\n",
       "      <th>VIP</th>\n",
       "      <th>RoomService</th>\n",
       "      <th>FoodCourt</th>\n",
       "      <th>ShoppingMall</th>\n",
       "      <th>Spa</th>\n",
       "      <th>VRDeck</th>\n",
       "      <th>Transported</th>\n",
       "    </tr>\n",
       "  </thead>\n",
       "  <tbody>\n",
       "    <tr>\n",
       "      <th>0</th>\n",
       "      <td>2</td>\n",
       "      <td>False</td>\n",
       "      <td>B/0/P</td>\n",
       "      <td>TRAPPIST-1e</td>\n",
       "      <td>39.0</td>\n",
       "      <td>False</td>\n",
       "      <td>0.0</td>\n",
       "      <td>0.0</td>\n",
       "      <td>0.0</td>\n",
       "      <td>0.0</td>\n",
       "      <td>0.0</td>\n",
       "      <td>False</td>\n",
       "    </tr>\n",
       "    <tr>\n",
       "      <th>1</th>\n",
       "      <td>1</td>\n",
       "      <td>False</td>\n",
       "      <td>F/0/S</td>\n",
       "      <td>TRAPPIST-1e</td>\n",
       "      <td>24.0</td>\n",
       "      <td>False</td>\n",
       "      <td>109.0</td>\n",
       "      <td>9.0</td>\n",
       "      <td>25.0</td>\n",
       "      <td>549.0</td>\n",
       "      <td>44.0</td>\n",
       "      <td>True</td>\n",
       "    </tr>\n",
       "    <tr>\n",
       "      <th>2</th>\n",
       "      <td>2</td>\n",
       "      <td>False</td>\n",
       "      <td>A/0/S</td>\n",
       "      <td>TRAPPIST-1e</td>\n",
       "      <td>58.0</td>\n",
       "      <td>True</td>\n",
       "      <td>43.0</td>\n",
       "      <td>3576.0</td>\n",
       "      <td>0.0</td>\n",
       "      <td>6715.0</td>\n",
       "      <td>49.0</td>\n",
       "      <td>False</td>\n",
       "    </tr>\n",
       "    <tr>\n",
       "      <th>3</th>\n",
       "      <td>2</td>\n",
       "      <td>False</td>\n",
       "      <td>A/0/S</td>\n",
       "      <td>TRAPPIST-1e</td>\n",
       "      <td>33.0</td>\n",
       "      <td>False</td>\n",
       "      <td>0.0</td>\n",
       "      <td>1283.0</td>\n",
       "      <td>371.0</td>\n",
       "      <td>3329.0</td>\n",
       "      <td>193.0</td>\n",
       "      <td>False</td>\n",
       "    </tr>\n",
       "    <tr>\n",
       "      <th>4</th>\n",
       "      <td>1</td>\n",
       "      <td>False</td>\n",
       "      <td>F/1/S</td>\n",
       "      <td>TRAPPIST-1e</td>\n",
       "      <td>16.0</td>\n",
       "      <td>False</td>\n",
       "      <td>303.0</td>\n",
       "      <td>70.0</td>\n",
       "      <td>151.0</td>\n",
       "      <td>565.0</td>\n",
       "      <td>2.0</td>\n",
       "      <td>True</td>\n",
       "    </tr>\n",
       "  </tbody>\n",
       "</table>\n",
       "</div>"
      ],
      "text/plain": [
       "   HomePlanet CryoSleep  Cabin  Destination   Age    VIP  RoomService  \\\n",
       "0           2     False  B/0/P  TRAPPIST-1e  39.0  False          0.0   \n",
       "1           1     False  F/0/S  TRAPPIST-1e  24.0  False        109.0   \n",
       "2           2     False  A/0/S  TRAPPIST-1e  58.0   True         43.0   \n",
       "3           2     False  A/0/S  TRAPPIST-1e  33.0  False          0.0   \n",
       "4           1     False  F/1/S  TRAPPIST-1e  16.0  False        303.0   \n",
       "\n",
       "   FoodCourt  ShoppingMall     Spa  VRDeck  Transported  \n",
       "0        0.0           0.0     0.0     0.0        False  \n",
       "1        9.0          25.0   549.0    44.0         True  \n",
       "2     3576.0           0.0  6715.0    49.0        False  \n",
       "3     1283.0         371.0  3329.0   193.0        False  \n",
       "4       70.0         151.0   565.0     2.0         True  "
      ]
     },
     "execution_count": 10,
     "metadata": {},
     "output_type": "execute_result"
    }
   ],
   "source": [
    "col = 'HomePlanet'\n",
    "train[col] = train[col].map({\"Earth\": 1, \"Europa\": 2, \"Mars\": 3})\n",
    "    \n",
    "train.head()"
   ]
  },
  {
   "cell_type": "markdown",
   "id": "c13db41f",
   "metadata": {
    "papermill": {
     "duration": 0.017166,
     "end_time": "2023-10-28T09:01:17.650901",
     "exception": false,
     "start_time": "2023-10-28T09:01:17.633735",
     "status": "completed"
    },
    "tags": []
   },
   "source": [
    "### Далее рассмотрим CryoSleep. Заполним пропуски самым частотным значением."
   ]
  },
  {
   "cell_type": "code",
   "execution_count": 11,
   "id": "f27433a4",
   "metadata": {
    "execution": {
     "iopub.execute_input": "2023-10-28T09:01:17.684874Z",
     "iopub.status.busy": "2023-10-28T09:01:17.684533Z",
     "iopub.status.idle": "2023-10-28T09:01:17.691998Z",
     "shell.execute_reply": "2023-10-28T09:01:17.691055Z"
    },
    "papermill": {
     "duration": 0.026573,
     "end_time": "2023-10-28T09:01:17.693723",
     "exception": false,
     "start_time": "2023-10-28T09:01:17.667150",
     "status": "completed"
    },
    "tags": []
   },
   "outputs": [
    {
     "data": {
      "text/plain": [
       "CryoSleep\n",
       "False    5439\n",
       "True     3037\n",
       "Name: count, dtype: int64"
      ]
     },
     "execution_count": 11,
     "metadata": {},
     "output_type": "execute_result"
    }
   ],
   "source": [
    "train.CryoSleep.value_counts()"
   ]
  },
  {
   "cell_type": "code",
   "execution_count": 12,
   "id": "3dca3ca2",
   "metadata": {
    "execution": {
     "iopub.execute_input": "2023-10-28T09:01:17.727956Z",
     "iopub.status.busy": "2023-10-28T09:01:17.727633Z",
     "iopub.status.idle": "2023-10-28T09:01:17.733104Z",
     "shell.execute_reply": "2023-10-28T09:01:17.732221Z"
    },
    "papermill": {
     "duration": 0.024475,
     "end_time": "2023-10-28T09:01:17.734700",
     "exception": false,
     "start_time": "2023-10-28T09:01:17.710225",
     "status": "completed"
    },
    "tags": []
   },
   "outputs": [],
   "source": [
    "col = 'CryoSleep'\n",
    "train[col].fillna(False, inplace=True)"
   ]
  },
  {
   "cell_type": "markdown",
   "id": "9a26c1fe",
   "metadata": {
    "papermill": {
     "duration": 0.016315,
     "end_time": "2023-10-28T09:01:17.767849",
     "exception": false,
     "start_time": "2023-10-28T09:01:17.751534",
     "status": "completed"
    },
    "tags": []
   },
   "source": [
    "### Далее рассмотрим Cabin.\n",
    "Разделим данный столбец на три столбца - **deck/num/side**, которые в дальнейшем могут быть информативны.\n",
    "\n",
    "При этом значение может иметь то, со сколькими людьми в одной кабине путешествует пассажир.\n",
    "Поэтому созданим новый признак - **NumCabinMates**, который будет показывать со сколькими людьми в одной кабине путешествует пассажир. \n",
    "Можно предположить, что он характеризует количество родственников пассажира на корабле.\n"
   ]
  },
  {
   "cell_type": "code",
   "execution_count": 13,
   "id": "ba4b6725",
   "metadata": {
    "execution": {
     "iopub.execute_input": "2023-10-28T09:01:17.801783Z",
     "iopub.status.busy": "2023-10-28T09:01:17.801457Z",
     "iopub.status.idle": "2023-10-28T09:01:17.810727Z",
     "shell.execute_reply": "2023-10-28T09:01:17.810074Z"
    },
    "papermill": {
     "duration": 0.028456,
     "end_time": "2023-10-28T09:01:17.812522",
     "exception": false,
     "start_time": "2023-10-28T09:01:17.784066",
     "status": "completed"
    },
    "tags": []
   },
   "outputs": [
    {
     "data": {
      "text/plain": [
       "Cabin\n",
       "G/734/S     8\n",
       "G/109/P     7\n",
       "B/201/P     7\n",
       "G/1368/P    7\n",
       "G/981/S     7\n",
       "           ..\n",
       "G/556/P     1\n",
       "E/231/S     1\n",
       "G/545/S     1\n",
       "G/543/S     1\n",
       "F/947/P     1\n",
       "Name: count, Length: 6560, dtype: int64"
      ]
     },
     "execution_count": 13,
     "metadata": {},
     "output_type": "execute_result"
    }
   ],
   "source": [
    "train.Cabin.value_counts()"
   ]
  },
  {
   "cell_type": "code",
   "execution_count": 14,
   "id": "cf62dbe3",
   "metadata": {
    "execution": {
     "iopub.execute_input": "2023-10-28T09:01:17.849802Z",
     "iopub.status.busy": "2023-10-28T09:01:17.849473Z",
     "iopub.status.idle": "2023-10-28T09:01:23.269963Z",
     "shell.execute_reply": "2023-10-28T09:01:23.268807Z"
    },
    "papermill": {
     "duration": 5.440909,
     "end_time": "2023-10-28T09:01:23.271717",
     "exception": false,
     "start_time": "2023-10-28T09:01:17.830808",
     "status": "completed"
    },
    "tags": []
   },
   "outputs": [
    {
     "name": "stdout",
     "output_type": "stream",
     "text": [
      "<class 'pandas.core.frame.DataFrame'>\n",
      "RangeIndex: 8693 entries, 0 to 8692\n",
      "Data columns (total 15 columns):\n",
      " #   Column         Non-Null Count  Dtype  \n",
      "---  ------         --------------  -----  \n",
      " 0   HomePlanet     8693 non-null   int64  \n",
      " 1   CryoSleep      8693 non-null   bool   \n",
      " 2   Destination    8511 non-null   object \n",
      " 3   Age            8514 non-null   float64\n",
      " 4   VIP            8490 non-null   object \n",
      " 5   RoomService    8512 non-null   float64\n",
      " 6   FoodCourt      8510 non-null   float64\n",
      " 7   ShoppingMall   8485 non-null   float64\n",
      " 8   Spa            8510 non-null   float64\n",
      " 9   VRDeck         8505 non-null   float64\n",
      " 10  Transported    8693 non-null   bool   \n",
      " 11  NumCabinMates  8693 non-null   int64  \n",
      " 12  Deck           8494 non-null   object \n",
      " 13  NumCabin       8494 non-null   object \n",
      " 14  Side           8494 non-null   object \n",
      "dtypes: bool(2), float64(6), int64(2), object(5)\n",
      "memory usage: 900.0+ KB\n"
     ]
    }
   ],
   "source": [
    "relatives_mas = train.Cabin.unique()\n",
    "relatives_mapping = {}\n",
    "for el in relatives_mas:\n",
    "    relatives_mapping[el] = len(train[train['Cabin']==el])\n",
    "\n",
    "train['NumCabinMates'] = train['Cabin'].copy() \n",
    "train['NumCabinMates'] = train['NumCabinMates'].map(relatives_mapping)\n",
    "\n",
    "train[['Deck', 'NumCabin', 'Side']] = train['Cabin'].str.split('/', expand=True)\n",
    "train = train.drop('Cabin', axis=1)\n",
    "train.info()"
   ]
  },
  {
   "cell_type": "code",
   "execution_count": 15,
   "id": "988acc01",
   "metadata": {
    "execution": {
     "iopub.execute_input": "2023-10-28T09:01:23.309969Z",
     "iopub.status.busy": "2023-10-28T09:01:23.309636Z",
     "iopub.status.idle": "2023-10-28T09:01:23.327341Z",
     "shell.execute_reply": "2023-10-28T09:01:23.325887Z"
    },
    "papermill": {
     "duration": 0.040075,
     "end_time": "2023-10-28T09:01:23.329708",
     "exception": false,
     "start_time": "2023-10-28T09:01:23.289633",
     "status": "completed"
    },
    "tags": []
   },
   "outputs": [
    {
     "data": {
      "text/html": [
       "<div>\n",
       "<style scoped>\n",
       "    .dataframe tbody tr th:only-of-type {\n",
       "        vertical-align: middle;\n",
       "    }\n",
       "\n",
       "    .dataframe tbody tr th {\n",
       "        vertical-align: top;\n",
       "    }\n",
       "\n",
       "    .dataframe thead th {\n",
       "        text-align: right;\n",
       "    }\n",
       "</style>\n",
       "<table border=\"1\" class=\"dataframe\">\n",
       "  <thead>\n",
       "    <tr style=\"text-align: right;\">\n",
       "      <th></th>\n",
       "      <th>HomePlanet</th>\n",
       "      <th>CryoSleep</th>\n",
       "      <th>Destination</th>\n",
       "      <th>Age</th>\n",
       "      <th>VIP</th>\n",
       "      <th>RoomService</th>\n",
       "      <th>FoodCourt</th>\n",
       "      <th>ShoppingMall</th>\n",
       "      <th>Spa</th>\n",
       "      <th>VRDeck</th>\n",
       "      <th>Transported</th>\n",
       "      <th>NumCabinMates</th>\n",
       "      <th>Deck</th>\n",
       "      <th>NumCabin</th>\n",
       "      <th>Side</th>\n",
       "    </tr>\n",
       "  </thead>\n",
       "  <tbody>\n",
       "    <tr>\n",
       "      <th>0</th>\n",
       "      <td>2</td>\n",
       "      <td>False</td>\n",
       "      <td>TRAPPIST-1e</td>\n",
       "      <td>39.0</td>\n",
       "      <td>False</td>\n",
       "      <td>0.0</td>\n",
       "      <td>0.0</td>\n",
       "      <td>0.0</td>\n",
       "      <td>0.0</td>\n",
       "      <td>0.0</td>\n",
       "      <td>False</td>\n",
       "      <td>1</td>\n",
       "      <td>B</td>\n",
       "      <td>0</td>\n",
       "      <td>P</td>\n",
       "    </tr>\n",
       "    <tr>\n",
       "      <th>1</th>\n",
       "      <td>1</td>\n",
       "      <td>False</td>\n",
       "      <td>TRAPPIST-1e</td>\n",
       "      <td>24.0</td>\n",
       "      <td>False</td>\n",
       "      <td>109.0</td>\n",
       "      <td>9.0</td>\n",
       "      <td>25.0</td>\n",
       "      <td>549.0</td>\n",
       "      <td>44.0</td>\n",
       "      <td>True</td>\n",
       "      <td>1</td>\n",
       "      <td>F</td>\n",
       "      <td>0</td>\n",
       "      <td>S</td>\n",
       "    </tr>\n",
       "    <tr>\n",
       "      <th>2</th>\n",
       "      <td>2</td>\n",
       "      <td>False</td>\n",
       "      <td>TRAPPIST-1e</td>\n",
       "      <td>58.0</td>\n",
       "      <td>True</td>\n",
       "      <td>43.0</td>\n",
       "      <td>3576.0</td>\n",
       "      <td>0.0</td>\n",
       "      <td>6715.0</td>\n",
       "      <td>49.0</td>\n",
       "      <td>False</td>\n",
       "      <td>2</td>\n",
       "      <td>A</td>\n",
       "      <td>0</td>\n",
       "      <td>S</td>\n",
       "    </tr>\n",
       "    <tr>\n",
       "      <th>3</th>\n",
       "      <td>2</td>\n",
       "      <td>False</td>\n",
       "      <td>TRAPPIST-1e</td>\n",
       "      <td>33.0</td>\n",
       "      <td>False</td>\n",
       "      <td>0.0</td>\n",
       "      <td>1283.0</td>\n",
       "      <td>371.0</td>\n",
       "      <td>3329.0</td>\n",
       "      <td>193.0</td>\n",
       "      <td>False</td>\n",
       "      <td>2</td>\n",
       "      <td>A</td>\n",
       "      <td>0</td>\n",
       "      <td>S</td>\n",
       "    </tr>\n",
       "    <tr>\n",
       "      <th>4</th>\n",
       "      <td>1</td>\n",
       "      <td>False</td>\n",
       "      <td>TRAPPIST-1e</td>\n",
       "      <td>16.0</td>\n",
       "      <td>False</td>\n",
       "      <td>303.0</td>\n",
       "      <td>70.0</td>\n",
       "      <td>151.0</td>\n",
       "      <td>565.0</td>\n",
       "      <td>2.0</td>\n",
       "      <td>True</td>\n",
       "      <td>1</td>\n",
       "      <td>F</td>\n",
       "      <td>1</td>\n",
       "      <td>S</td>\n",
       "    </tr>\n",
       "  </tbody>\n",
       "</table>\n",
       "</div>"
      ],
      "text/plain": [
       "   HomePlanet  CryoSleep  Destination   Age    VIP  RoomService  FoodCourt  \\\n",
       "0           2      False  TRAPPIST-1e  39.0  False          0.0        0.0   \n",
       "1           1      False  TRAPPIST-1e  24.0  False        109.0        9.0   \n",
       "2           2      False  TRAPPIST-1e  58.0   True         43.0     3576.0   \n",
       "3           2      False  TRAPPIST-1e  33.0  False          0.0     1283.0   \n",
       "4           1      False  TRAPPIST-1e  16.0  False        303.0       70.0   \n",
       "\n",
       "   ShoppingMall     Spa  VRDeck  Transported  NumCabinMates Deck NumCabin Side  \n",
       "0           0.0     0.0     0.0        False              1    B        0    P  \n",
       "1          25.0   549.0    44.0         True              1    F        0    S  \n",
       "2           0.0  6715.0    49.0        False              2    A        0    S  \n",
       "3         371.0  3329.0   193.0        False              2    A        0    S  \n",
       "4         151.0   565.0     2.0         True              1    F        1    S  "
      ]
     },
     "execution_count": 15,
     "metadata": {},
     "output_type": "execute_result"
    }
   ],
   "source": [
    "train.head()"
   ]
  },
  {
   "cell_type": "markdown",
   "id": "8de37e19",
   "metadata": {
    "papermill": {
     "duration": 0.016254,
     "end_time": "2023-10-28T09:01:23.363595",
     "exception": false,
     "start_time": "2023-10-28T09:01:23.347341",
     "status": "completed"
    },
    "tags": []
   },
   "source": [
    "#### Восстановим пропуски и переведем из категориального вида в численное представление только что созданные столбцы"
   ]
  },
  {
   "cell_type": "code",
   "execution_count": 16,
   "id": "21e78f03",
   "metadata": {
    "execution": {
     "iopub.execute_input": "2023-10-28T09:01:23.399687Z",
     "iopub.status.busy": "2023-10-28T09:01:23.399386Z",
     "iopub.status.idle": "2023-10-28T09:01:23.407010Z",
     "shell.execute_reply": "2023-10-28T09:01:23.405971Z"
    },
    "papermill": {
     "duration": 0.02888,
     "end_time": "2023-10-28T09:01:23.408978",
     "exception": false,
     "start_time": "2023-10-28T09:01:23.380098",
     "status": "completed"
    },
    "tags": []
   },
   "outputs": [
    {
     "data": {
      "text/plain": [
       "Deck\n",
       "F    2794\n",
       "G    2559\n",
       "E     876\n",
       "B     779\n",
       "C     747\n",
       "D     478\n",
       "A     256\n",
       "T       5\n",
       "Name: count, dtype: int64"
      ]
     },
     "execution_count": 16,
     "metadata": {},
     "output_type": "execute_result"
    }
   ],
   "source": [
    "train.Deck.value_counts()"
   ]
  },
  {
   "cell_type": "code",
   "execution_count": 17,
   "id": "ba69b829",
   "metadata": {
    "execution": {
     "iopub.execute_input": "2023-10-28T09:01:23.445891Z",
     "iopub.status.busy": "2023-10-28T09:01:23.445502Z",
     "iopub.status.idle": "2023-10-28T09:01:23.697975Z",
     "shell.execute_reply": "2023-10-28T09:01:23.697104Z"
    },
    "papermill": {
     "duration": 0.272831,
     "end_time": "2023-10-28T09:01:23.699708",
     "exception": false,
     "start_time": "2023-10-28T09:01:23.426877",
     "status": "completed"
    },
    "tags": []
   },
   "outputs": [
    {
     "data": {
      "text/plain": [
       "<Axes: >"
      ]
     },
     "execution_count": 17,
     "metadata": {},
     "output_type": "execute_result"
    },
    {
     "data": {
      "image/png": "[encoded data removed]",
      "text/plain": [
       "<Figure size 640x480 with 1 Axes>"
      ]
     },
     "metadata": {},
     "output_type": "display_data"
    }
   ],
   "source": [
    "train['Deck'].fillna('F', inplace=True)\n",
    "train['Deck'].hist()\n"
   ]
  },
  {
   "cell_type": "code",
   "execution_count": 18,
   "id": "1df57dce",
   "metadata": {
    "execution": {
     "iopub.execute_input": "2023-10-28T09:01:23.735941Z",
     "iopub.status.busy": "2023-10-28T09:01:23.735572Z",
     "iopub.status.idle": "2023-10-28T09:01:23.754404Z",
     "shell.execute_reply": "2023-10-28T09:01:23.753299Z"
    },
    "papermill": {
     "duration": 0.03884,
     "end_time": "2023-10-28T09:01:23.756227",
     "exception": false,
     "start_time": "2023-10-28T09:01:23.717387",
     "status": "completed"
    },
    "tags": []
   },
   "outputs": [
    {
     "data": {
      "text/html": [
       "<div>\n",
       "<style scoped>\n",
       "    .dataframe tbody tr th:only-of-type {\n",
       "        vertical-align: middle;\n",
       "    }\n",
       "\n",
       "    .dataframe tbody tr th {\n",
       "        vertical-align: top;\n",
       "    }\n",
       "\n",
       "    .dataframe thead th {\n",
       "        text-align: right;\n",
       "    }\n",
       "</style>\n",
       "<table border=\"1\" class=\"dataframe\">\n",
       "  <thead>\n",
       "    <tr style=\"text-align: right;\">\n",
       "      <th></th>\n",
       "      <th>HomePlanet</th>\n",
       "      <th>CryoSleep</th>\n",
       "      <th>Destination</th>\n",
       "      <th>Age</th>\n",
       "      <th>VIP</th>\n",
       "      <th>RoomService</th>\n",
       "      <th>FoodCourt</th>\n",
       "      <th>ShoppingMall</th>\n",
       "      <th>Spa</th>\n",
       "      <th>VRDeck</th>\n",
       "      <th>Transported</th>\n",
       "      <th>NumCabinMates</th>\n",
       "      <th>Deck</th>\n",
       "      <th>NumCabin</th>\n",
       "      <th>Side</th>\n",
       "    </tr>\n",
       "  </thead>\n",
       "  <tbody>\n",
       "    <tr>\n",
       "      <th>0</th>\n",
       "      <td>2</td>\n",
       "      <td>False</td>\n",
       "      <td>TRAPPIST-1e</td>\n",
       "      <td>39.0</td>\n",
       "      <td>False</td>\n",
       "      <td>0.0</td>\n",
       "      <td>0.0</td>\n",
       "      <td>0.0</td>\n",
       "      <td>0.0</td>\n",
       "      <td>0.0</td>\n",
       "      <td>False</td>\n",
       "      <td>1</td>\n",
       "      <td>2</td>\n",
       "      <td>0</td>\n",
       "      <td>P</td>\n",
       "    </tr>\n",
       "    <tr>\n",
       "      <th>1</th>\n",
       "      <td>1</td>\n",
       "      <td>False</td>\n",
       "      <td>TRAPPIST-1e</td>\n",
       "      <td>24.0</td>\n",
       "      <td>False</td>\n",
       "      <td>109.0</td>\n",
       "      <td>9.0</td>\n",
       "      <td>25.0</td>\n",
       "      <td>549.0</td>\n",
       "      <td>44.0</td>\n",
       "      <td>True</td>\n",
       "      <td>1</td>\n",
       "      <td>6</td>\n",
       "      <td>0</td>\n",
       "      <td>S</td>\n",
       "    </tr>\n",
       "    <tr>\n",
       "      <th>2</th>\n",
       "      <td>2</td>\n",
       "      <td>False</td>\n",
       "      <td>TRAPPIST-1e</td>\n",
       "      <td>58.0</td>\n",
       "      <td>True</td>\n",
       "      <td>43.0</td>\n",
       "      <td>3576.0</td>\n",
       "      <td>0.0</td>\n",
       "      <td>6715.0</td>\n",
       "      <td>49.0</td>\n",
       "      <td>False</td>\n",
       "      <td>2</td>\n",
       "      <td>1</td>\n",
       "      <td>0</td>\n",
       "      <td>S</td>\n",
       "    </tr>\n",
       "    <tr>\n",
       "      <th>3</th>\n",
       "      <td>2</td>\n",
       "      <td>False</td>\n",
       "      <td>TRAPPIST-1e</td>\n",
       "      <td>33.0</td>\n",
       "      <td>False</td>\n",
       "      <td>0.0</td>\n",
       "      <td>1283.0</td>\n",
       "      <td>371.0</td>\n",
       "      <td>3329.0</td>\n",
       "      <td>193.0</td>\n",
       "      <td>False</td>\n",
       "      <td>2</td>\n",
       "      <td>1</td>\n",
       "      <td>0</td>\n",
       "      <td>S</td>\n",
       "    </tr>\n",
       "    <tr>\n",
       "      <th>4</th>\n",
       "      <td>1</td>\n",
       "      <td>False</td>\n",
       "      <td>TRAPPIST-1e</td>\n",
       "      <td>16.0</td>\n",
       "      <td>False</td>\n",
       "      <td>303.0</td>\n",
       "      <td>70.0</td>\n",
       "      <td>151.0</td>\n",
       "      <td>565.0</td>\n",
       "      <td>2.0</td>\n",
       "      <td>True</td>\n",
       "      <td>1</td>\n",
       "      <td>6</td>\n",
       "      <td>1</td>\n",
       "      <td>S</td>\n",
       "    </tr>\n",
       "  </tbody>\n",
       "</table>\n",
       "</div>"
      ],
      "text/plain": [
       "   HomePlanet  CryoSleep  Destination   Age    VIP  RoomService  FoodCourt  \\\n",
       "0           2      False  TRAPPIST-1e  39.0  False          0.0        0.0   \n",
       "1           1      False  TRAPPIST-1e  24.0  False        109.0        9.0   \n",
       "2           2      False  TRAPPIST-1e  58.0   True         43.0     3576.0   \n",
       "3           2      False  TRAPPIST-1e  33.0  False          0.0     1283.0   \n",
       "4           1      False  TRAPPIST-1e  16.0  False        303.0       70.0   \n",
       "\n",
       "   ShoppingMall     Spa  VRDeck  Transported  NumCabinMates  Deck NumCabin  \\\n",
       "0           0.0     0.0     0.0        False              1     2        0   \n",
       "1          25.0   549.0    44.0         True              1     6        0   \n",
       "2           0.0  6715.0    49.0        False              2     1        0   \n",
       "3         371.0  3329.0   193.0        False              2     1        0   \n",
       "4         151.0   565.0     2.0         True              1     6        1   \n",
       "\n",
       "  Side  \n",
       "0    P  \n",
       "1    S  \n",
       "2    S  \n",
       "3    S  \n",
       "4    S  "
      ]
     },
     "execution_count": 18,
     "metadata": {},
     "output_type": "execute_result"
    }
   ],
   "source": [
    "col = 'Deck'\n",
    "train[col] = train[col].map({\"A\": 1, \"B\": 2, \"C\": 3, \"D\": 4, \"E\": 5, \"F\": 6, \"G\": 7, \"T\": 8})\n",
    "    \n",
    "train.head()"
   ]
  },
  {
   "cell_type": "code",
   "execution_count": 19,
   "id": "0f09f48e",
   "metadata": {
    "execution": {
     "iopub.execute_input": "2023-10-28T09:01:23.794007Z",
     "iopub.status.busy": "2023-10-28T09:01:23.793620Z",
     "iopub.status.idle": "2023-10-28T09:01:24.094445Z",
     "shell.execute_reply": "2023-10-28T09:01:24.093384Z"
    },
    "papermill": {
     "duration": 0.322334,
     "end_time": "2023-10-28T09:01:24.096767",
     "exception": false,
     "start_time": "2023-10-28T09:01:23.774433",
     "status": "completed"
    },
    "tags": []
   },
   "outputs": [
    {
     "data": {
      "text/plain": [
       "<Axes: >"
      ]
     },
     "execution_count": 19,
     "metadata": {},
     "output_type": "execute_result"
    },
    {
     "data": {
      "image/png": "[encoded data removed]",
      "text/plain": [
       "<Figure size 640x480 with 1 Axes>"
      ]
     },
     "metadata": {},
     "output_type": "display_data"
    }
   ],
   "source": [
    "train['NumCabin'] = train['NumCabin'].fillna(train['NumCabin'].median())\n",
    "sns.violinplot(train['NumCabin'])"
   ]
  },
  {
   "cell_type": "code",
   "execution_count": 20,
   "id": "5be3c601",
   "metadata": {
    "execution": {
     "iopub.execute_input": "2023-10-28T09:01:24.139340Z",
     "iopub.status.busy": "2023-10-28T09:01:24.138730Z",
     "iopub.status.idle": "2023-10-28T09:01:24.146207Z",
     "shell.execute_reply": "2023-10-28T09:01:24.145566Z"
    },
    "papermill": {
     "duration": 0.03053,
     "end_time": "2023-10-28T09:01:24.148386",
     "exception": false,
     "start_time": "2023-10-28T09:01:24.117856",
     "status": "completed"
    },
    "tags": []
   },
   "outputs": [
    {
     "data": {
      "text/plain": [
       "Side\n",
       "S    4288\n",
       "P    4206\n",
       "Name: count, dtype: int64"
      ]
     },
     "execution_count": 20,
     "metadata": {},
     "output_type": "execute_result"
    }
   ],
   "source": [
    "train.Side.value_counts()"
   ]
  },
  {
   "cell_type": "code",
   "execution_count": 21,
   "id": "957b1fec",
   "metadata": {
    "execution": {
     "iopub.execute_input": "2023-10-28T09:01:24.187566Z",
     "iopub.status.busy": "2023-10-28T09:01:24.186773Z",
     "iopub.status.idle": "2023-10-28T09:01:24.353402Z",
     "shell.execute_reply": "2023-10-28T09:01:24.352501Z"
    },
    "papermill": {
     "duration": 0.187547,
     "end_time": "2023-10-28T09:01:24.355160",
     "exception": false,
     "start_time": "2023-10-28T09:01:24.167613",
     "status": "completed"
    },
    "tags": []
   },
   "outputs": [
    {
     "data": {
      "image/png": "[encoded data removed]",
      "text/plain": [
       "<Figure size 640x480 with 1 Axes>"
      ]
     },
     "metadata": {},
     "output_type": "display_data"
    }
   ],
   "source": [
    "train['Side'].hist()\n",
    "train['Side'].fillna('S', inplace=True)"
   ]
  },
  {
   "cell_type": "code",
   "execution_count": 22,
   "id": "5db790c5",
   "metadata": {
    "execution": {
     "iopub.execute_input": "2023-10-28T09:01:24.392980Z",
     "iopub.status.busy": "2023-10-28T09:01:24.392648Z",
     "iopub.status.idle": "2023-10-28T09:01:24.410632Z",
     "shell.execute_reply": "2023-10-28T09:01:24.409420Z"
    },
    "papermill": {
     "duration": 0.038494,
     "end_time": "2023-10-28T09:01:24.412373",
     "exception": false,
     "start_time": "2023-10-28T09:01:24.373879",
     "status": "completed"
    },
    "tags": []
   },
   "outputs": [
    {
     "data": {
      "text/html": [
       "<div>\n",
       "<style scoped>\n",
       "    .dataframe tbody tr th:only-of-type {\n",
       "        vertical-align: middle;\n",
       "    }\n",
       "\n",
       "    .dataframe tbody tr th {\n",
       "        vertical-align: top;\n",
       "    }\n",
       "\n",
       "    .dataframe thead th {\n",
       "        text-align: right;\n",
       "    }\n",
       "</style>\n",
       "<table border=\"1\" class=\"dataframe\">\n",
       "  <thead>\n",
       "    <tr style=\"text-align: right;\">\n",
       "      <th></th>\n",
       "      <th>HomePlanet</th>\n",
       "      <th>CryoSleep</th>\n",
       "      <th>Destination</th>\n",
       "      <th>Age</th>\n",
       "      <th>VIP</th>\n",
       "      <th>RoomService</th>\n",
       "      <th>FoodCourt</th>\n",
       "      <th>ShoppingMall</th>\n",
       "      <th>Spa</th>\n",
       "      <th>VRDeck</th>\n",
       "      <th>Transported</th>\n",
       "      <th>NumCabinMates</th>\n",
       "      <th>Deck</th>\n",
       "      <th>NumCabin</th>\n",
       "      <th>Side</th>\n",
       "    </tr>\n",
       "  </thead>\n",
       "  <tbody>\n",
       "    <tr>\n",
       "      <th>0</th>\n",
       "      <td>2</td>\n",
       "      <td>False</td>\n",
       "      <td>TRAPPIST-1e</td>\n",
       "      <td>39.0</td>\n",
       "      <td>False</td>\n",
       "      <td>0.0</td>\n",
       "      <td>0.0</td>\n",
       "      <td>0.0</td>\n",
       "      <td>0.0</td>\n",
       "      <td>0.0</td>\n",
       "      <td>False</td>\n",
       "      <td>1</td>\n",
       "      <td>2</td>\n",
       "      <td>0</td>\n",
       "      <td>2</td>\n",
       "    </tr>\n",
       "    <tr>\n",
       "      <th>1</th>\n",
       "      <td>1</td>\n",
       "      <td>False</td>\n",
       "      <td>TRAPPIST-1e</td>\n",
       "      <td>24.0</td>\n",
       "      <td>False</td>\n",
       "      <td>109.0</td>\n",
       "      <td>9.0</td>\n",
       "      <td>25.0</td>\n",
       "      <td>549.0</td>\n",
       "      <td>44.0</td>\n",
       "      <td>True</td>\n",
       "      <td>1</td>\n",
       "      <td>6</td>\n",
       "      <td>0</td>\n",
       "      <td>1</td>\n",
       "    </tr>\n",
       "    <tr>\n",
       "      <th>2</th>\n",
       "      <td>2</td>\n",
       "      <td>False</td>\n",
       "      <td>TRAPPIST-1e</td>\n",
       "      <td>58.0</td>\n",
       "      <td>True</td>\n",
       "      <td>43.0</td>\n",
       "      <td>3576.0</td>\n",
       "      <td>0.0</td>\n",
       "      <td>6715.0</td>\n",
       "      <td>49.0</td>\n",
       "      <td>False</td>\n",
       "      <td>2</td>\n",
       "      <td>1</td>\n",
       "      <td>0</td>\n",
       "      <td>1</td>\n",
       "    </tr>\n",
       "    <tr>\n",
       "      <th>3</th>\n",
       "      <td>2</td>\n",
       "      <td>False</td>\n",
       "      <td>TRAPPIST-1e</td>\n",
       "      <td>33.0</td>\n",
       "      <td>False</td>\n",
       "      <td>0.0</td>\n",
       "      <td>1283.0</td>\n",
       "      <td>371.0</td>\n",
       "      <td>3329.0</td>\n",
       "      <td>193.0</td>\n",
       "      <td>False</td>\n",
       "      <td>2</td>\n",
       "      <td>1</td>\n",
       "      <td>0</td>\n",
       "      <td>1</td>\n",
       "    </tr>\n",
       "    <tr>\n",
       "      <th>4</th>\n",
       "      <td>1</td>\n",
       "      <td>False</td>\n",
       "      <td>TRAPPIST-1e</td>\n",
       "      <td>16.0</td>\n",
       "      <td>False</td>\n",
       "      <td>303.0</td>\n",
       "      <td>70.0</td>\n",
       "      <td>151.0</td>\n",
       "      <td>565.0</td>\n",
       "      <td>2.0</td>\n",
       "      <td>True</td>\n",
       "      <td>1</td>\n",
       "      <td>6</td>\n",
       "      <td>1</td>\n",
       "      <td>1</td>\n",
       "    </tr>\n",
       "  </tbody>\n",
       "</table>\n",
       "</div>"
      ],
      "text/plain": [
       "   HomePlanet  CryoSleep  Destination   Age    VIP  RoomService  FoodCourt  \\\n",
       "0           2      False  TRAPPIST-1e  39.0  False          0.0        0.0   \n",
       "1           1      False  TRAPPIST-1e  24.0  False        109.0        9.0   \n",
       "2           2      False  TRAPPIST-1e  58.0   True         43.0     3576.0   \n",
       "3           2      False  TRAPPIST-1e  33.0  False          0.0     1283.0   \n",
       "4           1      False  TRAPPIST-1e  16.0  False        303.0       70.0   \n",
       "\n",
       "   ShoppingMall     Spa  VRDeck  Transported  NumCabinMates  Deck NumCabin  \\\n",
       "0           0.0     0.0     0.0        False              1     2        0   \n",
       "1          25.0   549.0    44.0         True              1     6        0   \n",
       "2           0.0  6715.0    49.0        False              2     1        0   \n",
       "3         371.0  3329.0   193.0        False              2     1        0   \n",
       "4         151.0   565.0     2.0         True              1     6        1   \n",
       "\n",
       "   Side  \n",
       "0     2  \n",
       "1     1  \n",
       "2     1  \n",
       "3     1  \n",
       "4     1  "
      ]
     },
     "execution_count": 22,
     "metadata": {},
     "output_type": "execute_result"
    }
   ],
   "source": [
    "col = 'Side'\n",
    "train[col] = train[col].map({\"S\": 1, \"P\": 2})\n",
    "    \n",
    "train.head()"
   ]
  },
  {
   "cell_type": "markdown",
   "id": "a16dd72f",
   "metadata": {
    "papermill": {
     "duration": 0.01993,
     "end_time": "2023-10-28T09:01:24.450851",
     "exception": false,
     "start_time": "2023-10-28T09:01:24.430921",
     "status": "completed"
    },
    "tags": []
   },
   "source": [
    "### Далее рассмотрим Destination. Заполним пропуски самым частоным значением."
   ]
  },
  {
   "cell_type": "code",
   "execution_count": 23,
   "id": "07f7bb2e",
   "metadata": {
    "execution": {
     "iopub.execute_input": "2023-10-28T09:01:24.491040Z",
     "iopub.status.busy": "2023-10-28T09:01:24.490712Z",
     "iopub.status.idle": "2023-10-28T09:01:24.497729Z",
     "shell.execute_reply": "2023-10-28T09:01:24.497010Z"
    },
    "papermill": {
     "duration": 0.028846,
     "end_time": "2023-10-28T09:01:24.499277",
     "exception": false,
     "start_time": "2023-10-28T09:01:24.470431",
     "status": "completed"
    },
    "tags": []
   },
   "outputs": [
    {
     "data": {
      "text/plain": [
       "Destination\n",
       "TRAPPIST-1e      5915\n",
       "55 Cancri e      1800\n",
       "PSO J318.5-22     796\n",
       "Name: count, dtype: int64"
      ]
     },
     "execution_count": 23,
     "metadata": {},
     "output_type": "execute_result"
    }
   ],
   "source": [
    "train.Destination.value_counts()"
   ]
  },
  {
   "cell_type": "code",
   "execution_count": 24,
   "id": "cf5331d4",
   "metadata": {
    "execution": {
     "iopub.execute_input": "2023-10-28T09:01:24.537569Z",
     "iopub.status.busy": "2023-10-28T09:01:24.537140Z",
     "iopub.status.idle": "2023-10-28T09:01:24.712067Z",
     "shell.execute_reply": "2023-10-28T09:01:24.711373Z"
    },
    "papermill": {
     "duration": 0.195578,
     "end_time": "2023-10-28T09:01:24.713762",
     "exception": false,
     "start_time": "2023-10-28T09:01:24.518184",
     "status": "completed"
    },
    "tags": []
   },
   "outputs": [
    {
     "data": {
      "image/png": "[encoded data removed]",
      "text/plain": [
       "<Figure size 640x480 with 1 Axes>"
      ]
     },
     "metadata": {},
     "output_type": "display_data"
    }
   ],
   "source": [
    "col = 'Destination'\n",
    "train[col].hist()\n",
    "train[col].fillna('TRAPPIST-1e', inplace=True)"
   ]
  },
  {
   "cell_type": "markdown",
   "id": "84fdd4a7",
   "metadata": {
    "papermill": {
     "duration": 0.021339,
     "end_time": "2023-10-28T09:01:24.755219",
     "exception": false,
     "start_time": "2023-10-28T09:01:24.733880",
     "status": "completed"
    },
    "tags": []
   },
   "source": [
    "Конвертируем категориальное значение в численное представление."
   ]
  },
  {
   "cell_type": "code",
   "execution_count": 25,
   "id": "f99d0b5b",
   "metadata": {
    "execution": {
     "iopub.execute_input": "2023-10-28T09:01:24.799640Z",
     "iopub.status.busy": "2023-10-28T09:01:24.799146Z",
     "iopub.status.idle": "2023-10-28T09:01:24.816023Z",
     "shell.execute_reply": "2023-10-28T09:01:24.814938Z"
    },
    "papermill": {
     "duration": 0.041341,
     "end_time": "2023-10-28T09:01:24.817680",
     "exception": false,
     "start_time": "2023-10-28T09:01:24.776339",
     "status": "completed"
    },
    "tags": []
   },
   "outputs": [
    {
     "data": {
      "text/html": [
       "<div>\n",
       "<style scoped>\n",
       "    .dataframe tbody tr th:only-of-type {\n",
       "        vertical-align: middle;\n",
       "    }\n",
       "\n",
       "    .dataframe tbody tr th {\n",
       "        vertical-align: top;\n",
       "    }\n",
       "\n",
       "    .dataframe thead th {\n",
       "        text-align: right;\n",
       "    }\n",
       "</style>\n",
       "<table border=\"1\" class=\"dataframe\">\n",
       "  <thead>\n",
       "    <tr style=\"text-align: right;\">\n",
       "      <th></th>\n",
       "      <th>HomePlanet</th>\n",
       "      <th>CryoSleep</th>\n",
       "      <th>Destination</th>\n",
       "      <th>Age</th>\n",
       "      <th>VIP</th>\n",
       "      <th>RoomService</th>\n",
       "      <th>FoodCourt</th>\n",
       "      <th>ShoppingMall</th>\n",
       "      <th>Spa</th>\n",
       "      <th>VRDeck</th>\n",
       "      <th>Transported</th>\n",
       "      <th>NumCabinMates</th>\n",
       "      <th>Deck</th>\n",
       "      <th>NumCabin</th>\n",
       "      <th>Side</th>\n",
       "    </tr>\n",
       "  </thead>\n",
       "  <tbody>\n",
       "    <tr>\n",
       "      <th>0</th>\n",
       "      <td>2</td>\n",
       "      <td>False</td>\n",
       "      <td>1</td>\n",
       "      <td>39.0</td>\n",
       "      <td>False</td>\n",
       "      <td>0.0</td>\n",
       "      <td>0.0</td>\n",
       "      <td>0.0</td>\n",
       "      <td>0.0</td>\n",
       "      <td>0.0</td>\n",
       "      <td>False</td>\n",
       "      <td>1</td>\n",
       "      <td>2</td>\n",
       "      <td>0</td>\n",
       "      <td>2</td>\n",
       "    </tr>\n",
       "    <tr>\n",
       "      <th>1</th>\n",
       "      <td>1</td>\n",
       "      <td>False</td>\n",
       "      <td>1</td>\n",
       "      <td>24.0</td>\n",
       "      <td>False</td>\n",
       "      <td>109.0</td>\n",
       "      <td>9.0</td>\n",
       "      <td>25.0</td>\n",
       "      <td>549.0</td>\n",
       "      <td>44.0</td>\n",
       "      <td>True</td>\n",
       "      <td>1</td>\n",
       "      <td>6</td>\n",
       "      <td>0</td>\n",
       "      <td>1</td>\n",
       "    </tr>\n",
       "    <tr>\n",
       "      <th>2</th>\n",
       "      <td>2</td>\n",
       "      <td>False</td>\n",
       "      <td>1</td>\n",
       "      <td>58.0</td>\n",
       "      <td>True</td>\n",
       "      <td>43.0</td>\n",
       "      <td>3576.0</td>\n",
       "      <td>0.0</td>\n",
       "      <td>6715.0</td>\n",
       "      <td>49.0</td>\n",
       "      <td>False</td>\n",
       "      <td>2</td>\n",
       "      <td>1</td>\n",
       "      <td>0</td>\n",
       "      <td>1</td>\n",
       "    </tr>\n",
       "    <tr>\n",
       "      <th>3</th>\n",
       "      <td>2</td>\n",
       "      <td>False</td>\n",
       "      <td>1</td>\n",
       "      <td>33.0</td>\n",
       "      <td>False</td>\n",
       "      <td>0.0</td>\n",
       "      <td>1283.0</td>\n",
       "      <td>371.0</td>\n",
       "      <td>3329.0</td>\n",
       "      <td>193.0</td>\n",
       "      <td>False</td>\n",
       "      <td>2</td>\n",
       "      <td>1</td>\n",
       "      <td>0</td>\n",
       "      <td>1</td>\n",
       "    </tr>\n",
       "    <tr>\n",
       "      <th>4</th>\n",
       "      <td>1</td>\n",
       "      <td>False</td>\n",
       "      <td>1</td>\n",
       "      <td>16.0</td>\n",
       "      <td>False</td>\n",
       "      <td>303.0</td>\n",
       "      <td>70.0</td>\n",
       "      <td>151.0</td>\n",
       "      <td>565.0</td>\n",
       "      <td>2.0</td>\n",
       "      <td>True</td>\n",
       "      <td>1</td>\n",
       "      <td>6</td>\n",
       "      <td>1</td>\n",
       "      <td>1</td>\n",
       "    </tr>\n",
       "  </tbody>\n",
       "</table>\n",
       "</div>"
      ],
      "text/plain": [
       "   HomePlanet  CryoSleep  Destination   Age    VIP  RoomService  FoodCourt  \\\n",
       "0           2      False            1  39.0  False          0.0        0.0   \n",
       "1           1      False            1  24.0  False        109.0        9.0   \n",
       "2           2      False            1  58.0   True         43.0     3576.0   \n",
       "3           2      False            1  33.0  False          0.0     1283.0   \n",
       "4           1      False            1  16.0  False        303.0       70.0   \n",
       "\n",
       "   ShoppingMall     Spa  VRDeck  Transported  NumCabinMates  Deck NumCabin  \\\n",
       "0           0.0     0.0     0.0        False              1     2        0   \n",
       "1          25.0   549.0    44.0         True              1     6        0   \n",
       "2           0.0  6715.0    49.0        False              2     1        0   \n",
       "3         371.0  3329.0   193.0        False              2     1        0   \n",
       "4         151.0   565.0     2.0         True              1     6        1   \n",
       "\n",
       "   Side  \n",
       "0     2  \n",
       "1     1  \n",
       "2     1  \n",
       "3     1  \n",
       "4     1  "
      ]
     },
     "execution_count": 25,
     "metadata": {},
     "output_type": "execute_result"
    }
   ],
   "source": [
    "col = 'Destination'\n",
    "dest_mapping = {\"TRAPPIST-1e\": 1, \"55 Cancri e\": 2, \"PSO J318.5-22\": 3}\n",
    "train[col] = train[col].map(dest_mapping)\n",
    "    \n",
    "train.head()"
   ]
  },
  {
   "cell_type": "markdown",
   "id": "14de2b17",
   "metadata": {
    "papermill": {
     "duration": 0.018381,
     "end_time": "2023-10-28T09:01:24.855448",
     "exception": false,
     "start_time": "2023-10-28T09:01:24.837067",
     "status": "completed"
    },
    "tags": []
   },
   "source": [
    "### Далее рассмотрим Age. Заполним пропуски медианой."
   ]
  },
  {
   "cell_type": "code",
   "execution_count": 26,
   "id": "5ed10752",
   "metadata": {
    "execution": {
     "iopub.execute_input": "2023-10-28T09:01:24.895780Z",
     "iopub.status.busy": "2023-10-28T09:01:24.895233Z",
     "iopub.status.idle": "2023-10-28T09:01:25.047313Z",
     "shell.execute_reply": "2023-10-28T09:01:25.046593Z"
    },
    "papermill": {
     "duration": 0.175081,
     "end_time": "2023-10-28T09:01:25.049278",
     "exception": false,
     "start_time": "2023-10-28T09:01:24.874197",
     "status": "completed"
    },
    "tags": []
   },
   "outputs": [
    {
     "data": {
      "image/png": "[encoded data removed]",
      "text/plain": [
       "<Figure size 640x480 with 1 Axes>"
      ]
     },
     "metadata": {},
     "output_type": "display_data"
    }
   ],
   "source": [
    "col = 'Age'\n",
    "data = train[col]\n",
    "sns.violinplot(y=data)\n",
    "plt.xlabel(col)\n",
    "plt.show()\n",
    "\n",
    "train[col].fillna(train[col].median(), inplace=True)"
   ]
  },
  {
   "cell_type": "markdown",
   "id": "2448b5ff",
   "metadata": {
    "papermill": {
     "duration": 0.019113,
     "end_time": "2023-10-28T09:01:25.091263",
     "exception": false,
     "start_time": "2023-10-28T09:01:25.072150",
     "status": "completed"
    },
    "tags": []
   },
   "source": [
    "### Далее рассмотрим VIP. Заполним пропуски самым частотным значением."
   ]
  },
  {
   "cell_type": "code",
   "execution_count": 27,
   "id": "1cdc5eaa",
   "metadata": {
    "execution": {
     "iopub.execute_input": "2023-10-28T09:01:25.131704Z",
     "iopub.status.busy": "2023-10-28T09:01:25.131384Z",
     "iopub.status.idle": "2023-10-28T09:01:25.138093Z",
     "shell.execute_reply": "2023-10-28T09:01:25.137303Z"
    },
    "papermill": {
     "duration": 0.029829,
     "end_time": "2023-10-28T09:01:25.140156",
     "exception": false,
     "start_time": "2023-10-28T09:01:25.110327",
     "status": "completed"
    },
    "tags": []
   },
   "outputs": [
    {
     "data": {
      "text/plain": [
       "VIP\n",
       "False    8291\n",
       "True      199\n",
       "Name: count, dtype: int64"
      ]
     },
     "execution_count": 27,
     "metadata": {},
     "output_type": "execute_result"
    }
   ],
   "source": [
    "train.VIP.value_counts()"
   ]
  },
  {
   "cell_type": "code",
   "execution_count": 28,
   "id": "1ad554cf",
   "metadata": {
    "execution": {
     "iopub.execute_input": "2023-10-28T09:01:25.181860Z",
     "iopub.status.busy": "2023-10-28T09:01:25.180526Z",
     "iopub.status.idle": "2023-10-28T09:01:25.186055Z",
     "shell.execute_reply": "2023-10-28T09:01:25.185323Z"
    },
    "papermill": {
     "duration": 0.027195,
     "end_time": "2023-10-28T09:01:25.187622",
     "exception": false,
     "start_time": "2023-10-28T09:01:25.160427",
     "status": "completed"
    },
    "tags": []
   },
   "outputs": [],
   "source": [
    "col = 'VIP'\n",
    "train[col].fillna(False, inplace=True)"
   ]
  },
  {
   "cell_type": "markdown",
   "id": "c32e2109",
   "metadata": {
    "papermill": {
     "duration": 0.018523,
     "end_time": "2023-10-28T09:01:25.225463",
     "exception": false,
     "start_time": "2023-10-28T09:01:25.206940",
     "status": "completed"
    },
    "tags": []
   },
   "source": [
    "### Далее рассмотрим RoomService. Заполним пропуски на медиану."
   ]
  },
  {
   "cell_type": "code",
   "execution_count": 29,
   "id": "2f044e3b",
   "metadata": {
    "execution": {
     "iopub.execute_input": "2023-10-28T09:01:25.264091Z",
     "iopub.status.busy": "2023-10-28T09:01:25.263741Z",
     "iopub.status.idle": "2023-10-28T09:01:25.473938Z",
     "shell.execute_reply": "2023-10-28T09:01:25.472951Z"
    },
    "papermill": {
     "duration": 0.232026,
     "end_time": "2023-10-28T09:01:25.476209",
     "exception": false,
     "start_time": "2023-10-28T09:01:25.244183",
     "status": "completed"
    },
    "tags": []
   },
   "outputs": [
    {
     "data": {
      "image/png": "[encoded data removed]",
      "text/plain": [
       "<Figure size 640x480 with 1 Axes>"
      ]
     },
     "metadata": {},
     "output_type": "display_data"
    }
   ],
   "source": [
    "col = 'RoomService'\n",
    "\n",
    "data = train[col]\n",
    "sns.violinplot(y=data)\n",
    "plt.show()\n",
    "\n",
    "train[col].fillna(train[col].median(), inplace=True)"
   ]
  },
  {
   "cell_type": "markdown",
   "id": "40416d81",
   "metadata": {
    "papermill": {
     "duration": 0.020562,
     "end_time": "2023-10-28T09:01:25.518164",
     "exception": false,
     "start_time": "2023-10-28T09:01:25.497602",
     "status": "completed"
    },
    "tags": []
   },
   "source": [
    "### Далее рассмотрим FoodCourt. Заполним пропуски на медиану."
   ]
  },
  {
   "cell_type": "code",
   "execution_count": 30,
   "id": "d1a3707a",
   "metadata": {
    "execution": {
     "iopub.execute_input": "2023-10-28T09:01:25.560455Z",
     "iopub.status.busy": "2023-10-28T09:01:25.560153Z",
     "iopub.status.idle": "2023-10-28T09:01:25.772055Z",
     "shell.execute_reply": "2023-10-28T09:01:25.770988Z"
    },
    "papermill": {
     "duration": 0.235521,
     "end_time": "2023-10-28T09:01:25.774007",
     "exception": false,
     "start_time": "2023-10-28T09:01:25.538486",
     "status": "completed"
    },
    "tags": []
   },
   "outputs": [
    {
     "data": {
      "image/png": "[encoded data removed]",
      "text/plain": [
       "<Figure size 640x480 with 1 Axes>"
      ]
     },
     "metadata": {},
     "output_type": "display_data"
    }
   ],
   "source": [
    "col = 'FoodCourt'\n",
    "\n",
    "data = train[col]\n",
    "sns.violinplot(y=data)\n",
    "plt.show()\n",
    "\n",
    "train[col].fillna(train[col].median(), inplace=True)"
   ]
  },
  {
   "cell_type": "markdown",
   "id": "b869254c",
   "metadata": {
    "papermill": {
     "duration": 0.019398,
     "end_time": "2023-10-28T09:01:25.813641",
     "exception": false,
     "start_time": "2023-10-28T09:01:25.794243",
     "status": "completed"
    },
    "tags": []
   },
   "source": [
    "### Далее рассмотрим ShoppingMall. Заполним пропуски на медиану."
   ]
  },
  {
   "cell_type": "code",
   "execution_count": 31,
   "id": "9732fa9c",
   "metadata": {
    "execution": {
     "iopub.execute_input": "2023-10-28T09:01:25.853691Z",
     "iopub.status.busy": "2023-10-28T09:01:25.853406Z",
     "iopub.status.idle": "2023-10-28T09:01:26.011368Z",
     "shell.execute_reply": "2023-10-28T09:01:26.010685Z"
    },
    "papermill": {
     "duration": 0.179945,
     "end_time": "2023-10-28T09:01:26.013086",
     "exception": false,
     "start_time": "2023-10-28T09:01:25.833141",
     "status": "completed"
    },
    "tags": []
   },
   "outputs": [
    {
     "data": {
      "image/png": "[encoded data removed]",
      "text/plain": [
       "<Figure size 640x480 with 1 Axes>"
      ]
     },
     "metadata": {},
     "output_type": "display_data"
    }
   ],
   "source": [
    "col = 'ShoppingMall'\n",
    "\n",
    "data = train[col]\n",
    "sns.violinplot(y=data)\n",
    "plt.show()\n",
    "\n",
    "train[col].fillna(train[col].median(), inplace=True)"
   ]
  },
  {
   "cell_type": "markdown",
   "id": "884a7b3a",
   "metadata": {
    "papermill": {
     "duration": 0.019762,
     "end_time": "2023-10-28T09:01:26.054503",
     "exception": false,
     "start_time": "2023-10-28T09:01:26.034741",
     "status": "completed"
    },
    "tags": []
   },
   "source": [
    "### Далее рассмотрим Spa. Заполним пропуски на медиану."
   ]
  },
  {
   "cell_type": "code",
   "execution_count": 32,
   "id": "83d940ae",
   "metadata": {
    "execution": {
     "iopub.execute_input": "2023-10-28T09:01:26.096959Z",
     "iopub.status.busy": "2023-10-28T09:01:26.095926Z",
     "iopub.status.idle": "2023-10-28T09:01:26.249966Z",
     "shell.execute_reply": "2023-10-28T09:01:26.249240Z"
    },
    "papermill": {
     "duration": 0.177191,
     "end_time": "2023-10-28T09:01:26.251777",
     "exception": false,
     "start_time": "2023-10-28T09:01:26.074586",
     "status": "completed"
    },
    "tags": []
   },
   "outputs": [
    {
     "data": {
      "image/png": "[encoded data removed]",
      "text/plain": [
       "<Figure size 640x480 with 1 Axes>"
      ]
     },
     "metadata": {},
     "output_type": "display_data"
    }
   ],
   "source": [
    "col = 'Spa'\n",
    "\n",
    "data = train[col]\n",
    "sns.violinplot(y=data)\n",
    "plt.show()\n",
    "\n",
    "train[col].fillna(train[col].median(), inplace=True)"
   ]
  },
  {
   "cell_type": "markdown",
   "id": "a428103f",
   "metadata": {
    "papermill": {
     "duration": 0.020422,
     "end_time": "2023-10-28T09:01:26.293367",
     "exception": false,
     "start_time": "2023-10-28T09:01:26.272945",
     "status": "completed"
    },
    "tags": []
   },
   "source": [
    "### Далее рассмотрим VRDeck. Заполним пропуски на медиану."
   ]
  },
  {
   "cell_type": "code",
   "execution_count": 33,
   "id": "307f146b",
   "metadata": {
    "execution": {
     "iopub.execute_input": "2023-10-28T09:01:26.335908Z",
     "iopub.status.busy": "2023-10-28T09:01:26.334894Z",
     "iopub.status.idle": "2023-10-28T09:01:26.493520Z",
     "shell.execute_reply": "2023-10-28T09:01:26.492891Z"
    },
    "papermill": {
     "duration": 0.181676,
     "end_time": "2023-10-28T09:01:26.495211",
     "exception": false,
     "start_time": "2023-10-28T09:01:26.313535",
     "status": "completed"
    },
    "tags": []
   },
   "outputs": [
    {
     "data": {
      "image/png": "[encoded data removed]",
      "text/plain": [
       "<Figure size 640x480 with 1 Axes>"
      ]
     },
     "metadata": {},
     "output_type": "display_data"
    }
   ],
   "source": [
    "col = 'VRDeck'\n",
    "\n",
    "data = train[col]\n",
    "sns.violinplot(y=data)\n",
    "plt.show()\n",
    "\n",
    "train[col].fillna(train[col].median(), inplace=True)"
   ]
  },
  {
   "cell_type": "markdown",
   "id": "ad28bf6e",
   "metadata": {
    "papermill": {
     "duration": 0.020089,
     "end_time": "2023-10-28T09:01:26.536263",
     "exception": false,
     "start_time": "2023-10-28T09:01:26.516174",
     "status": "completed"
    },
    "tags": []
   },
   "source": [
    "### Проверим, что все пропуски заполнены"
   ]
  },
  {
   "cell_type": "code",
   "execution_count": 34,
   "id": "d9241d25",
   "metadata": {
    "execution": {
     "iopub.execute_input": "2023-10-28T09:01:26.578464Z",
     "iopub.status.busy": "2023-10-28T09:01:26.577495Z",
     "iopub.status.idle": "2023-10-28T09:01:26.589161Z",
     "shell.execute_reply": "2023-10-28T09:01:26.588022Z"
    },
    "papermill": {
     "duration": 0.034312,
     "end_time": "2023-10-28T09:01:26.590753",
     "exception": false,
     "start_time": "2023-10-28T09:01:26.556441",
     "status": "completed"
    },
    "tags": []
   },
   "outputs": [
    {
     "name": "stdout",
     "output_type": "stream",
     "text": [
      "<class 'pandas.core.frame.DataFrame'>\n",
      "RangeIndex: 8693 entries, 0 to 8692\n",
      "Data columns (total 15 columns):\n",
      " #   Column         Non-Null Count  Dtype  \n",
      "---  ------         --------------  -----  \n",
      " 0   HomePlanet     8693 non-null   int64  \n",
      " 1   CryoSleep      8693 non-null   bool   \n",
      " 2   Destination    8693 non-null   int64  \n",
      " 3   Age            8693 non-null   float64\n",
      " 4   VIP            8693 non-null   bool   \n",
      " 5   RoomService    8693 non-null   float64\n",
      " 6   FoodCourt      8693 non-null   float64\n",
      " 7   ShoppingMall   8693 non-null   float64\n",
      " 8   Spa            8693 non-null   float64\n",
      " 9   VRDeck         8693 non-null   float64\n",
      " 10  Transported    8693 non-null   bool   \n",
      " 11  NumCabinMates  8693 non-null   int64  \n",
      " 12  Deck           8693 non-null   int64  \n",
      " 13  NumCabin       8693 non-null   object \n",
      " 14  Side           8693 non-null   int64  \n",
      "dtypes: bool(3), float64(6), int64(5), object(1)\n",
      "memory usage: 840.6+ KB\n"
     ]
    }
   ],
   "source": [
    "train.info()"
   ]
  },
  {
   "cell_type": "code",
   "execution_count": 35,
   "id": "4631f579",
   "metadata": {
    "execution": {
     "iopub.execute_input": "2023-10-28T09:01:26.634672Z",
     "iopub.status.busy": "2023-10-28T09:01:26.633872Z",
     "iopub.status.idle": "2023-10-28T09:01:26.650090Z",
     "shell.execute_reply": "2023-10-28T09:01:26.649321Z"
    },
    "papermill": {
     "duration": 0.038749,
     "end_time": "2023-10-28T09:01:26.651708",
     "exception": false,
     "start_time": "2023-10-28T09:01:26.612959",
     "status": "completed"
    },
    "tags": []
   },
   "outputs": [
    {
     "data": {
      "text/html": [
       "<div>\n",
       "<style scoped>\n",
       "    .dataframe tbody tr th:only-of-type {\n",
       "        vertical-align: middle;\n",
       "    }\n",
       "\n",
       "    .dataframe tbody tr th {\n",
       "        vertical-align: top;\n",
       "    }\n",
       "\n",
       "    .dataframe thead th {\n",
       "        text-align: right;\n",
       "    }\n",
       "</style>\n",
       "<table border=\"1\" class=\"dataframe\">\n",
       "  <thead>\n",
       "    <tr style=\"text-align: right;\">\n",
       "      <th></th>\n",
       "      <th>HomePlanet</th>\n",
       "      <th>CryoSleep</th>\n",
       "      <th>Destination</th>\n",
       "      <th>Age</th>\n",
       "      <th>VIP</th>\n",
       "      <th>RoomService</th>\n",
       "      <th>FoodCourt</th>\n",
       "      <th>ShoppingMall</th>\n",
       "      <th>Spa</th>\n",
       "      <th>VRDeck</th>\n",
       "      <th>Transported</th>\n",
       "      <th>NumCabinMates</th>\n",
       "      <th>Deck</th>\n",
       "      <th>NumCabin</th>\n",
       "      <th>Side</th>\n",
       "    </tr>\n",
       "  </thead>\n",
       "  <tbody>\n",
       "    <tr>\n",
       "      <th>0</th>\n",
       "      <td>2</td>\n",
       "      <td>False</td>\n",
       "      <td>1</td>\n",
       "      <td>39.0</td>\n",
       "      <td>False</td>\n",
       "      <td>0.0</td>\n",
       "      <td>0.0</td>\n",
       "      <td>0.0</td>\n",
       "      <td>0.0</td>\n",
       "      <td>0.0</td>\n",
       "      <td>False</td>\n",
       "      <td>1</td>\n",
       "      <td>2</td>\n",
       "      <td>0</td>\n",
       "      <td>2</td>\n",
       "    </tr>\n",
       "    <tr>\n",
       "      <th>1</th>\n",
       "      <td>1</td>\n",
       "      <td>False</td>\n",
       "      <td>1</td>\n",
       "      <td>24.0</td>\n",
       "      <td>False</td>\n",
       "      <td>109.0</td>\n",
       "      <td>9.0</td>\n",
       "      <td>25.0</td>\n",
       "      <td>549.0</td>\n",
       "      <td>44.0</td>\n",
       "      <td>True</td>\n",
       "      <td>1</td>\n",
       "      <td>6</td>\n",
       "      <td>0</td>\n",
       "      <td>1</td>\n",
       "    </tr>\n",
       "    <tr>\n",
       "      <th>2</th>\n",
       "      <td>2</td>\n",
       "      <td>False</td>\n",
       "      <td>1</td>\n",
       "      <td>58.0</td>\n",
       "      <td>True</td>\n",
       "      <td>43.0</td>\n",
       "      <td>3576.0</td>\n",
       "      <td>0.0</td>\n",
       "      <td>6715.0</td>\n",
       "      <td>49.0</td>\n",
       "      <td>False</td>\n",
       "      <td>2</td>\n",
       "      <td>1</td>\n",
       "      <td>0</td>\n",
       "      <td>1</td>\n",
       "    </tr>\n",
       "    <tr>\n",
       "      <th>3</th>\n",
       "      <td>2</td>\n",
       "      <td>False</td>\n",
       "      <td>1</td>\n",
       "      <td>33.0</td>\n",
       "      <td>False</td>\n",
       "      <td>0.0</td>\n",
       "      <td>1283.0</td>\n",
       "      <td>371.0</td>\n",
       "      <td>3329.0</td>\n",
       "      <td>193.0</td>\n",
       "      <td>False</td>\n",
       "      <td>2</td>\n",
       "      <td>1</td>\n",
       "      <td>0</td>\n",
       "      <td>1</td>\n",
       "    </tr>\n",
       "    <tr>\n",
       "      <th>4</th>\n",
       "      <td>1</td>\n",
       "      <td>False</td>\n",
       "      <td>1</td>\n",
       "      <td>16.0</td>\n",
       "      <td>False</td>\n",
       "      <td>303.0</td>\n",
       "      <td>70.0</td>\n",
       "      <td>151.0</td>\n",
       "      <td>565.0</td>\n",
       "      <td>2.0</td>\n",
       "      <td>True</td>\n",
       "      <td>1</td>\n",
       "      <td>6</td>\n",
       "      <td>1</td>\n",
       "      <td>1</td>\n",
       "    </tr>\n",
       "  </tbody>\n",
       "</table>\n",
       "</div>"
      ],
      "text/plain": [
       "   HomePlanet  CryoSleep  Destination   Age    VIP  RoomService  FoodCourt  \\\n",
       "0           2      False            1  39.0  False          0.0        0.0   \n",
       "1           1      False            1  24.0  False        109.0        9.0   \n",
       "2           2      False            1  58.0   True         43.0     3576.0   \n",
       "3           2      False            1  33.0  False          0.0     1283.0   \n",
       "4           1      False            1  16.0  False        303.0       70.0   \n",
       "\n",
       "   ShoppingMall     Spa  VRDeck  Transported  NumCabinMates  Deck NumCabin  \\\n",
       "0           0.0     0.0     0.0        False              1     2        0   \n",
       "1          25.0   549.0    44.0         True              1     6        0   \n",
       "2           0.0  6715.0    49.0        False              2     1        0   \n",
       "3         371.0  3329.0   193.0        False              2     1        0   \n",
       "4         151.0   565.0     2.0         True              1     6        1   \n",
       "\n",
       "   Side  \n",
       "0     2  \n",
       "1     1  \n",
       "2     1  \n",
       "3     1  \n",
       "4     1  "
      ]
     },
     "execution_count": 35,
     "metadata": {},
     "output_type": "execute_result"
    }
   ],
   "source": [
    "train.head()"
   ]
  },
  {
   "cell_type": "markdown",
   "id": "62ff1a0f",
   "metadata": {
    "papermill": {
     "duration": 0.020733,
     "end_time": "2023-10-28T09:01:26.694055",
     "exception": false,
     "start_time": "2023-10-28T09:01:26.673322",
     "status": "completed"
    },
    "tags": []
   },
   "source": [
    "## Посмотрим на корреляцию величин"
   ]
  },
  {
   "cell_type": "code",
   "execution_count": 36,
   "id": "5e72be10",
   "metadata": {
    "execution": {
     "iopub.execute_input": "2023-10-28T09:01:26.737406Z",
     "iopub.status.busy": "2023-10-28T09:01:26.736490Z",
     "iopub.status.idle": "2023-10-28T09:01:28.034224Z",
     "shell.execute_reply": "2023-10-28T09:01:28.033423Z"
    },
    "papermill": {
     "duration": 1.321672,
     "end_time": "2023-10-28T09:01:28.036009",
     "exception": false,
     "start_time": "2023-10-28T09:01:26.714337",
     "status": "completed"
    },
    "tags": []
   },
   "outputs": [
    {
     "data": {
      "text/plain": [
       "<seaborn.matrix.ClusterGrid at 0x7ef53ea9e6e0>"
      ]
     },
     "execution_count": 36,
     "metadata": {},
     "output_type": "execute_result"
    },
    {
     "data": {
      "image/png": "[encoded data removed]",
      "text/plain": [
       "<Figure size 1000x1000 with 4 Axes>"
      ]
     },
     "metadata": {},
     "output_type": "display_data"
    }
   ],
   "source": [
    "'''\n",
    "plt.figure(figsize=(15,6))\n",
    "sns.heatmap(train.corr(), \n",
    "            vmin=-1.0,\n",
    "            vmax=1.0, \n",
    "            cmap=\"icefire\",\n",
    "            square=True,\n",
    "            annot=True)\n",
    "'''\n",
    "sns.set (font_scale=0.7)\n",
    "sns.clustermap(\n",
    "        train.corr(\"pearson\"),\n",
    "        vmin=-1.0,\n",
    "        vmax=1.0,\n",
    "        cmap=\"icefire\",\n",
    "        method=\"complete\",\n",
    "        annot=True\n",
    "    )"
   ]
  },
  {
   "cell_type": "markdown",
   "id": "35a1230b",
   "metadata": {
    "papermill": {
     "duration": 0.022054,
     "end_time": "2023-10-28T09:01:28.080774",
     "exception": false,
     "start_time": "2023-10-28T09:01:28.058720",
     "status": "completed"
    },
    "tags": []
   },
   "source": [
    "Видим, что CryoSleep имеет самую сульную корреляцию к Transported. И видим, что наблюдается обратная корреляция к тратам на различные развлечения и вероятностью транспортировки. Это логично, так как пассажир, который был в состоянии анабиоза в течение транспортировки, не мог тратить денег на дополнительные развлечения.\n",
    "\n",
    "Из-за неустраняемых выбросов сложно судить о важности RoomService, FoodCourt ShoppingMall, Spa, VRDeck, VIP. Тем не менее, можно сделать вывод, что Spa, VRDeck и RoomService полезны, а FoodCourt, ShoppingMall и VIP менее существенны"
   ]
  },
  {
   "cell_type": "markdown",
   "id": "8587c5c8",
   "metadata": {
    "papermill": {
     "duration": 0.021554,
     "end_time": "2023-10-28T09:01:28.124187",
     "exception": false,
     "start_time": "2023-10-28T09:01:28.102633",
     "status": "completed"
    },
    "tags": []
   },
   "source": [
    "# Зависимости между Признаками (Features) и Ответом (Transported)\n",
    "В этом разделе, мы анализируем зависимости между разными признаками по отношению к Транспортировке(Transported). Мы увидим как разные значения признаков отображают разные шансы на транспортировку. Мы также построим разные виды диаграмм, для того, чтобы представить наши данные и находки."
   ]
  },
  {
   "cell_type": "code",
   "execution_count": 37,
   "id": "7f485437",
   "metadata": {
    "execution": {
     "iopub.execute_input": "2023-10-28T09:01:28.169384Z",
     "iopub.status.busy": "2023-10-28T09:01:28.169081Z",
     "iopub.status.idle": "2023-10-28T09:01:28.179847Z",
     "shell.execute_reply": "2023-10-28T09:01:28.178807Z"
    },
    "papermill": {
     "duration": 0.035446,
     "end_time": "2023-10-28T09:01:28.181434",
     "exception": false,
     "start_time": "2023-10-28T09:01:28.145988",
     "status": "completed"
    },
    "tags": []
   },
   "outputs": [
    {
     "name": "stdout",
     "output_type": "stream",
     "text": [
      "transported: 4378 (50.4%)\n",
      "Not transported: 4315 (49.6%)\n",
      "Total: 8693\n"
     ]
    }
   ],
   "source": [
    "transported = train[train['Transported'] == True]\n",
    "not_transported = train[train['Transported'] == False]\n",
    "\n",
    "print (\"transported: %i (%.1f%%)\"%(len(transported), (len(transported))/len(train)*100.0))\n",
    "print (\"Not transported: %i (%.1f%%)\"%(len(not_transported), (len(not_transported))/len(train)*100.0))\n",
    "print (\"Total: %i\"%len(train))"
   ]
  },
  {
   "cell_type": "markdown",
   "id": "94da1620",
   "metadata": {
    "papermill": {
     "duration": 0.021671,
     "end_time": "2023-10-28T09:01:28.225091",
     "exception": false,
     "start_time": "2023-10-28T09:01:28.203420",
     "status": "completed"
    },
    "tags": []
   },
   "source": [
    "## CryoSleep vs Transported - Одна из самых показательных фичей\n",
    "Пассажиры, переведенные в состояние анабиоза на время рейса, имеют гораздо большие шансы на транспортировку."
   ]
  },
  {
   "cell_type": "code",
   "execution_count": 38,
   "id": "748e969d",
   "metadata": {
    "execution": {
     "iopub.execute_input": "2023-10-28T09:01:28.270760Z",
     "iopub.status.busy": "2023-10-28T09:01:28.269936Z",
     "iopub.status.idle": "2023-10-28T09:01:28.283403Z",
     "shell.execute_reply": "2023-10-28T09:01:28.282103Z"
    },
    "papermill": {
     "duration": 0.038425,
     "end_time": "2023-10-28T09:01:28.285183",
     "exception": false,
     "start_time": "2023-10-28T09:01:28.246758",
     "status": "completed"
    },
    "tags": []
   },
   "outputs": [
    {
     "data": {
      "text/plain": [
       "CryoSleep  Transported\n",
       "False      False          3761\n",
       "           True           1895\n",
       "True       True           2483\n",
       "           False           554\n",
       "Name: count, dtype: int64"
      ]
     },
     "execution_count": 38,
     "metadata": {},
     "output_type": "execute_result"
    }
   ],
   "source": [
    "train.groupby('CryoSleep').Transported.value_counts()"
   ]
  },
  {
   "cell_type": "code",
   "execution_count": 39,
   "id": "3f8547e8",
   "metadata": {
    "execution": {
     "iopub.execute_input": "2023-10-28T09:01:28.332051Z",
     "iopub.status.busy": "2023-10-28T09:01:28.331673Z",
     "iopub.status.idle": "2023-10-28T09:01:28.344347Z",
     "shell.execute_reply": "2023-10-28T09:01:28.343676Z"
    },
    "papermill": {
     "duration": 0.037314,
     "end_time": "2023-10-28T09:01:28.345761",
     "exception": false,
     "start_time": "2023-10-28T09:01:28.308447",
     "status": "completed"
    },
    "tags": []
   },
   "outputs": [
    {
     "data": {
      "text/html": [
       "<div>\n",
       "<style scoped>\n",
       "    .dataframe tbody tr th:only-of-type {\n",
       "        vertical-align: middle;\n",
       "    }\n",
       "\n",
       "    .dataframe tbody tr th {\n",
       "        vertical-align: top;\n",
       "    }\n",
       "\n",
       "    .dataframe thead th {\n",
       "        text-align: right;\n",
       "    }\n",
       "</style>\n",
       "<table border=\"1\" class=\"dataframe\">\n",
       "  <thead>\n",
       "    <tr style=\"text-align: right;\">\n",
       "      <th></th>\n",
       "      <th>CryoSleep</th>\n",
       "      <th>Transported</th>\n",
       "    </tr>\n",
       "  </thead>\n",
       "  <tbody>\n",
       "    <tr>\n",
       "      <th>0</th>\n",
       "      <td>False</td>\n",
       "      <td>0.335042</td>\n",
       "    </tr>\n",
       "    <tr>\n",
       "      <th>1</th>\n",
       "      <td>True</td>\n",
       "      <td>0.817583</td>\n",
       "    </tr>\n",
       "  </tbody>\n",
       "</table>\n",
       "</div>"
      ],
      "text/plain": [
       "   CryoSleep  Transported\n",
       "0      False     0.335042\n",
       "1       True     0.817583"
      ]
     },
     "execution_count": 39,
     "metadata": {},
     "output_type": "execute_result"
    }
   ],
   "source": [
    "train[['CryoSleep', 'Transported']].groupby('CryoSleep', as_index = False).mean()"
   ]
  },
  {
   "cell_type": "code",
   "execution_count": 40,
   "id": "ac301200",
   "metadata": {
    "execution": {
     "iopub.execute_input": "2023-10-28T09:01:28.391248Z",
     "iopub.status.busy": "2023-10-28T09:01:28.390766Z",
     "iopub.status.idle": "2023-10-28T09:01:28.561595Z",
     "shell.execute_reply": "2023-10-28T09:01:28.560682Z"
    },
    "papermill": {
     "duration": 0.195391,
     "end_time": "2023-10-28T09:01:28.563347",
     "exception": false,
     "start_time": "2023-10-28T09:01:28.367956",
     "status": "completed"
    },
    "tags": []
   },
   "outputs": [
    {
     "data": {
      "text/plain": [
       "<Axes: xlabel='CryoSleep', ylabel='Transported'>"
      ]
     },
     "execution_count": 40,
     "metadata": {},
     "output_type": "execute_result"
    },
    {
     "data": {
      "image/png": "[encoded data removed]",
      "text/plain": [
       "<Figure size 640x480 with 1 Axes>"
      ]
     },
     "metadata": {},
     "output_type": "display_data"
    }
   ],
   "source": [
    "sns.barplot(x='CryoSleep', y='Transported', data=train, errorbar=None)"
   ]
  },
  {
   "cell_type": "markdown",
   "id": "69843ad7",
   "metadata": {
    "papermill": {
     "duration": 0.023387,
     "end_time": "2023-10-28T09:01:28.609997",
     "exception": false,
     "start_time": "2023-10-28T09:01:28.586610",
     "status": "completed"
    },
    "tags": []
   },
   "source": [
    "## NumCabinMates vs Transported\n",
    "У пассажиров, 3-6 соседей в каюте имеют чуть большие шансы на транспортировку, чем у остальных."
   ]
  },
  {
   "cell_type": "code",
   "execution_count": 41,
   "id": "86d474fd",
   "metadata": {
    "execution": {
     "iopub.execute_input": "2023-10-28T09:01:28.656681Z",
     "iopub.status.busy": "2023-10-28T09:01:28.656217Z",
     "iopub.status.idle": "2023-10-28T09:01:28.663879Z",
     "shell.execute_reply": "2023-10-28T09:01:28.662517Z"
    },
    "papermill": {
     "duration": 0.033389,
     "end_time": "2023-10-28T09:01:28.665896",
     "exception": false,
     "start_time": "2023-10-28T09:01:28.632507",
     "status": "completed"
    },
    "tags": []
   },
   "outputs": [
    {
     "data": {
      "text/plain": [
       "NumCabinMates\n",
       "1    5427\n",
       "2    1372\n",
       "3     747\n",
       "4     416\n",
       "5     235\n",
       "0     199\n",
       "6     198\n",
       "7      91\n",
       "8       8\n",
       "Name: count, dtype: int64"
      ]
     },
     "execution_count": 41,
     "metadata": {},
     "output_type": "execute_result"
    }
   ],
   "source": [
    "train.NumCabinMates.value_counts()"
   ]
  },
  {
   "cell_type": "code",
   "execution_count": 42,
   "id": "192f9877",
   "metadata": {
    "execution": {
     "iopub.execute_input": "2023-10-28T09:01:28.714463Z",
     "iopub.status.busy": "2023-10-28T09:01:28.714168Z",
     "iopub.status.idle": "2023-10-28T09:01:28.724065Z",
     "shell.execute_reply": "2023-10-28T09:01:28.723116Z"
    },
    "papermill": {
     "duration": 0.035635,
     "end_time": "2023-10-28T09:01:28.725626",
     "exception": false,
     "start_time": "2023-10-28T09:01:28.689991",
     "status": "completed"
    },
    "tags": []
   },
   "outputs": [
    {
     "data": {
      "text/plain": [
       "NumCabinMates  Transported\n",
       "0              True            100\n",
       "               False            99\n",
       "1              False          3009\n",
       "               True           2418\n",
       "2              True            817\n",
       "               False           555\n",
       "3              True            457\n",
       "               False           290\n",
       "4              True            264\n",
       "               False           152\n",
       "5              True            142\n",
       "               False            93\n",
       "6              True            125\n",
       "               False            73\n",
       "7              True             52\n",
       "               False            39\n",
       "8              False             5\n",
       "               True              3\n",
       "Name: count, dtype: int64"
      ]
     },
     "execution_count": 42,
     "metadata": {},
     "output_type": "execute_result"
    }
   ],
   "source": [
    "train.groupby('NumCabinMates').Transported.value_counts()"
   ]
  },
  {
   "cell_type": "code",
   "execution_count": 43,
   "id": "382d9ab9",
   "metadata": {
    "execution": {
     "iopub.execute_input": "2023-10-28T09:01:28.779924Z",
     "iopub.status.busy": "2023-10-28T09:01:28.779100Z",
     "iopub.status.idle": "2023-10-28T09:01:28.790876Z",
     "shell.execute_reply": "2023-10-28T09:01:28.789861Z"
    },
    "papermill": {
     "duration": 0.040549,
     "end_time": "2023-10-28T09:01:28.792652",
     "exception": false,
     "start_time": "2023-10-28T09:01:28.752103",
     "status": "completed"
    },
    "tags": []
   },
   "outputs": [
    {
     "data": {
      "text/html": [
       "<div>\n",
       "<style scoped>\n",
       "    .dataframe tbody tr th:only-of-type {\n",
       "        vertical-align: middle;\n",
       "    }\n",
       "\n",
       "    .dataframe tbody tr th {\n",
       "        vertical-align: top;\n",
       "    }\n",
       "\n",
       "    .dataframe thead th {\n",
       "        text-align: right;\n",
       "    }\n",
       "</style>\n",
       "<table border=\"1\" class=\"dataframe\">\n",
       "  <thead>\n",
       "    <tr style=\"text-align: right;\">\n",
       "      <th></th>\n",
       "      <th>NumCabinMates</th>\n",
       "      <th>Transported</th>\n",
       "    </tr>\n",
       "  </thead>\n",
       "  <tbody>\n",
       "    <tr>\n",
       "      <th>0</th>\n",
       "      <td>0</td>\n",
       "      <td>0.502513</td>\n",
       "    </tr>\n",
       "    <tr>\n",
       "      <th>1</th>\n",
       "      <td>1</td>\n",
       "      <td>0.445550</td>\n",
       "    </tr>\n",
       "    <tr>\n",
       "      <th>2</th>\n",
       "      <td>2</td>\n",
       "      <td>0.595481</td>\n",
       "    </tr>\n",
       "    <tr>\n",
       "      <th>3</th>\n",
       "      <td>3</td>\n",
       "      <td>0.611780</td>\n",
       "    </tr>\n",
       "    <tr>\n",
       "      <th>4</th>\n",
       "      <td>4</td>\n",
       "      <td>0.634615</td>\n",
       "    </tr>\n",
       "    <tr>\n",
       "      <th>5</th>\n",
       "      <td>5</td>\n",
       "      <td>0.604255</td>\n",
       "    </tr>\n",
       "    <tr>\n",
       "      <th>6</th>\n",
       "      <td>6</td>\n",
       "      <td>0.631313</td>\n",
       "    </tr>\n",
       "    <tr>\n",
       "      <th>7</th>\n",
       "      <td>7</td>\n",
       "      <td>0.571429</td>\n",
       "    </tr>\n",
       "    <tr>\n",
       "      <th>8</th>\n",
       "      <td>8</td>\n",
       "      <td>0.375000</td>\n",
       "    </tr>\n",
       "  </tbody>\n",
       "</table>\n",
       "</div>"
      ],
      "text/plain": [
       "   NumCabinMates  Transported\n",
       "0              0     0.502513\n",
       "1              1     0.445550\n",
       "2              2     0.595481\n",
       "3              3     0.611780\n",
       "4              4     0.634615\n",
       "5              5     0.604255\n",
       "6              6     0.631313\n",
       "7              7     0.571429\n",
       "8              8     0.375000"
      ]
     },
     "execution_count": 43,
     "metadata": {},
     "output_type": "execute_result"
    }
   ],
   "source": [
    "train[['NumCabinMates', 'Transported']].groupby('NumCabinMates', as_index = False).mean()"
   ]
  },
  {
   "cell_type": "code",
   "execution_count": 44,
   "id": "aeb2f8aa",
   "metadata": {
    "execution": {
     "iopub.execute_input": "2023-10-28T09:01:28.843955Z",
     "iopub.status.busy": "2023-10-28T09:01:28.843096Z",
     "iopub.status.idle": "2023-10-28T09:01:29.076474Z",
     "shell.execute_reply": "2023-10-28T09:01:29.075628Z"
    },
    "papermill": {
     "duration": 0.260382,
     "end_time": "2023-10-28T09:01:29.078282",
     "exception": false,
     "start_time": "2023-10-28T09:01:28.817900",
     "status": "completed"
    },
    "tags": []
   },
   "outputs": [
    {
     "data": {
      "text/plain": [
       "<Axes: xlabel='NumCabinMates', ylabel='Transported'>"
      ]
     },
     "execution_count": 44,
     "metadata": {},
     "output_type": "execute_result"
    },
    {
     "data": {
      "image/png": "[encoded data removed]",
      "text/plain": [
       "<Figure size 640x480 with 1 Axes>"
      ]
     },
     "metadata": {},
     "output_type": "display_data"
    }
   ],
   "source": [
    "sns.barplot(x='NumCabinMates', y='Transported', data=train, errorbar=None)"
   ]
  },
  {
   "cell_type": "markdown",
   "id": "c12beab7",
   "metadata": {
    "papermill": {
     "duration": 0.023378,
     "end_time": "2023-10-28T09:01:29.126086",
     "exception": false,
     "start_time": "2023-10-28T09:01:29.102708",
     "status": "completed"
    },
    "tags": []
   },
   "source": [
    "## HomePlanet vs Transported\n",
    "Пассажиры с планеты Europa имеют бОльшие шансы на транспортировку, чем остальные."
   ]
  },
  {
   "cell_type": "code",
   "execution_count": 45,
   "id": "135c30c6",
   "metadata": {
    "execution": {
     "iopub.execute_input": "2023-10-28T09:01:29.174664Z",
     "iopub.status.busy": "2023-10-28T09:01:29.174372Z",
     "iopub.status.idle": "2023-10-28T09:01:29.180955Z",
     "shell.execute_reply": "2023-10-28T09:01:29.180330Z"
    },
    "papermill": {
     "duration": 0.03257,
     "end_time": "2023-10-28T09:01:29.182408",
     "exception": false,
     "start_time": "2023-10-28T09:01:29.149838",
     "status": "completed"
    },
    "tags": []
   },
   "outputs": [
    {
     "data": {
      "text/plain": [
       "HomePlanet\n",
       "1    4803\n",
       "2    2131\n",
       "3    1759\n",
       "Name: count, dtype: int64"
      ]
     },
     "execution_count": 45,
     "metadata": {},
     "output_type": "execute_result"
    }
   ],
   "source": [
    "train.HomePlanet.value_counts()"
   ]
  },
  {
   "cell_type": "code",
   "execution_count": 46,
   "id": "c7b4f82f",
   "metadata": {
    "execution": {
     "iopub.execute_input": "2023-10-28T09:01:29.230833Z",
     "iopub.status.busy": "2023-10-28T09:01:29.229997Z",
     "iopub.status.idle": "2023-10-28T09:01:29.239211Z",
     "shell.execute_reply": "2023-10-28T09:01:29.238441Z"
    },
    "papermill": {
     "duration": 0.035066,
     "end_time": "2023-10-28T09:01:29.240764",
     "exception": false,
     "start_time": "2023-10-28T09:01:29.205698",
     "status": "completed"
    },
    "tags": []
   },
   "outputs": [
    {
     "data": {
      "text/plain": [
       "HomePlanet  Transported\n",
       "1           False          2749\n",
       "            True           2054\n",
       "2           True           1404\n",
       "            False           727\n",
       "3           True            920\n",
       "            False           839\n",
       "Name: count, dtype: int64"
      ]
     },
     "execution_count": 46,
     "metadata": {},
     "output_type": "execute_result"
    }
   ],
   "source": [
    "train.groupby('HomePlanet').Transported.value_counts()"
   ]
  },
  {
   "cell_type": "code",
   "execution_count": 47,
   "id": "f9c59837",
   "metadata": {
    "execution": {
     "iopub.execute_input": "2023-10-28T09:01:29.289933Z",
     "iopub.status.busy": "2023-10-28T09:01:29.289612Z",
     "iopub.status.idle": "2023-10-28T09:01:29.301530Z",
     "shell.execute_reply": "2023-10-28T09:01:29.300482Z"
    },
    "papermill": {
     "duration": 0.038671,
     "end_time": "2023-10-28T09:01:29.303456",
     "exception": false,
     "start_time": "2023-10-28T09:01:29.264785",
     "status": "completed"
    },
    "tags": []
   },
   "outputs": [
    {
     "data": {
      "text/html": [
       "<div>\n",
       "<style scoped>\n",
       "    .dataframe tbody tr th:only-of-type {\n",
       "        vertical-align: middle;\n",
       "    }\n",
       "\n",
       "    .dataframe tbody tr th {\n",
       "        vertical-align: top;\n",
       "    }\n",
       "\n",
       "    .dataframe thead th {\n",
       "        text-align: right;\n",
       "    }\n",
       "</style>\n",
       "<table border=\"1\" class=\"dataframe\">\n",
       "  <thead>\n",
       "    <tr style=\"text-align: right;\">\n",
       "      <th></th>\n",
       "      <th>HomePlanet</th>\n",
       "      <th>Transported</th>\n",
       "    </tr>\n",
       "  </thead>\n",
       "  <tbody>\n",
       "    <tr>\n",
       "      <th>0</th>\n",
       "      <td>1</td>\n",
       "      <td>0.427649</td>\n",
       "    </tr>\n",
       "    <tr>\n",
       "      <th>1</th>\n",
       "      <td>2</td>\n",
       "      <td>0.658846</td>\n",
       "    </tr>\n",
       "    <tr>\n",
       "      <th>2</th>\n",
       "      <td>3</td>\n",
       "      <td>0.523024</td>\n",
       "    </tr>\n",
       "  </tbody>\n",
       "</table>\n",
       "</div>"
      ],
      "text/plain": [
       "   HomePlanet  Transported\n",
       "0           1     0.427649\n",
       "1           2     0.658846\n",
       "2           3     0.523024"
      ]
     },
     "execution_count": 47,
     "metadata": {},
     "output_type": "execute_result"
    }
   ],
   "source": [
    "train[['HomePlanet', 'Transported']].groupby('HomePlanet', as_index = False).mean()"
   ]
  },
  {
   "cell_type": "code",
   "execution_count": 48,
   "id": "f6dab33d",
   "metadata": {
    "execution": {
     "iopub.execute_input": "2023-10-28T09:01:29.357357Z",
     "iopub.status.busy": "2023-10-28T09:01:29.356609Z",
     "iopub.status.idle": "2023-10-28T09:01:29.517863Z",
     "shell.execute_reply": "2023-10-28T09:01:29.517169Z"
    },
    "papermill": {
     "duration": 0.189742,
     "end_time": "2023-10-28T09:01:29.519490",
     "exception": false,
     "start_time": "2023-10-28T09:01:29.329748",
     "status": "completed"
    },
    "tags": []
   },
   "outputs": [
    {
     "data": {
      "text/plain": [
       "<Axes: xlabel='HomePlanet', ylabel='Transported'>"
      ]
     },
     "execution_count": 48,
     "metadata": {},
     "output_type": "execute_result"
    },
    {
     "data": {
      "image/png": "[encoded data removed]",
      "text/plain": [
       "<Figure size 640x480 with 1 Axes>"
      ]
     },
     "metadata": {},
     "output_type": "display_data"
    }
   ],
   "source": [
    "sns.barplot(x='HomePlanet', y='Transported', data=train, errorbar=None)"
   ]
  },
  {
   "cell_type": "markdown",
   "id": "df647a34",
   "metadata": {
    "papermill": {
     "duration": 0.024111,
     "end_time": "2023-10-28T09:01:29.568233",
     "exception": false,
     "start_time": "2023-10-28T09:01:29.544122",
     "status": "completed"
    },
    "tags": []
   },
   "source": [
    "## Destination vs Transported\n",
    "Влияния у этой фичи мало, но пассажиры, летящие в *55 Cancri e* имеют чуть большую вероятность транспортировки."
   ]
  },
  {
   "cell_type": "code",
   "execution_count": 49,
   "id": "0905f22a",
   "metadata": {
    "execution": {
     "iopub.execute_input": "2023-10-28T09:01:29.621086Z",
     "iopub.status.busy": "2023-10-28T09:01:29.620490Z",
     "iopub.status.idle": "2023-10-28T09:01:29.628000Z",
     "shell.execute_reply": "2023-10-28T09:01:29.626694Z"
    },
    "papermill": {
     "duration": 0.036421,
     "end_time": "2023-10-28T09:01:29.629725",
     "exception": false,
     "start_time": "2023-10-28T09:01:29.593304",
     "status": "completed"
    },
    "tags": []
   },
   "outputs": [
    {
     "data": {
      "text/plain": [
       "Destination\n",
       "1    6097\n",
       "2    1800\n",
       "3     796\n",
       "Name: count, dtype: int64"
      ]
     },
     "execution_count": 49,
     "metadata": {},
     "output_type": "execute_result"
    }
   ],
   "source": [
    "train.Destination.value_counts()"
   ]
  },
  {
   "cell_type": "code",
   "execution_count": 50,
   "id": "1b766382",
   "metadata": {
    "execution": {
     "iopub.execute_input": "2023-10-28T09:01:29.681543Z",
     "iopub.status.busy": "2023-10-28T09:01:29.681155Z",
     "iopub.status.idle": "2023-10-28T09:01:29.689869Z",
     "shell.execute_reply": "2023-10-28T09:01:29.689266Z"
    },
    "papermill": {
     "duration": 0.036512,
     "end_time": "2023-10-28T09:01:29.691431",
     "exception": false,
     "start_time": "2023-10-28T09:01:29.654919",
     "status": "completed"
    },
    "tags": []
   },
   "outputs": [
    {
     "data": {
      "text/plain": [
       "Destination  Transported\n",
       "1            False          3218\n",
       "             True           2879\n",
       "2            True           1098\n",
       "             False           702\n",
       "3            True            401\n",
       "             False           395\n",
       "Name: count, dtype: int64"
      ]
     },
     "execution_count": 50,
     "metadata": {},
     "output_type": "execute_result"
    }
   ],
   "source": [
    "train.groupby('Destination').Transported.value_counts()"
   ]
  },
  {
   "cell_type": "code",
   "execution_count": 51,
   "id": "5786d0d7",
   "metadata": {
    "execution": {
     "iopub.execute_input": "2023-10-28T09:01:29.746754Z",
     "iopub.status.busy": "2023-10-28T09:01:29.745923Z",
     "iopub.status.idle": "2023-10-28T09:01:29.758278Z",
     "shell.execute_reply": "2023-10-28T09:01:29.757349Z"
    },
    "papermill": {
     "duration": 0.041712,
     "end_time": "2023-10-28T09:01:29.760151",
     "exception": false,
     "start_time": "2023-10-28T09:01:29.718439",
     "status": "completed"
    },
    "tags": []
   },
   "outputs": [
    {
     "data": {
      "text/html": [
       "<div>\n",
       "<style scoped>\n",
       "    .dataframe tbody tr th:only-of-type {\n",
       "        vertical-align: middle;\n",
       "    }\n",
       "\n",
       "    .dataframe tbody tr th {\n",
       "        vertical-align: top;\n",
       "    }\n",
       "\n",
       "    .dataframe thead th {\n",
       "        text-align: right;\n",
       "    }\n",
       "</style>\n",
       "<table border=\"1\" class=\"dataframe\">\n",
       "  <thead>\n",
       "    <tr style=\"text-align: right;\">\n",
       "      <th></th>\n",
       "      <th>Destination</th>\n",
       "      <th>Transported</th>\n",
       "    </tr>\n",
       "  </thead>\n",
       "  <tbody>\n",
       "    <tr>\n",
       "      <th>0</th>\n",
       "      <td>1</td>\n",
       "      <td>0.472199</td>\n",
       "    </tr>\n",
       "    <tr>\n",
       "      <th>1</th>\n",
       "      <td>2</td>\n",
       "      <td>0.610000</td>\n",
       "    </tr>\n",
       "    <tr>\n",
       "      <th>2</th>\n",
       "      <td>3</td>\n",
       "      <td>0.503769</td>\n",
       "    </tr>\n",
       "  </tbody>\n",
       "</table>\n",
       "</div>"
      ],
      "text/plain": [
       "   Destination  Transported\n",
       "0            1     0.472199\n",
       "1            2     0.610000\n",
       "2            3     0.503769"
      ]
     },
     "execution_count": 51,
     "metadata": {},
     "output_type": "execute_result"
    }
   ],
   "source": [
    "train[['Destination', 'Transported']].groupby('Destination', as_index = False).mean()"
   ]
  },
  {
   "cell_type": "code",
   "execution_count": 52,
   "id": "2621c2d7",
   "metadata": {
    "execution": {
     "iopub.execute_input": "2023-10-28T09:01:29.812223Z",
     "iopub.status.busy": "2023-10-28T09:01:29.811848Z",
     "iopub.status.idle": "2023-10-28T09:01:29.981208Z",
     "shell.execute_reply": "2023-10-28T09:01:29.980322Z"
    },
    "papermill": {
     "duration": 0.197312,
     "end_time": "2023-10-28T09:01:29.983457",
     "exception": false,
     "start_time": "2023-10-28T09:01:29.786145",
     "status": "completed"
    },
    "tags": []
   },
   "outputs": [
    {
     "data": {
      "text/plain": [
       "<Axes: xlabel='Destination', ylabel='Transported'>"
      ]
     },
     "execution_count": 52,
     "metadata": {},
     "output_type": "execute_result"
    },
    {
     "data": {
      "image/png": "[encoded data removed]",
      "text/plain": [
       "<Figure size 640x480 with 1 Axes>"
      ]
     },
     "metadata": {},
     "output_type": "display_data"
    }
   ],
   "source": [
    "sns.barplot(x='Destination', y='Transported', data=train, errorbar=None)"
   ]
  },
  {
   "cell_type": "markdown",
   "id": "06a519ae",
   "metadata": {
    "papermill": {
     "duration": 0.026088,
     "end_time": "2023-10-28T09:01:30.036426",
     "exception": false,
     "start_time": "2023-10-28T09:01:30.010338",
     "status": "completed"
    },
    "tags": []
   },
   "source": [
    "## Age vs Transported"
   ]
  },
  {
   "cell_type": "code",
   "execution_count": 53,
   "id": "11c29730",
   "metadata": {
    "execution": {
     "iopub.execute_input": "2023-10-28T09:01:30.091403Z",
     "iopub.status.busy": "2023-10-28T09:01:30.090771Z",
     "iopub.status.idle": "2023-10-28T09:01:30.973741Z",
     "shell.execute_reply": "2023-10-28T09:01:30.972323Z"
    },
    "papermill": {
     "duration": 0.913654,
     "end_time": "2023-10-28T09:01:30.976181",
     "exception": false,
     "start_time": "2023-10-28T09:01:30.062527",
     "status": "completed"
    },
    "tags": []
   },
   "outputs": [
    {
     "data": {
      "text/plain": [
       "<Axes: xlabel='Destination', ylabel='Age'>"
      ]
     },
     "execution_count": 53,
     "metadata": {},
     "output_type": "execute_result"
    },
    {
     "data": {
      "image/png": "[encoded data removed]",
      "text/plain": [
       "<Figure size 1200x400 with 3 Axes>"
      ]
     },
     "metadata": {},
     "output_type": "display_data"
    }
   ],
   "source": [
    "fig = plt.figure(figsize=(12,4))\n",
    "ax1 = fig.add_subplot(131)\n",
    "ax2 = fig.add_subplot(132)\n",
    "ax3 = fig.add_subplot(133)\n",
    "\n",
    "\n",
    "sns.violinplot(x=\"HomePlanet\", y=\"Age\", hue=\"Transported\", data=train, split=True, ax=ax1)\n",
    "sns.violinplot(x=\"CryoSleep\", y=\"Age\", hue=\"Transported\", data=train, split=True, ax=ax2)\n",
    "sns.violinplot(x=\"Destination\", y=\"Age\", hue=\"Transported\", data=train, split=True, ax=ax3)"
   ]
  },
  {
   "cell_type": "markdown",
   "id": "87b98d76",
   "metadata": {
    "papermill": {
     "duration": 0.027228,
     "end_time": "2023-10-28T09:01:31.030472",
     "exception": false,
     "start_time": "2023-10-28T09:01:31.003244",
     "status": "completed"
    },
    "tags": []
   },
   "source": [
    "* С Земли были транспортировано чуть больше детей, чем не транспортировано\n",
    "* С Европы почти не было детей на борту, а те, что были - транспортированы\n",
    "* С Марса были транспортированы все дети до 10 лет\n",
    "\n",
    "* Дети, которые не были в анабиозе, преимущественно были транспортированы, а взрослые, наоборот, были транспортированы в чуть меньшем кол-ве\n",
    "* Дети, которые были в анабиозе, в меньшем кол-ве были танспортированы, а взрослые в большем\n",
    "\n",
    "* Пункт назначения по возрасту дает мало информации, графики схожи"
   ]
  },
  {
   "cell_type": "markdown",
   "id": "5d9d3a98",
   "metadata": {
    "papermill": {
     "duration": 0.025238,
     "end_time": "2023-10-28T09:01:31.081177",
     "exception": false,
     "start_time": "2023-10-28T09:01:31.055939",
     "status": "completed"
    },
    "tags": []
   },
   "source": [
    "## Deck vs Transported"
   ]
  },
  {
   "cell_type": "code",
   "execution_count": 54,
   "id": "fc3fb1e0",
   "metadata": {
    "execution": {
     "iopub.execute_input": "2023-10-28T09:01:31.132411Z",
     "iopub.status.busy": "2023-10-28T09:01:31.132085Z",
     "iopub.status.idle": "2023-10-28T09:01:31.139676Z",
     "shell.execute_reply": "2023-10-28T09:01:31.138670Z"
    },
    "papermill": {
     "duration": 0.035317,
     "end_time": "2023-10-28T09:01:31.141378",
     "exception": false,
     "start_time": "2023-10-28T09:01:31.106061",
     "status": "completed"
    },
    "tags": []
   },
   "outputs": [
    {
     "data": {
      "text/plain": [
       "Deck\n",
       "6    2993\n",
       "7    2559\n",
       "5     876\n",
       "2     779\n",
       "3     747\n",
       "4     478\n",
       "1     256\n",
       "8       5\n",
       "Name: count, dtype: int64"
      ]
     },
     "execution_count": 54,
     "metadata": {},
     "output_type": "execute_result"
    }
   ],
   "source": [
    "train.Deck.value_counts()"
   ]
  },
  {
   "cell_type": "code",
   "execution_count": 55,
   "id": "61baa090",
   "metadata": {
    "execution": {
     "iopub.execute_input": "2023-10-28T09:01:31.195011Z",
     "iopub.status.busy": "2023-10-28T09:01:31.194548Z",
     "iopub.status.idle": "2023-10-28T09:01:31.204243Z",
     "shell.execute_reply": "2023-10-28T09:01:31.203329Z"
    },
    "papermill": {
     "duration": 0.038462,
     "end_time": "2023-10-28T09:01:31.206131",
     "exception": false,
     "start_time": "2023-10-28T09:01:31.167669",
     "status": "completed"
    },
    "tags": []
   },
   "outputs": [
    {
     "data": {
      "text/plain": [
       "Deck  Transported\n",
       "1     False           129\n",
       "      True            127\n",
       "2     True            572\n",
       "      False           207\n",
       "3     True            508\n",
       "      False           239\n",
       "4     False           271\n",
       "      True            207\n",
       "5     False           563\n",
       "      True            313\n",
       "6     False          1664\n",
       "      True           1329\n",
       "7     True           1321\n",
       "      False          1238\n",
       "8     False             4\n",
       "      True              1\n",
       "Name: count, dtype: int64"
      ]
     },
     "execution_count": 55,
     "metadata": {},
     "output_type": "execute_result"
    }
   ],
   "source": [
    "train.groupby('Deck').Transported.value_counts()"
   ]
  },
  {
   "cell_type": "code",
   "execution_count": 56,
   "id": "483a55bb",
   "metadata": {
    "execution": {
     "iopub.execute_input": "2023-10-28T09:01:31.262125Z",
     "iopub.status.busy": "2023-10-28T09:01:31.261794Z",
     "iopub.status.idle": "2023-10-28T09:01:31.273228Z",
     "shell.execute_reply": "2023-10-28T09:01:31.272531Z"
    },
    "papermill": {
     "duration": 0.04067,
     "end_time": "2023-10-28T09:01:31.274897",
     "exception": false,
     "start_time": "2023-10-28T09:01:31.234227",
     "status": "completed"
    },
    "tags": []
   },
   "outputs": [
    {
     "data": {
      "text/html": [
       "<div>\n",
       "<style scoped>\n",
       "    .dataframe tbody tr th:only-of-type {\n",
       "        vertical-align: middle;\n",
       "    }\n",
       "\n",
       "    .dataframe tbody tr th {\n",
       "        vertical-align: top;\n",
       "    }\n",
       "\n",
       "    .dataframe thead th {\n",
       "        text-align: right;\n",
       "    }\n",
       "</style>\n",
       "<table border=\"1\" class=\"dataframe\">\n",
       "  <thead>\n",
       "    <tr style=\"text-align: right;\">\n",
       "      <th></th>\n",
       "      <th>Deck</th>\n",
       "      <th>Transported</th>\n",
       "    </tr>\n",
       "  </thead>\n",
       "  <tbody>\n",
       "    <tr>\n",
       "      <th>0</th>\n",
       "      <td>1</td>\n",
       "      <td>0.496094</td>\n",
       "    </tr>\n",
       "    <tr>\n",
       "      <th>1</th>\n",
       "      <td>2</td>\n",
       "      <td>0.734275</td>\n",
       "    </tr>\n",
       "    <tr>\n",
       "      <th>2</th>\n",
       "      <td>3</td>\n",
       "      <td>0.680054</td>\n",
       "    </tr>\n",
       "    <tr>\n",
       "      <th>3</th>\n",
       "      <td>4</td>\n",
       "      <td>0.433054</td>\n",
       "    </tr>\n",
       "    <tr>\n",
       "      <th>4</th>\n",
       "      <td>5</td>\n",
       "      <td>0.357306</td>\n",
       "    </tr>\n",
       "    <tr>\n",
       "      <th>5</th>\n",
       "      <td>6</td>\n",
       "      <td>0.444036</td>\n",
       "    </tr>\n",
       "    <tr>\n",
       "      <th>6</th>\n",
       "      <td>7</td>\n",
       "      <td>0.516217</td>\n",
       "    </tr>\n",
       "    <tr>\n",
       "      <th>7</th>\n",
       "      <td>8</td>\n",
       "      <td>0.200000</td>\n",
       "    </tr>\n",
       "  </tbody>\n",
       "</table>\n",
       "</div>"
      ],
      "text/plain": [
       "   Deck  Transported\n",
       "0     1     0.496094\n",
       "1     2     0.734275\n",
       "2     3     0.680054\n",
       "3     4     0.433054\n",
       "4     5     0.357306\n",
       "5     6     0.444036\n",
       "6     7     0.516217\n",
       "7     8     0.200000"
      ]
     },
     "execution_count": 56,
     "metadata": {},
     "output_type": "execute_result"
    }
   ],
   "source": [
    "train[['Deck', 'Transported']].groupby('Deck', as_index = False).mean()"
   ]
  },
  {
   "cell_type": "code",
   "execution_count": 57,
   "id": "c2c70f20",
   "metadata": {
    "execution": {
     "iopub.execute_input": "2023-10-28T09:01:31.331363Z",
     "iopub.status.busy": "2023-10-28T09:01:31.330272Z",
     "iopub.status.idle": "2023-10-28T09:01:31.563404Z",
     "shell.execute_reply": "2023-10-28T09:01:31.562509Z"
    },
    "papermill": {
     "duration": 0.262787,
     "end_time": "2023-10-28T09:01:31.565264",
     "exception": false,
     "start_time": "2023-10-28T09:01:31.302477",
     "status": "completed"
    },
    "tags": []
   },
   "outputs": [
    {
     "data": {
      "text/plain": [
       "<Axes: xlabel='Deck', ylabel='Transported'>"
      ]
     },
     "execution_count": 57,
     "metadata": {},
     "output_type": "execute_result"
    },
    {
     "data": {
      "image/png": "[encoded data removed]",
      "text/plain": [
       "<Figure size 640x480 with 1 Axes>"
      ]
     },
     "metadata": {},
     "output_type": "display_data"
    }
   ],
   "source": [
    "sns.barplot(x='Deck', y='Transported', data=train, errorbar=None)"
   ]
  },
  {
   "cell_type": "markdown",
   "id": "b274fb8d",
   "metadata": {
    "papermill": {
     "duration": 0.027664,
     "end_time": "2023-10-28T09:01:31.620382",
     "exception": false,
     "start_time": "2023-10-28T09:01:31.592718",
     "status": "completed"
    },
    "tags": []
   },
   "source": [
    "## Side vs Transported\n",
    "пассажиры, зашедшие с борта имеют чуть большие шансы на транспортировку, чем зашедшие с порта"
   ]
  },
  {
   "cell_type": "code",
   "execution_count": 58,
   "id": "058e9a6d",
   "metadata": {
    "execution": {
     "iopub.execute_input": "2023-10-28T09:01:31.675860Z",
     "iopub.status.busy": "2023-10-28T09:01:31.675091Z",
     "iopub.status.idle": "2023-10-28T09:01:31.681684Z",
     "shell.execute_reply": "2023-10-28T09:01:31.681116Z"
    },
    "papermill": {
     "duration": 0.036296,
     "end_time": "2023-10-28T09:01:31.683437",
     "exception": false,
     "start_time": "2023-10-28T09:01:31.647141",
     "status": "completed"
    },
    "tags": []
   },
   "outputs": [
    {
     "data": {
      "text/plain": [
       "Side\n",
       "1    4487\n",
       "2    4206\n",
       "Name: count, dtype: int64"
      ]
     },
     "execution_count": 58,
     "metadata": {},
     "output_type": "execute_result"
    }
   ],
   "source": [
    "train.Side.value_counts()"
   ]
  },
  {
   "cell_type": "code",
   "execution_count": 59,
   "id": "b615ae8c",
   "metadata": {
    "execution": {
     "iopub.execute_input": "2023-10-28T09:01:31.738845Z",
     "iopub.status.busy": "2023-10-28T09:01:31.738542Z",
     "iopub.status.idle": "2023-10-28T09:01:31.750172Z",
     "shell.execute_reply": "2023-10-28T09:01:31.748889Z"
    },
    "papermill": {
     "duration": 0.042038,
     "end_time": "2023-10-28T09:01:31.752063",
     "exception": false,
     "start_time": "2023-10-28T09:01:31.710025",
     "status": "completed"
    },
    "tags": []
   },
   "outputs": [
    {
     "data": {
      "text/html": [
       "<div>\n",
       "<style scoped>\n",
       "    .dataframe tbody tr th:only-of-type {\n",
       "        vertical-align: middle;\n",
       "    }\n",
       "\n",
       "    .dataframe tbody tr th {\n",
       "        vertical-align: top;\n",
       "    }\n",
       "\n",
       "    .dataframe thead th {\n",
       "        text-align: right;\n",
       "    }\n",
       "</style>\n",
       "<table border=\"1\" class=\"dataframe\">\n",
       "  <thead>\n",
       "    <tr style=\"text-align: right;\">\n",
       "      <th></th>\n",
       "      <th>Side</th>\n",
       "      <th>Transported</th>\n",
       "    </tr>\n",
       "  </thead>\n",
       "  <tbody>\n",
       "    <tr>\n",
       "      <th>0</th>\n",
       "      <td>1</td>\n",
       "      <td>0.552708</td>\n",
       "    </tr>\n",
       "    <tr>\n",
       "      <th>1</th>\n",
       "      <td>2</td>\n",
       "      <td>0.451260</td>\n",
       "    </tr>\n",
       "  </tbody>\n",
       "</table>\n",
       "</div>"
      ],
      "text/plain": [
       "   Side  Transported\n",
       "0     1     0.552708\n",
       "1     2     0.451260"
      ]
     },
     "execution_count": 59,
     "metadata": {},
     "output_type": "execute_result"
    }
   ],
   "source": [
    "train[['Side', 'Transported']].groupby('Side', as_index = False).mean()"
   ]
  },
  {
   "cell_type": "code",
   "execution_count": 60,
   "id": "c3c804d8",
   "metadata": {
    "execution": {
     "iopub.execute_input": "2023-10-28T09:01:31.810963Z",
     "iopub.status.busy": "2023-10-28T09:01:31.810588Z",
     "iopub.status.idle": "2023-10-28T09:01:31.986169Z",
     "shell.execute_reply": "2023-10-28T09:01:31.985281Z"
    },
    "papermill": {
     "duration": 0.207848,
     "end_time": "2023-10-28T09:01:31.987904",
     "exception": false,
     "start_time": "2023-10-28T09:01:31.780056",
     "status": "completed"
    },
    "tags": []
   },
   "outputs": [
    {
     "data": {
      "text/plain": [
       "<Axes: xlabel='Side', ylabel='Transported'>"
      ]
     },
     "execution_count": 60,
     "metadata": {},
     "output_type": "execute_result"
    },
    {
     "data": {
      "image/png": "[encoded data removed]",
      "text/plain": [
       "<Figure size 640x480 with 1 Axes>"
      ]
     },
     "metadata": {},
     "output_type": "display_data"
    }
   ],
   "source": [
    "sns.barplot(x='Side', y='Transported', data=train, errorbar=None)"
   ]
  },
  {
   "cell_type": "markdown",
   "id": "9414188a",
   "metadata": {
    "papermill": {
     "duration": 0.029153,
     "end_time": "2023-10-28T09:01:32.045224",
     "exception": false,
     "start_time": "2023-10-28T09:01:32.016071",
     "status": "completed"
    },
    "tags": []
   },
   "source": [
    "# Feature importance by Logistic Regression"
   ]
  },
  {
   "cell_type": "code",
   "execution_count": 61,
   "id": "a9ec9002",
   "metadata": {
    "execution": {
     "iopub.execute_input": "2023-10-28T09:01:32.103338Z",
     "iopub.status.busy": "2023-10-28T09:01:32.102709Z",
     "iopub.status.idle": "2023-10-28T09:01:32.112664Z",
     "shell.execute_reply": "2023-10-28T09:01:32.112058Z"
    },
    "papermill": {
     "duration": 0.041361,
     "end_time": "2023-10-28T09:01:32.114501",
     "exception": false,
     "start_time": "2023-10-28T09:01:32.073140",
     "status": "completed"
    },
    "tags": []
   },
   "outputs": [],
   "source": [
    "def feature_importances(df):\n",
    "        \n",
    "    X = df.drop('Transported', axis=1)\n",
    "    y = df[['Transported']]\n",
    "    \n",
    "    X_train, X_test, y_train, y_test = train_test_split(X, y, test_size = 0.25, random_state = 0)\n",
    "    \n",
    "    # Logistic Regression    \n",
    "    clf_lr = LogisticRegression(random_state = 0)\n",
    "    clf_lr.fit(X_train, y_train)\n",
    "    coef_lr = clf_lr.coef_[0]\n",
    "    \n",
    "    acc_train_lr = accuracy_score(y_true=y_train, y_pred=clf_lr.predict(X_train))\n",
    "    acc_test_lr = accuracy_score(y_true=y_test, y_pred=clf_lr.predict(X_test))\n",
    "    label_lr = f'Importance (LR abs), acc_train = {acc_train_lr:.2%}, acc_test = {acc_test_lr:.2%}'\n",
    "    \n",
    "    \n",
    "    # Random Forest\n",
    "    clf_rf = RandomForestClassifier(random_state = 0)\n",
    "    clf_rf.fit(X_train, y_train)\n",
    "    coef_rf = clf_rf.feature_importances_\n",
    "    \n",
    "    acc_train_rf = accuracy_score(y_true=y_train, y_pred=clf_rf.predict(X_train))\n",
    "    acc_test_rf = accuracy_score(y_true=y_test, y_pred=clf_rf.predict(X_test))\n",
    "    label_rf = f'Importance (LR abs), acc_train = {acc_train_rf:.2%}, acc_test = {acc_test_rf:.2%}'\n",
    "    \n",
    "    # CatBoost\n",
    "    clf_cat = CatBoostClassifier(random_state = 0)\n",
    "    clf_cat.fit(X_train, y_train, silent = True)\n",
    "    coef_cat = clf_cat.feature_importances_\n",
    "    \n",
    "    acc_train_cat = accuracy_score(y_true=y_train, y_pred=clf_cat.predict(X_train).astype(bool))\n",
    "    acc_test_cat = accuracy_score(y_true=y_test, y_pred=clf_cat.predict(X_test).astype(bool))\n",
    "    label_cat = f'Importance (LR abs), acc_train = {acc_train_cat:.2%}, acc_test = {acc_test_cat:.2%}'\n",
    "\n",
    "    print(acc_train_lr, acc_train_rf, acc_train_cat)\n",
    "    print(acc_test_lr, acc_test_rf, acc_test_cat)\n",
    "    \n",
    "    feauture_importances = pd.DataFrame({\n",
    "        'Feature': X.columns,\n",
    "        'LR': np.abs(coef_lr),\n",
    "        'RF': coef_rf,\n",
    "        'CatBoost': coef_cat\n",
    "    })\n",
    "    \n",
    "    feauture_importances = feauture_importances.sort_values(by = 'CatBoost', ascending=False)\n",
    "    \n",
    "    sc = MaxAbsScaler()\n",
    "    feauture_importances[['LR', 'RF', 'CatBoost']] = sc.fit_transform(feauture_importances[['LR', 'RF', 'CatBoost']])\n",
    "    \n",
    "    # Plot everything\n",
    "    \n",
    "    feauture_importances.plot(kind='bar', x='Feature')\n",
    "    \n",
    "#     ax = plt.bar(x=feauture_importances['Feature'], height=feauture_importances['Importance (LR abs)'], label = label_lr)\n",
    "#     plt.bar(x=feauture_importances['Feature'], height=feauture_importances['Importance (RF)'], label = label_rf, axes=ax)\n",
    "#     plt.bar(x=feauture_importances['Feature'], height=feauture_importances['Importance (Cat)'], label = label_cat, axes=ax)\n",
    "#     plt.show()\n",
    "    "
   ]
  },
  {
   "cell_type": "code",
   "execution_count": 62,
   "id": "87f75130",
   "metadata": {
    "execution": {
     "iopub.execute_input": "2023-10-28T09:01:32.173068Z",
     "iopub.status.busy": "2023-10-28T09:01:32.172677Z",
     "iopub.status.idle": "2023-10-28T09:01:36.708456Z",
     "shell.execute_reply": "2023-10-28T09:01:36.707624Z"
    },
    "papermill": {
     "duration": 4.567701,
     "end_time": "2023-10-28T09:01:36.710250",
     "exception": false,
     "start_time": "2023-10-28T09:01:32.142549",
     "status": "completed"
    },
    "tags": []
   },
   "outputs": [
    {
     "name": "stderr",
     "output_type": "stream",
     "text": [
      "/opt/conda/lib/python3.10/site-packages/sklearn/utils/validation.py:1143: DataConversionWarning: A column-vector y was passed when a 1d array was expected. Please change the shape of y to (n_samples, ), for example using ravel().\n",
      "  y = column_or_1d(y, warn=True)\n",
      "/opt/conda/lib/python3.10/site-packages/sklearn/linear_model/_logistic.py:458: ConvergenceWarning: lbfgs failed to converge (status=1):\n",
      "STOP: TOTAL NO. of ITERATIONS REACHED LIMIT.\n",
      "\n",
      "Increase the number of iterations (max_iter) or scale the data as shown in:\n",
      "    https://scikit-learn.org/stable/modules/preprocessing.html\n",
      "Please also refer to the documentation for alternative solver options:\n",
      "    https://scikit-learn.org/stable/modules/linear_model.html#logistic-regression\n",
      "  n_iter_i = _check_optimize_result(\n",
      "/tmp/ipykernel_20/101979587.py:20: DataConversionWarning: A column-vector y was passed when a 1d array was expected. Please change the shape of y to (n_samples,), for example using ravel().\n",
      "  clf_rf.fit(X_train, y_train)\n"
     ]
    },
    {
     "name": "stdout",
     "output_type": "stream",
     "text": [
      "0.7850897376898297 0.9993864089584292 0.503298051848443\n",
      "0.7865685372585096 0.7989880404783809 0.5045998160073597\n"
     ]
    },
    {
     "data": {
      "image/png": "[encoded data removed]",
      "text/plain": [
       "<Figure size 640x480 with 1 Axes>"
      ]
     },
     "metadata": {},
     "output_type": "display_data"
    }
   ],
   "source": [
    "feature_importances(train)"
   ]
  },
  {
   "cell_type": "code",
   "execution_count": 63,
   "id": "e88a8916",
   "metadata": {
    "execution": {
     "iopub.execute_input": "2023-10-28T09:01:36.766682Z",
     "iopub.status.busy": "2023-10-28T09:01:36.766359Z",
     "iopub.status.idle": "2023-10-28T09:01:36.981628Z",
     "shell.execute_reply": "2023-10-28T09:01:36.980668Z"
    },
    "papermill": {
     "duration": 0.245506,
     "end_time": "2023-10-28T09:01:36.983644",
     "exception": false,
     "start_time": "2023-10-28T09:01:36.738138",
     "status": "completed"
    },
    "tags": []
   },
   "outputs": [
    {
     "data": {
      "text/plain": [
       "<Axes: >"
      ]
     },
     "execution_count": 63,
     "metadata": {},
     "output_type": "execute_result"
    },
    {
     "data": {
      "image/png": "[encoded data removed]",
      "text/plain": [
       "<Figure size 640x480 with 1 Axes>"
      ]
     },
     "metadata": {},
     "output_type": "display_data"
    }
   ],
   "source": [
    "d = {\n",
    "    'TrainAcc': [0.7850897376898297, 0.9993864089584292, 0.503298051848443],\n",
    "    'TestAcc': [0.7865685372585096, 0.7989880404783809, 0.5045998160073597]\n",
    "}\n",
    "df_acc = pd.DataFrame(data=d)\n",
    "df_acc.plot.bar()"
   ]
  }
 ],
 "metadata": {
  "kernelspec": {
   "display_name": "Python 3",
   "language": "python",
   "name": "python3"
  },
  "language_info": {
   "codemirror_mode": {
    "name": "ipython",
    "version": 3
   },
   "file_extension": ".py",
   "mimetype": "text/x-python",
   "name": "python",
   "nbconvert_exporter": "python",
   "pygments_lexer": "ipython3",
   "version": "3.10.12"
  },
  "papermill": {
   "default_parameters": {},
   "duration": 26.286633,
   "end_time": "2023-10-28T09:01:37.631590",
   "environment_variables": {},
   "exception": null,
   "input_path": "__notebook__.ipynb",
   "output_path": "__notebook__.ipynb",
   "parameters": {},
   "start_time": "2023-10-28T09:01:11.344957",
   "version": "2.4.0"
  }
 },
 "nbformat": 4,
 "nbformat_minor": 5
}
