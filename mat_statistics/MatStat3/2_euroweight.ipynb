{
 "cells": [
  {
   "attachments": {
    "image.png": {
     "image/png": "[encoded data removed]"
    }
   },
   "cell_type": "markdown",
   "metadata": {},
   "source": [
    "![image.png](attachment:image.png)"
   ]
  },
  {
   "cell_type": "code",
   "execution_count": 2,
   "metadata": {},
   "outputs": [
    {
     "data": {
      "text/html": [
       "<div>\n",
       "<style scoped>\n",
       "    .dataframe tbody tr th:only-of-type {\n",
       "        vertical-align: middle;\n",
       "    }\n",
       "\n",
       "    .dataframe tbody tr th {\n",
       "        vertical-align: top;\n",
       "    }\n",
       "\n",
       "    .dataframe thead th {\n",
       "        text-align: right;\n",
       "    }\n",
       "</style>\n",
       "<table border=\"1\" class=\"dataframe\">\n",
       "  <thead>\n",
       "    <tr style=\"text-align: right;\">\n",
       "      <th></th>\n",
       "      <th>ID</th>\n",
       "      <th>weight</th>\n",
       "      <th>batch</th>\n",
       "    </tr>\n",
       "  </thead>\n",
       "  <tbody>\n",
       "    <tr>\n",
       "      <th>0</th>\n",
       "      <td>1</td>\n",
       "      <td>7.512</td>\n",
       "      <td>1</td>\n",
       "    </tr>\n",
       "    <tr>\n",
       "      <th>1</th>\n",
       "      <td>2</td>\n",
       "      <td>7.502</td>\n",
       "      <td>1</td>\n",
       "    </tr>\n",
       "    <tr>\n",
       "      <th>2</th>\n",
       "      <td>3</td>\n",
       "      <td>7.461</td>\n",
       "      <td>1</td>\n",
       "    </tr>\n",
       "    <tr>\n",
       "      <th>3</th>\n",
       "      <td>4</td>\n",
       "      <td>7.562</td>\n",
       "      <td>1</td>\n",
       "    </tr>\n",
       "    <tr>\n",
       "      <th>4</th>\n",
       "      <td>5</td>\n",
       "      <td>7.528</td>\n",
       "      <td>1</td>\n",
       "    </tr>\n",
       "  </tbody>\n",
       "</table>\n",
       "</div>"
      ],
      "text/plain": [
       "   ID  weight  batch\n",
       "0   1   7.512      1\n",
       "1   2   7.502      1\n",
       "2   3   7.461      1\n",
       "3   4   7.562      1\n",
       "4   5   7.528      1"
      ]
     },
     "execution_count": 2,
     "metadata": {},
     "output_type": "execute_result"
    }
   ],
   "source": [
    "import pandas as pd\n",
    "import scipy.stats as st\n",
    "\n",
    "cols = ['ID', 'weight', 'batch']\n",
    "df = pd.read_csv('datasets/euroweight.dat.txt', sep='\\t', header=None, names=cols)\n",
    "\n",
    "df.head()"
   ]
  },
  {
   "cell_type": "code",
   "execution_count": 3,
   "metadata": {},
   "outputs": [],
   "source": [
    "df1 = df.loc[(df['batch'] == 1)]\n",
    "df2 = df.loc[(df['batch'] == 2)]\n",
    "df3 = df.loc[(df['batch'] == 3)]\n",
    "df4 = df.loc[(df['batch'] == 4)]\n",
    "df5 = df.loc[(df['batch'] == 5)]\n",
    "df6 = df.loc[(df['batch'] == 6)]\n",
    "df7 = df.loc[(df['batch'] == 7)]\n",
    "df8 = df.loc[(df['batch'] == 8)]\n",
    "\n",
    "dfs = [df1['weight'], df2['weight'], df3['weight'], df4['weight'], df5['weight'], df6['weight'], df7['weight'], df8['weight']]"
   ]
  },
  {
   "cell_type": "markdown",
   "metadata": {},
   "source": [
    "### Проверка гипотезы о том, что среднее значение веса монеты одинаково в разных пакетах"
   ]
  },
  {
   "cell_type": "markdown",
   "metadata": {},
   "source": [
    "##### Все вместе (ANOVA test)\n",
    "Выборки независимы. \n",
    "\n",
    "Каждая выборка взята из нормально распределенной совокупности. \n",
    "\n",
    "Стандартные отклонения генеральной совокупности групп одинаковы.\n"
   ]
  },
  {
   "cell_type": "code",
   "execution_count": 4,
   "metadata": {},
   "outputs": [
    {
     "data": {
      "text/plain": [
       "F_onewayResult(statistic=6.626480855140188, pvalue=2.819221671104079e-05)"
      ]
     },
     "execution_count": 4,
     "metadata": {},
     "output_type": "execute_result"
    }
   ],
   "source": [
    "st.f_oneway(df1['weight'], df2['weight'], df4['weight'], df5['weight'], df7['weight']) "
   ]
  },
  {
   "cell_type": "code",
   "execution_count": 5,
   "metadata": {},
   "outputs": [
    {
     "data": {
      "text/plain": [
       "AlexanderGovernResult(statistic=27.3923422756099, pvalue=1.6558944569507707e-05)"
      ]
     },
     "execution_count": 5,
     "metadata": {},
     "output_type": "execute_result"
    }
   ],
   "source": [
    "# для норм распр\n",
    "st.alexandergovern(df1['weight'], df2['weight'], df4['weight'], df5['weight'], df7['weight']) "
   ]
  },
  {
   "cell_type": "markdown",
   "metadata": {},
   "source": [
    "Как видно из лаборатороной работы 2. Некоторые тесты отвергают гипотезу о том, \n",
    "что выборки 3, 6, 8 имеют нормальное распредление. Поэтому используем критерии Крускала "
   ]
  },
  {
   "cell_type": "code",
   "execution_count": 6,
   "metadata": {},
   "outputs": [
    {
     "data": {
      "text/plain": [
       "KruskalResult(statistic=97.49984084853487, pvalue=3.53927567965911e-18)"
      ]
     },
     "execution_count": 6,
     "metadata": {},
     "output_type": "execute_result"
    }
   ],
   "source": [
    "st.kruskal(df1['weight'], df2['weight'], df3['weight'], df4['weight'], df5['weight'], df6['weight'], df7['weight'], df8['weight'])"
   ]
  },
  {
   "cell_type": "markdown",
   "metadata": {},
   "source": [
    "##### Попарно\n",
    "для выборок с нормальным распределением - критерий Стьюдента\n",
    "\n",
    "для выборок с ненормальным распределнием - критерий Краскела_уолиса"
   ]
  },
  {
   "cell_type": "code",
   "execution_count": 11,
   "metadata": {},
   "outputs": [
    {
     "name": "stdout",
     "output_type": "stream",
     "text": [
      "Batches 1 2  + 0.2614778067901794\n",
      "Batches 1 3  - 0.002451695941628358\n",
      "Batches 1 4  - 7.245319251258255e-05\n",
      "Batches 1 5  - 4.9993849166524045e-05\n",
      "Batches 1 6  + 0.09589847140757135\n",
      "Batches 1 7  + 0.26532250649811384\n",
      "Batches 1 8  + 0.1931390834742316\n",
      "Batches 2 3  - 1.1777393255918882e-05\n",
      "Batches 2 4  - 0.006710009918197492\n",
      "Batches 2 5  - 0.00508142614345485\n",
      "Batches 2 6  - 0.002673724770406766\n",
      "Batches 2 7  + 0.9604636345373081\n",
      "Batches 2 8  - 0.00793774029020655\n",
      "Batches 3 4  - 2.895161347817367e-13\n",
      "Batches 3 5  - 9.230948098293432e-14\n",
      "Batches 3 6  + 0.18531337582534557\n",
      "Batches 3 7  - 5.4989377851270864e-06\n",
      "Batches 3 8  + 0.08169850050529158\n",
      "Batches 4 5  + 0.9119879969281968\n",
      "Batches 4 6  - 1.1508060030260168e-08\n",
      "Batches 4 7  - 0.003985016140890383\n",
      "Batches 4 8  - 5.911022845618001e-08\n",
      "Batches 5 6  - 6.703784131215897e-09\n",
      "Batches 5 7  - 0.002947951274138246\n",
      "Batches 5 8  - 2.9449637230792565e-08\n",
      "Batches 6 7  - 0.002384574054881288\n",
      "Batches 6 8  + 0.7027015199633142\n",
      "Batches 7 8  - 0.0068333776290464806\n"
     ]
    }
   ],
   "source": [
    "def get_(pval):\n",
    "    if pval < 0.05:\n",
    "        return \" -\"\n",
    "    else:\n",
    "        return \" +\"\n",
    "\n",
    "for i in range(len(dfs)):\n",
    "    for j in range(i+1, len(dfs)):\n",
    "        if i != 2 and j != 2 and i != 5 and j != 5 and i != 7 and j != 7: \n",
    "            print(\"Batches\", i+1, j+1, get_(st.ttest_ind(dfs[i], dfs[j]).pvalue), st.ttest_ind(dfs[i], dfs[j]).pvalue)\n",
    "        else:\n",
    "            print(\"Batches\", i+1, j+1, get_(st.kruskal(dfs[i], dfs[j]).pvalue), st.kruskal(dfs[i], dfs[j]).pvalue)\n",
    "        "
   ]
  }
 ],
 "metadata": {
  "kernelspec": {
   "display_name": "base",
   "language": "python",
   "name": "python3"
  },
  "language_info": {
   "codemirror_mode": {
    "name": "ipython",
    "version": 3
   },
   "file_extension": ".py",
   "mimetype": "text/x-python",
   "name": "python",
   "nbconvert_exporter": "python",
   "pygments_lexer": "ipython3",
   "version": "3.11.4"
  },
  "orig_nbformat": 4
 },
 "nbformat": 4,
 "nbformat_minor": 2
}
